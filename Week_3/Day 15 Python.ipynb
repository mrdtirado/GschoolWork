{
 "cells": [
  {
   "cell_type": "code",
   "execution_count": 239,
   "metadata": {},
   "outputs": [],
   "source": [
    "import numpy as np\n",
    "import random\n",
    "\n",
    "class RandomVariable:\n",
    "\n",
    "    def __init__(self, dict):\n",
    "        self.dict = dict\n",
    "\n",
    "    def sample(self):\n",
    "        '''\n",
    "        Returns a random variable e.g 3, 2, etc \n",
    "        '''\n",
    "        keys = list(self.dict.keys())\n",
    "        values = list(self.dict.values())\n",
    "        return np.random.choice(keys, 1, p = values)\n",
    "    \n",
    "    def sample_no_np(self):\n",
    "        total = 0 \n",
    "        random_val = random.random()\n",
    "        for k, v in self.dict.items():\n",
    "            total += v\n",
    "            if random_val <= total:\n",
    "                return k\n",
    "        \n",
    "    def all_outcomes(self):\n",
    "        print(self.dict.values())\n",
    "        return set(self.dict)\n",
    "    \n",
    "    def pmf(self, t):\n",
    "        t = str(t)\n",
    "        return self.dict.get(t)\n",
    "\n",
    "            "
   ]
  },
  {
   "cell_type": "code",
   "execution_count": 240,
   "metadata": {},
   "outputs": [],
   "source": [
    "die = {\"1\": 1/100, \"2\": 1/100, \"3\": 1/100, \"4\": 95/100, \"5\": 1/100, \"6\": 1/100 }"
   ]
  },
  {
   "cell_type": "code",
   "execution_count": 241,
   "metadata": {},
   "outputs": [],
   "source": [
    "die_rv = RandomVariable(die)"
   ]
  },
  {
   "cell_type": "code",
   "execution_count": 242,
   "metadata": {},
   "outputs": [
    {
     "data": {
      "text/plain": [
       "[0.01, 0.01, 0.01, 0.95, 0.01, 0.01]"
      ]
     },
     "execution_count": 242,
     "metadata": {},
     "output_type": "execute_result"
    }
   ],
   "source": [
    "list(die.values())"
   ]
  },
  {
   "cell_type": "code",
   "execution_count": 248,
   "metadata": {},
   "outputs": [
    {
     "data": {
      "text/plain": [
       "'4'"
      ]
     },
     "execution_count": 248,
     "metadata": {},
     "output_type": "execute_result"
    }
   ],
   "source": [
    "die_rv.sample_no_np()"
   ]
  },
  {
   "cell_type": "code",
   "execution_count": 247,
   "metadata": {},
   "outputs": [
    {
     "name": "stdout",
     "output_type": "stream",
     "text": [
      "['4']\n",
      "['4']\n",
      "['4']\n",
      "['4']\n",
      "['4']\n",
      "['4']\n",
      "['4']\n",
      "['4']\n",
      "['4']\n",
      "['4']\n",
      "['4']\n"
     ]
    }
   ],
   "source": [
    "print(die_rv.sample())\n",
    "print(die_rv.sample())\n",
    "print(die_rv.sample())\n",
    "print(die_rv.sample())\n",
    "print(die_rv.sample())\n",
    "print(die_rv.sample())\n",
    "print(die_rv.sample())\n",
    "print(die_rv.sample())\n",
    "print(die_rv.sample())\n",
    "print(die_rv.sample())\n",
    "print(die_rv.sample())\n",
    "\n"
   ]
  },
  {
   "cell_type": "code",
   "execution_count": 188,
   "metadata": {},
   "outputs": [
    {
     "data": {
      "text/plain": [
       "'5'"
      ]
     },
     "execution_count": 188,
     "metadata": {},
     "output_type": "execute_result"
    }
   ],
   "source": [
    "weighted(die)"
   ]
  }
 ],
 "metadata": {
  "kernelspec": {
   "display_name": "Python 3",
   "language": "python",
   "name": "python3"
  },
  "language_info": {
   "codemirror_mode": {
    "name": "ipython",
    "version": 3
   },
   "file_extension": ".py",
   "mimetype": "text/x-python",
   "name": "python",
   "nbconvert_exporter": "python",
   "pygments_lexer": "ipython3",
   "version": "3.6.7"
  }
 },
 "nbformat": 4,
 "nbformat_minor": 2
}
