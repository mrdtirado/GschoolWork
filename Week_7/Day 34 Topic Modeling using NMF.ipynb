{
 "cells": [
  {
   "cell_type": "code",
   "execution_count": 136,
   "metadata": {},
   "outputs": [],
   "source": [
    "import pandas as pd\n",
    "import numpy as np\n",
    "import matplotlib.pyplot as plt\n",
    "from sklearn.feature_extraction.text import TfidfVectorizer\n",
    "from sklearn.decomposition import NMF\n",
    "from sklearn.metrics import mean_squared_error"
   ]
  },
  {
   "cell_type": "markdown",
   "metadata": {},
   "source": [
    "Lecture: https://github.com/gSchool/DSI_Lectures/blob/master/topicmodeling/natalie_hunt/NMF_lecture_notes.ipynb\n",
    "\n",
    "Lecture: https://github.com/gSchool/DSI_Lectures/blob/master/topicmodeling/mark_llorente/Non-Negative%20Matrix%20Factorization.pdf\n",
    "\n",
    "Assignment: https://github.com/GalvanizeDataScience/topicmodeling/blob/master/assignment.md\n"
   ]
  },
  {
   "cell_type": "code",
   "execution_count": 10,
   "metadata": {},
   "outputs": [],
   "source": [
    "df_original = pd.read_pickle('/home/asus/G_school_lectures/Week_7_Lectures/topicmodeling/data/articles.pkl')"
   ]
  },
  {
   "cell_type": "code",
   "execution_count": 11,
   "metadata": {},
   "outputs": [],
   "source": [
    "df = df_original.copy()"
   ]
  },
  {
   "cell_type": "code",
   "execution_count": 12,
   "metadata": {},
   "outputs": [],
   "source": [
    "df = df['content']"
   ]
  },
  {
   "cell_type": "code",
   "execution_count": 25,
   "metadata": {},
   "outputs": [],
   "source": [
    "vectorizer = TfidfVectorizer(max_features = 5000)"
   ]
  },
  {
   "cell_type": "code",
   "execution_count": 54,
   "metadata": {},
   "outputs": [],
   "source": [
    "X = vectorizer.fit_transform(df).todense()"
   ]
  },
  {
   "cell_type": "code",
   "execution_count": 55,
   "metadata": {},
   "outputs": [
    {
     "data": {
      "text/plain": [
       "(1405, 5000)"
      ]
     },
     "execution_count": 55,
     "metadata": {},
     "output_type": "execute_result"
    }
   ],
   "source": [
    "X.shape"
   ]
  },
  {
   "cell_type": "code",
   "execution_count": 56,
   "metadata": {},
   "outputs": [
    {
     "name": "stdout",
     "output_type": "stream",
     "text": [
      "['000', '10', '100', '10th', '11', '11th', '12', '120', '13', '14', '14th', '15', '150', '16', '160', '17', '18', '18th', '19', '1938', '1950s', '1960s', '1963', '1966', '1968', '1970', '1970s', '1971', '1972', '1973', '1978', '1979', '1980', '1980s', '1982', '1985', '1987', '1990', '1990s', '1992', '1994', '1995', '1996', '1997', '1998', '1999', '19th', '20', '200', '2000', '2001', '2002', '2003', '2004', '2005', '2006', '2007', '2008', '2009', '2010', '2011', '2012', '2013', '2013an', '2014', '2015', '2016', '2017', '20th', '21', '212', '21st', '22', '23', '24', '25', '250', '26', '27', '28', '29', '30', '300', '31', '32', '33', '34', '35', '36', '37', '38', '39', '40', '400', '41', '42', '43', '44', '45', '46', '47', '48', '49', '49ers', '50', '500', '51', '52', '53', '54', '55', '56', '57', '58', '59', '60', '600', '61', '62', '63', '64', '65', '66', '67', '68', '69', '70', '700', '71', '72', '73', '74', '75', '77', '78', '80', '800', '81', '82', '83', '84', '85', '86', '90', '94', '95', '96', '98', 'aaron', 'abandon', 'abandoned', 'abc', 'abe', 'ability', 'able', 'aboard', 'abortion', 'about', 'abroad', 'absence', 'absolutely', 'absorbed', 'abstract', 'absurd', 'abuse', 'academic', 'academy', 'accept', 'acceptance', 'accepted', 'accepting', 'access', 'accessible', 'accident', 'accidental', 'accompanied', 'accomplish', 'accomplished', 'according', 'account', 'accountable', 'accounted', 'accusation', 'accused', 'accusing', 'ace', 'achieve', 'achieved', 'achievement', 'acknowledge', 'acknowledged', 'acquired', 'acre', 'across', 'act', 'acting', 'action', 'active', 'activist', 'activity', 'actor', 'actress', 'actual', 'actually', 'ad', 'adam', 'add', 'added', 'adding', 'addition', 'additional', 'address', 'addressed', 'addressing', 'adjust', 'adjusted', 'adjustment', 'administration', 'administrative', 'administrator', 'admission', 'admitted', 'adopted', 'adoption', 'adult', 'advance', 'advanced', 'advantage', 'advertiser', 'advertising', 'advice', 'adviser', 'advocacy', 'advocate', 'affair', 'affect', 'affected', 'afford', 'affordable', 'afghan', 'afghanistan', 'afraid', 'africa', 'african', 'after', 'aftermath', 'afternoon', 'afterward', 'again', 'against', 'age', 'agency', 'agenda', 'agent', 'aggregate', 'aggressive', 'aging', 'ago', 'agree', 'agreed', 'agreement', 'ahead', 'ahmad', 'ahmadinejad', 'aid', 'aide', 'aim', 'aimed', 'air', 'aircraft', 'airline', 'airplane', 'airport', 'airtex', 'al', 'alabama', 'alan', 'albert', 'album', 'alcohol', 'alderson', 'alert', 'alex', 'alexander', 'alexis', 'ali', 'alike', 'alitalia', 'alive', 'all', 'allegation', 'allen', 'alliance', 'allow', 'allowed', 'allowing', 'allows', 'ally', 'almost', 'alone', 'along', 'alongside', 'already', 'also', 'alternative', 'although', 'always', 'amateur', 'amazing', 'amazon', 'ambassador', 'ambition', 'ambitious', 'amc', 'amendment', 'america', 'american', 'americans', 'amid', 'among', 'amount', 'an', 'analysis', 'analyst', 'ancient', 'and', 'andrew', 'andy', 'angel', 'angela', 'angeles', 'anger', 'angle', 'angry', 'animal', 'ankle', 'ann', 'anna', 'anniversary', 'announce', 'announced', 'announcement', 'announcing', 'annual', 'annually', 'anonymity', 'another', 'answer', 'answered', 'anthony', 'anti', 'anticipated', 'antonio', 'anxiety', 'any', 'anybody', 'anymore', 'anyone', 'anything', 'anyway', 'anywhere', 'apart', 'apartment', 'apparel', 'apparent', 'apparently', 'appeal', 'appealing', 'appear', 'appearance', 'appeared', 'appearing', 'appears', 'apple', 'application', 'applied', 'apply', 'applying', 'appointed', 'appointment', 'appreciate', 'approach', 'approached', 'appropriate', 'approval', 'approve', 'approved', 'april', 'arab', 'arabia', 'architect', 'architecture', 'archway', 'arctic', 'are', 'area', 'aren', 'arena', 'argentina', 'argue', 'argued', 'arguing', 'argument', 'arizona', 'arkansas', 'arm', 'armed', 'army', 'around', 'arrangement', 'array', 'arrest', 'arrested', 'arrival', 'arrive', 'arrived', 'arsenal', 'art', 'article', 'artist', 'artistic', 'as', 'ash', 'ashley', 'asia', 'asian', 'aside', 'ask', 'asked', 'asking', 'asks', 'aspect', 'assad', 'assault', 'assembly', 'asserted', 'assertion', 'assessment', 'asset', 'assigned', 'assignment', 'assist', 'assistance', 'assistant', 'associate', 'associated', 'association', 'assume', 'assured', 'astros', 'asylum', 'at', 'athens', 'athlete', 'athletic', 'athletics', 'atlanta', 'atlantic', 'atlético', 'atmosphere', 'attached', 'attack', 'attacked', 'attacker', 'attacking', 'attempt', 'attempted', 'attend', 'attendance', 'attendant', 'attended', 'attending', 'attention', 'attitude', 'attorney', 'attract', 'attracted', 'attractive', 'attributed', 'auction', 'audience', 'aug', 'august', 'austerity', 'austin', 'australia', 'australian', 'author', 'authority', 'authorized', 'auto', 'automaker', 'automatic', 'automobile', 'automotive', 'available', 'avenue', 'average', 'averaged', 'aviation', 'avoid', 'award', 'awarded', 'aware', 'awareness', 'away', 'awkward', 'ayatollah', 'baa', 'baby', 'back', 'backed', 'background', 'backing', 'backup', 'bad', 'badly', 'bag', 'baghdad', 'bahrain', 'bailout', 'baker', 'balance', 'balanchine', 'bale', 'ball', 'ballad', 'ballet', 'ballot', 'ballpark', 'balthus', 'baltimore', 'ban', 'band', 'bangladesh', 'bank', 'banking', 'bankruptcy', 'banned', 'bar', 'barbara', 'barcelona', 'barclays', 'barely', 'barker', 'barrel', 'base', 'baseball', 'based', 'baseman', 'bashar', 'basic', 'basically', 'basis', 'basketball', 'bass', 'bat', 'bathroom', 'batted', 'batter', 'battery', 'batting', 'battle', 'bay', 'be', 'beach', 'bear', 'bearing', 'beat', 'beaten', 'beating', 'beautiful', 'beauty', 'became', 'because', 'become', 'becomes', 'becoming', 'bed', 'bedford', 'beer', 'before', 'began', 'begin', 'beginning', 'begun', 'behalf', 'behavior', 'behind', 'beijing', 'being', 'beirut', 'belgium', 'belief', 'believe', 'believed', 'bell', 'beloved', 'belt', 'ben', 'bench', 'benchmark', 'beneath', 'benefit', 'benjamin', 'berlant', 'berlin', 'berlusconi', 'berth', 'besides', 'best', 'bet', 'better', 'between', 'beyond', 'bible', 'bid', 'big', 'bigger', 'biggest', 'bill', 'billion', 'billionaire', 'billy', 'biological', 'bipartisan', 'bird', 'birth', 'birthday', 'bit', 'bitter', 'black', 'blackhawks', 'blame', 'blamed', 'blanc', 'blasio', 'blast', 'blatter', 'blew', 'blind', 'bloc', 'block', 'blocked', 'blog', 'blood', 'bloody', 'bloomberg', 'blow', 'blue', 'bmw', 'bo', 'board', 'boat', 'bob', 'bobby', 'body', 'boehner', 'boko', 'bold', 'bomb', 'bomber', 'bombing', 'bond', 'bone', 'bonus', 'book', 'boom', 'boost', 'boot', 'border', 'born', 'borrow', 'borrowing', 'bos', 'boston', 'both', 'bottle', 'bottom', 'bought', 'bound', 'boundary', 'bowen', 'bowl', 'box', 'boy', 'bp', 'brad', 'bradley', 'brady', 'brain', 'branch', 'brand', 'brandon', 'brave', 'brazil', 'brazilian', 'break', 'breakdown', 'breakfast', 'breaking', 'breakthrough', 'brett', 'brewer', 'brian', 'bridge', 'brief', 'briefly', 'bright', 'brilliant', 'bring', 'bringing', 'brings', 'britain', 'british', 'briton', 'broad', 'broadcast', 'broader', 'broadly', 'broadway', 'brodeur', 'broke', 'broken', 'bronco', 'bronx', 'brook', 'brooklyn', 'brother', 'brotherhood', 'brought', 'brown', 'bruce', 'brussels', 'brutal', 'bubble', 'buccaneer', 'buckley', 'buddhist', 'budget', 'buffalo', 'build', 'building', 'built', 'bulk', 'bull', 'bullet', 'bullpen', 'bullying', 'burden', 'bureau', 'burger', 'buried', 'burn', 'burned', 'burst', 'bus', 'bush', 'business', 'businessman', 'busy', 'but', 'button', 'buy', 'buyer', 'buying', 'by', 'cabinet', 'cable', 'cabrera', 'calatrava', 'calif', 'california', 'call', 'called', 'calling', 'calm', 'cambodia', 'came', 'camera', 'cameron', 'camp', 'campaign', 'campbell', 'campus', 'can', 'canada', 'canadian', 'canceled', 'cancer', 'candidate', 'cano', 'canvas', 'cap', 'capability', 'capable', 'capacity', 'capital', 'capitol', 'captain', 'capture', 'captured', 'capuano', 'car', 'carbon', 'card', 'cardinal', 'care', 'career', 'careful', 'carefully', 'carl', 'carlos', 'carnegie', 'carolina', 'carried', 'carrier', 'carry', 'carrying', 'carter', 'case', 'cash', 'cashman', 'cast', 'cat', 'catch', 'catcher', 'catching', 'category', 'catholic', 'caught', 'cause', 'caused', 'causing', 'caution', 'cautious', 'cave', 'cbs', 'ceiling', 'celebrate', 'celebrated', 'celebrating', 'celebration', 'celebrity', 'cell', 'cello', 'cellphone', 'census', 'cent', 'center', 'centered', 'centerpiece', 'central', 'century', 'ceremony', 'certain', 'certainly', 'chain', 'chair', 'chairman', 'challenge', 'challenged', 'challenger', 'challenging', 'chamber', 'champion', 'championship', 'chance', 'chancellor', 'chandler', 'change', 'changed', 'changing', 'channel', 'chant', 'chaos', 'chapter', 'character', 'charge', 'charged', 'charger', 'charging', 'charles', 'charlie', 'charm', 'charter', 'chase', 'cheap', 'check', 'checkpoint', 'cheer', 'chef', 'chelsea', 'chemical', 'chemistry', 'chen', 'chicago', 'chicken', 'chief', 'child', 'childhood', 'children', 'china', 'chinese', 'chip', 'choice', 'choose', 'choosing', 'choreographer', 'choreography', 'chorus', 'chose', 'chosen', 'chris', 'christian', 'christie', 'christmas', 'christopher', 'chronic', 'chrysler', 'chuck', 'church', 'chávez', 'cincinnati', 'circle', 'circuit', 'circumstance', 'cited', 'citigroup', 'citing', 'citizen', 'citizenship', 'city', 'civil', 'civilian', 'claim', 'claimed', 'claiming', 'claire', 'clark', 'clash', 'class', 'classic', 'classical', 'classified', 'classroom', 'clean', 'clear', 'cleared', 'clearly', 'clemens', 'cleveland', 'client', 'cliff', 'climate', 'clinic', 'clinical', 'clinton', 'clip', 'clock', 'close', 'closed', 'closely', 'closer', 'closest', 'closing', 'clothing', 'club', 'clubhouse', 'cnn', 'co', 'coach', 'coaching', 'coal', 'coalition', 'coast', 'cobb', 'coca', 'code', 'coffee', 'cohen', 'col', 'cola', 'cold', 'cole', 'colin', 'collaboration', 'collapse', 'collapsed', 'colleague', 'collect', 'collected', 'collecting', 'collection', 'collective', 'college', 'collins', 'colonel', 'color', 'colorado', 'colorful', 'colt', 'columbia', 'columbus', 'column', 'com', 'combat', 'combination', 'combined', 'comcast', 'come', 'comeback', 'comedy', 'comfort', 'comfortable', 'comic', 'coming', 'command', 'commander', 'comment', 'commentary', 'commentator', 'commerce', 'commercial', 'commission', 'commissioned', 'commissioner', 'commit', 'commitment', 'committed', 'committee', 'common', 'communicate', 'communication', 'communist', 'community', 'company', 'compare', 'compared', 'comparison', 'compelling', 'compensation', 'compete', 'competing', 'competition', 'competitive', 'competitor', 'complained', 'complaint', 'complete', 'completed', 'completely', 'complex', 'complexity', 'compliance', 'complicated', 'complication', 'comply', 'component', 'composer', 'compound', 'comprehensive', 'compromise', 'computer', 'concentration', 'concept', 'concern', 'concerned', 'concerning', 'concert', 'concession', 'concluded', 'conclusion', 'concrete', 'concussion', 'condemned', 'condition', 'conduct', 'conducted', 'conducting', 'conductor', 'conference', 'confidence', 'confident', 'confirm', 'confirmed', 'conflict', 'confrontation', 'congress', 'congressional', 'conn', 'connected', 'connecticut', 'connection', 'consecutive', 'consensus', 'consequence', 'conservation', 'conservative', 'consider', 'considerable', 'considerably', 'consideration', 'considered', 'considering', 'consistent', 'consistently', 'conspiracy', 'constant', 'constantly', 'constituent', 'constitution', 'constitutional', 'construction', 'consultant', 'consulting', 'consumer', 'consumption', 'contact', 'contain', 'contemporary', 'contender', 'content', 'contest', 'contested', 'context', 'continent', 'continue', 'continued', 'continues', 'continuing', 'contract', 'contractor', 'contrast', 'contribute', 'contributed', 'contribution', 'control', 'controlled', 'controversial', 'controversy', 'convention', 'conventional', 'conversation', 'converted', 'convey', 'convicted', 'conviction', 'convince', 'convinced', 'cook', 'cooking', 'cool', 'cooperation', 'coordinator', 'copy', 'copyright', 'core', 'cornell', 'corner', 'cornerback', 'corp', 'corporate', 'corporation', 'correct', 'correction', 'corrupt', 'corruption', 'cost', 'costa', 'costly', 'costume', 'coughlin', 'could', 'couldn', 'council', 'count', 'counter', 'counterpart', 'counterterrorism', 'countless', 'country', 'county', 'couple', 'courage', 'course', 'court', 'cousin', 'cover', 'coverage', 'covered', 'covering', 'cowboy', 'crack', 'crackdown', 'craig', 'crash', 'crazy', 'create', 'created', 'creates', 'creating', 'creation', 'creative', 'creator', 'credibility', 'credit', 'credited', 'creek', 'crew', 'crime', 'criminal', 'crisis', 'crisp', 'critic', 'critical', 'criticism', 'criticized', 'cross', 'crossed', 'crossing', 'crowd', 'crowded', 'crown', 'crucial', 'cruise', 'cruz', 'cry', 'cub', 'cuba', 'cuban', 'cuccinelli', 'cueto', 'cultural', 'culture', 'cup', 'curator', 'curb', 'curia', 'currency', 'current', 'currently', 'curtain', 'curtis', 'custody', 'customer', 'cut', 'cutting', 'cycle', 'cycling', 'daily', 'dallas', 'dalli', 'damage', 'damaged', 'damascus', 'dan', 'dance', 'danced', 'dancer', 'dancing', 'danger', 'dangerous', 'daniel', 'danny', 'dark', 'data', 'date', 'dating', 'daughter', 'david', 'davis', 'dawn', 'day', 'de', 'dead', 'deadline', 'deadly', 'deal', 'dealer', 'dealing', 'dean', 'death', 'debate', 'debt', 'debut', 'dec', 'decade', 'december', 'decide', 'decided', 'deciding', 'decision', 'decisive', 'declaration', 'declared', 'decline', 'declined', 'declining', 'decrease', 'dedicated', 'deemed', 'deep', 'deeper', 'deeply', 'default', 'defeat', 'defeated', 'defend', 'defendant', 'defended', 'defender', 'defending', 'defense', 'defensive', 'deficit', 'defined', 'definitely', 'definition', 'defund', 'degree', 'del', 'delay', 'delayed', 'delhi', 'delicate', 'deliver', 'delivered', 'delivery', 'delta', 'demand', 'demanded', 'demanding', 'democracy', 'democrat', 'democratic', 'demographic', 'demonstrate', 'demonstrated', 'demonstration', 'dengue', 'denied', 'dennis', 'denver', 'deny', 'department', 'departure', 'depend', 'depending', 'depth', 'deputy', 'derek', 'describe', 'described', 'describing', 'desert', 'deserve', 'design', 'designated', 'designed', 'designer', 'desire', 'desperate', 'despite', 'destination', 'destroy', 'destroyed', 'destruction', 'destructive', 'detail', 'detailed', 'detained', 'detainee', 'determination', 'determine', 'determined', 'detroit', 'devastating', 'develop', 'developed', 'developer', 'developing', 'development', 'device', 'devil', 'devoted', 'devotion', 'di', 'dialogue', 'did', 'didn', 'die', 'died', 'diego', 'difference', 'different', 'difficult', 'difficulty', 'digit', 'digital', 'dinner', 'dioxide', 'diplomacy', 'diplomat', 'diplomatic', 'direct', 'directed', 'direction', 'directly', 'director', 'dirty', 'disability', 'disabled', 'disappointed', 'disappointing', 'disappointment', 'disaster', 'disastrous', 'discipline', 'disclosed', 'disclosure', 'discovered', 'discovery', 'discrimination', 'discus', 'discussed', 'discussing', 'discussion', 'disease', 'dismantle', 'dismissed', 'disorder', 'display', 'dispute', 'disputed', 'distance', 'distinction', 'distributed', 'distribution', 'district', 'diverse', 'diversity', 'divide', 'divided', 'division', 'do', 'doctor', 'document', 'documentary', 'dodger', 'doesn', 'dog', 'dolan', 'doll', 'dollar', 'dolphin', 'domestic', 'dominant', 'dominated', 'don', 'donald', 'donation', 'done', 'donor', 'door', 'double', 'doubled', 'doubt', 'douglas', 'dow', 'down', 'downtown', 'dozen', 'dr', 'draft', 'drafted', 'drag', 'dragged', 'drake', 'drama', 'dramatic', 'draw', 'drawing', 'drawn', 'dream', 'dress', 'dressed', 'drew', 'drill', 'drilling', 'drink', 'drinking', 'drive', 'driven', 'driver', 'driving', 'drone', 'drop', 'dropped', 'dropping', 'drought', 'drove', 'drug', 'drum', 'drummer', 'due', 'duet', 'dugout', 'duke', 'duncan', 'duo', 'during', 'dutch', 'duty', 'dying', 'dylan', 'dynamic', 'dynasty', 'each', 'eager', 'eagle', 'earlier', 'early', 'earn', 'earned', 'earnings', 'earth', 'earthquake', 'ease', 'easier', 'easily', 'east', 'eastern', 'easy', 'eat', 'echo', 'economic', 'economically', 'economics', 'economist', 'economy', 'ed', 'edge', 'editing', 'edition', 'editor', 'editorial', 'educated', 'education', 'edward', 'effect', 'effective', 'effectively', 'efficiency', 'efficient', 'effort', 'egg', 'egypt', 'egyptian', 'eight', 'eighth', 'either', 'el', 'elderly', 'elected', 'election', 'electoral', 'electric', 'electricity', 'electronic', 'elegant', 'element', 'elementary', 'elephant', 'eli', 'eligible', 'eliminate', 'eliminated', 'elite', 'elizabeth', 'ellison', 'else', 'elsewhere', 'embassy', 'embrace', 'embraced', 'emerge', 'emerged', 'emergency', 'emerging', 'emirate', 'emission', 'emmy', 'emotion', 'emotional', 'emphasis', 'emphasized', 'empire', 'employed', 'employee', 'employer', 'employment', 'empty', 'encounter', 'encourage', 'encouraged', 'encouraging', 'end', 'ended', 'ending', 'endorsement', 'enemy', 'energy', 'enforce', 'enforcement', 'engage', 'engaged', 'engagement', 'engine', 'engineer', 'engineering', 'england', 'english', 'enjoy', 'enjoyed', 'enormous', 'enough', 'enrichment', 'ensemble', 'ensure', 'enter', 'entered', 'entering', 'enterprise', 'entertainment', 'enthusiasm', 'entire', 'entirely', 'entity', 'entrance', 'entrepreneur', 'entry', 'environment', 'environmental', 'episode', 'epstein', 'equal', 'equally', 'equipment', 'equity', 'equivalent', 'era', 'erdogan', 'eric', 'error', 'escape', 'escaped', 'especially', 'espn', 'essay', 'essential', 'essentially', 'establish', 'established', 'establishment', 'estate', 'estimate', 'estimated', 'ethnic', 'euro', 'europe', 'european', 'even', 'evening', 'event', 'eventually', 'ever', 'every', 'everybody', 'everyone', 'everything', 'everywhere', 'evidence', 'evident', 'evil', 'evolution', 'ex', 'exactly', 'examination', 'examine', 'example', 'excellent', 'except', 'exception', 'exceptional', 'exchange', 'exchanged', 'excited', 'excitement', 'exciting', 'excuse', 'execution', 'executive', 'exercise', 'exhibition', 'exile', 'exist', 'existence', 'existing', 'exit', 'expand', 'expanded', 'expanding', 'expansion', 'expect', 'expectation', 'expected', 'expects', 'expense', 'expensive', 'experience', 'experienced', 'experiment', 'expert', 'explain', 'explained', 'explains', 'explanation', 'exploration', 'explore', 'explosion', 'explosive', 'export', 'exposed', 'exposure', 'express', 'expressed', 'expression', 'extend', 'extended', 'extension', 'extensive', 'extent', 'extra', 'extract', 'extraordinary', 'extreme', 'extremely', 'extremism', 'extremist', 'exxon', 'eye', 'face', 'facebook', 'faced', 'facility', 'facing', 'fact', 'faction', 'factor', 'factory', 'faculty', 'fail', 'failed', 'failing', 'failure', 'fair', 'fairly', 'faith', 'fake', 'fall', 'fallen', 'falling', 'fallon', 'false', 'fame', 'familiar', 'family', 'famous', 'fan', 'fantasy', 'far', 'farewell', 'fargo', 'farm', 'farmer', 'fashion', 'fast', 'fastball', 'faster', 'fastest', 'fat', 'fate', 'father', 'fault', 'favor', 'favorite', 'fear', 'feared', 'feat', 'feature', 'featured', 'featuring', 'february', 'fed', 'federal', 'federation', 'fee', 'feed', 'feel', 'feeling', 'fell', 'fellow', 'felt', 'female', 'ferguson', 'festival', 'fever', 'fewer', 'fi', 'fiat', 'field', 'fielder', 'fierce', 'fifa', 'fifth', 'fight', 'fighter', 'fighting', 'figure', 'file', 'filed', 'filibuster', 'filing', 'fill', 'filled', 'filling', 'film', 'filmmaker', 'final', 'finale', 'finally', 'finance', 'financed', 'financial', 'financing', 'find', 'finding', 'fine', 'fined', 'finger', 'finish', 'finished', 'finishing', 'fire', 'firearm', 'fired', 'firm', 'first', 'fiscal', 'fish', 'fishing', 'fit', 'fitting', 'five', 'fix', 'fixed', 'fixing', 'fla', 'flag', 'flat', 'fled', 'fleet', 'flexibility', 'flight', 'flood', 'floor', 'florida', 'flow', 'fly', 'flying', 'focus', 'focused', 'focusing', 'folk', 'follow', 'followed', 'follower', 'following', 'follows', 'food', 'fool', 'foot', 'football', 'for', 'force', 'forced', 'forcing', 'ford', 'forecast', 'foreign', 'foreigner', 'forest', 'forever', 'forget', 'form', 'formal', 'formally', 'formed', 'former', 'formerly', 'formula', 'fort', 'forth', 'fortune', 'forum', 'forward', 'foster', 'fought', 'found', 'foundation', 'founded', 'founder', 'founding', 'four', 'fourth', 'fox', 'fragile', 'frame', 'framed', 'framework', 'france', 'franchise', 'francis', 'francisco', 'franco', 'frank', 'frankfurt', 'fraud', 'fred', 'freddie', 'free', 'freedom', 'french', 'frequent', 'frequently', 'fresh', 'friday', 'friend', 'friendly', 'from', 'front', 'fruit', 'frustrated', 'frustrating', 'frustration', 'fry', 'fuel', 'full', 'fully', 'fumble', 'fun', 'function', 'fund', 'fundamental', 'funding', 'funeral', 'funny', 'furlough', 'furloughed', 'future', 'gaborik', 'gain', 'gained', 'gala', 'gallery', 'gallon', 'game', 'gandhi', 'gang', 'gap', 'garden', 'garnett', 'gary', 'gas', 'gasoline', 'gate', 'gathered', 'gathering', 'gave', 'gay', 'gbagbo', 'gear', 'gem', 'gen', 'general', 'generally', 'generated', 'generation', 'geneva', 'genius', 'genocide', 'george', 'georgia', 'german', 'germany', 'gesture', 'get', 'getting', 'ghost', 'giant', 'giants', 'gift', 'gilbert', 'gilligan', 'girardi', 'girl', 'give', 'given', 'giving', 'glass', 'global', 'globe', 'glove', 'glow', 'go', 'goal', 'goalie', 'god', 'going', 'gold', 'golden', 'golf', 'gone', 'good', 'goodbye', 'google', 'got', 'gotten', 'gov', 'govern', 'governance', 'governing', 'government', 'governor', 'grab', 'grace', 'grade', 'gradually', 'graduate', 'graham', 'grand', 'grandchild', 'grandfather', 'grant', 'granted', 'grass', 'gray', 'great', 'greater', 'greatest', 'greece', 'greek', 'green', 'greenhouse', 'greenpeace', 'greenwood', 'greg', 'grew', 'gross', 'ground', 'group', 'grove', 'grow', 'growing', 'grown', 'growth', 'guarantee', 'guaranteed', 'guard', 'guess', 'guest', 'guidance', 'guide', 'guilty', 'guitar', 'gulf', 'gun', 'gunman', 'gut', 'guy', 'habit', 'haden', 'hagel', 'hague', 'hair', 'half', 'halftime', 'hall', 'halt', 'hamilton', 'hamstring', 'hand', 'handed', 'hander', 'handful', 'handle', 'handled', 'handling', 'handshake', 'hang', 'hanging', 'happen', 'happened', 'happening', 'happens', 'happy', 'haram', 'hard', 'harder', 'hardly', 'harm', 'harmony', 'harris', 'harry', 'harsh', 'harvard', 'harvey', 'hasn', 'hassan', 'hat', 'hate', 'haul', 'have', 'haven', 'having', 'hbo', 'he', 'head', 'headed', 'heading', 'headline', 'headquarters', 'health', 'healthy', 'hear', 'heard', 'hearing', 'heart', 'heat', 'heavily', 'heavy', 'height', 'held', 'helicopter', 'hell', 'helmet', 'helmsman', 'help', 'helped', 'helping', 'henry', 'her', 'here', 'heritage', 'hero', 'hidden', 'high', 'higher', 'highest', 'highlight', 'highly', 'highway', 'hill', 'hillary', 'him', 'hint', 'hip', 'hire', 'hired', 'hiring', 'his', 'hispanic', 'historian', 'historic', 'historical', 'history', 'hit', 'hitter', 'hitting', 'hockey', 'hold', 'holder', 'holding', 'hole', 'hollande', 'hollywood', 'holmes', 'holocaust', 'home', 'homeland', 'homeless', 'homer', 'homered', 'hometown', 'homicide', 'hong', 'honor', 'honored', 'hook', 'hop', 'hope', 'hoped', 'hopeful', 'hoping', 'horror', 'horse', 'hospital', 'host', 'hostage', 'hostel', 'hostile', 'hot', 'hotel', 'hour', 'house', 'household', 'housing', 'houston', 'how', 'however', 'hoyer', 'hub', 'hudson', 'huge', 'human', 'humanitarian', 'humanity', 'humble', 'humor', 'hundred', 'hung', 'hunger', 'hungry', 'hunt', 'hurdle', 'hurricane', 'hurt', 'husband', 'hussein', 'hybrid', 'ibrahim', 'ice', 'iceland', 'idea', 'ideal', 'identification', 'identified', 'identify', 'identity', 'ideological', 'if', 'ignore', 'ignored', 'ii', 'iii', 'ill', 'illegal', 'illegally', 'illinois', 'illness', 'image', 'imagination', 'imagine', 'immediate', 'immediately', 'immigrant', 'immigration', 'impact', 'impasse', 'implication', 'importance', 'important', 'impose', 'imposed', 'impossible', 'impression', 'impressive', 'improve', 'improved', 'improvement', 'improving', 'in', 'incentive', 'inch', 'incident', 'include', 'included', 'includes', 'including', 'income', 'increase', 'increased', 'increasing', 'increasingly', 'incredible', 'indeed', 'independence', 'independent', 'index', 'india', 'indian', 'indiana', 'indianapolis', 'indicated', 'indication', 'indiecade', 'individual', 'indonesia', 'industrial', 'industry', 'inevitable', 'inevitably', 'inflation', 'influence', 'influential', 'information', 'informed', 'infrastructure', 'ingredient', 'initial', 'initially', 'initiative', 'injured', 'injury', 'inmate', 'inning', 'innocent', 'innovation', 'inquiry', 'inside', 'insider', 'insight', 'insist', 'insisted', 'inspection', 'inspector', 'inspiration', 'inspired', 'installation', 'instance', 'instant', 'instead', 'institute', 'institution', 'instruction', 'instrument', 'insurance', 'insurer', 'insurgency', 'insurgent', 'integrated', 'intel', 'intellectual', 'intelligence', 'intended', 'intense', 'intensity', 'intent', 'intention', 'interactive', 'intercepted', 'interception', 'interest', 'interested', 'interesting', 'interior', 'internal', 'international', 'internet', 'internship', 'interpretation', 'interpreter', 'intervention', 'interview', 'interviewed', 'introduce', 'introduced', 'invest', 'invested', 'investigate', 'investigation', 'investigative', 'investigator', 'investing', 'investment', 'investor', 'invited', 'involve', 'involved', 'involvement', 'involves', 'involving', 'iran', 'iranian', 'iraq', 'iraqi', 'ireland', 'irish', 'ironside', 'is', 'islamic', 'islamist', 'island', 'islander', 'isn', 'isolated', 'israel', 'israeli', 'issue', 'issued', 'istanbul', 'it', 'italian', 'italy', 'item', 'ivory', 'jack', 'jacket', 'jackson', 'jacksonville', 'jacob', 'jail', 'jamal', 'james', 'jan', 'january', 'japan', 'japanese', 'jason', 'jay', 'jazz', 'jean', 'jeff', 'jeffrey', 'jennifer', 'jeremy', 'jerry', 'jersey', 'jerusalem', 'jesse', 'jessica', 'jet', 'jeter', 'jets', 'jew', 'jewish', 'jihadist', 'jim', 'jimmy', 'joan', 'job', 'joe', 'joel', 'john', 'johnny', 'johnson', 'join', 'joined', 'joining', 'joint', 'joke', 'jon', 'jonathan', 'jones', 'jordan', 'jose', 'joseph', 'josh', 'journal', 'journalism', 'journalist', 'journey', 'joy', 'jpmorgan', 'jr', 'juan', 'judge', 'judgment', 'judicial', 'july', 'jump', 'jumped', 'june', 'junior', 'jury', 'just', 'justice', 'justin', 'kabbalah', 'kane', 'kansa', 'kate', 'kathryn', 'keep', 'keeping', 'keith', 'kelly', 'ken', 'kennedy', 'kenneth', 'kentucky', 'kenya', 'kenyan', 'kenyatta', 'kept', 'kerpelman', 'kerry', 'kevin', 'key', 'khamenei', 'khan', 'kick', 'kid', 'kidd', 'kiffin', 'kill', 'killed', 'killer', 'killing', 'kim', 'kind', 'king', 'kingdom', 'kipsang', 'kissinger', 'kitchen', 'knee', 'knew', 'knicks', 'knife', 'know', 'knowing', 'knowledge', 'known', 'koch', 'koizumi', 'kong', 'korea', 'korean', 'kurdish', 'kurdistan', 'kurland', 'kyle', 'la', 'label', 'labor', 'labour', 'lack', 'lady', 'laid', 'lake', 'land', 'landed', 'landing', 'landmark', 'landscape', 'lane', 'language', 'lankster', 'lap', 'large', 'largely', 'larger', 'largest', 'larry', 'last', 'lasted', 'lasting', 'late', 'later', 'latest', 'latin', 'laugh', 'laura', 'law', 'lawmaker', 'lawsuit', 'lawyer', 'lay', 'layer', 'le', 'lead', 'leader', 'leadership', 'leading', 'leaf', 'league', 'leaked', 'lean', 'leaning', 'learn', 'learned', 'learning', 'least', 'leave', 'leaving', 'lebanon', 'lecture', 'led', 'lee', 'left', 'leg', 'legacy', 'legal', 'legislation', 'legislative', 'legislator', 'legislature', 'legitimate', 'length', 'lengthy', 'leon', 'lesson', 'let', 'letta', 'letter', 'letting', 'level', 'leverage', 'levine', 'levison', 'lew', 'lewis', 'li', 'liberal', 'liberty', 'library', 'libya', 'license', 'licensing', 'lie', 'life', 'lifetime', 'lift', 'lifted', 'lifting', 'light', 'like', 'liked', 'likely', 'limit', 'limited', 'lincoln', 'line', 'linebacker', 'lineman', 'liners', 'lineup', 'link', 'linked', 'lion', 'liriano', 'list', 'listed', 'listen', 'listening', 'listing', 'literature', 'little', 'live', 'lived', 'living', 'll', 'load', 'loaded', 'loan', 'lobbyist', 'local', 'location', 'lock', 'locked', 'locker', 'log', 'london', 'long', 'longer', 'longest', 'longoria', 'longstanding', 'longtime', 'look', 'looked', 'looking', 'looming', 'loose', 'lord', 'lorde', 'los', 'lose', 'losing', 'loss', 'lost', 'lot', 'lou', 'loud', 'louis', 'louisiana', 'love', 'loved', 'lover', 'low', 'lower', 'lowery', 'lowest', 'loyal', 'lt', 'lubovitch', 'lucas', 'luck', 'lucky', 'lunch', 'luxury', 'lying', 'lyric', 'macbain', 'machine', 'mad', 'made', 'madison', 'madrid', 'maduro', 'magazine', 'magic', 'magritte', 'mahmoud', 'mail', 'main', 'mainly', 'mainstream', 'maintain', 'maintained', 'maintenance', 'major', 'majority', 'make', 'maker', 'making', 'male', 'mali', 'mall', 'man', 'manage', 'managed', 'management', 'manager', 'managing', 'manchester', 'mandala', 'mandate', 'manhattan', 'manner', 'manning', 'manuel', 'manufacturer', 'manufacturing', 'many', 'map', 'marathon', 'march', 'margin', 'mariano', 'marine', 'mark', 'marked', 'market', 'marketing', 'marketplace', 'marriage', 'married', 'marshall', 'martin', 'mary', 'maryland', 'mask', 'mass', 'massachusetts', 'massacre', 'massive', 'master', 'masterpiece', 'match', 'matched', 'matchup', 'material', 'math', 'matt', 'matter', 'matthew', 'max', 'maximum', 'maxwell', 'may', 'maybe', 'mayor', 'mccarthy', 'mcconnell', 'mccutcheon', 'mcdonald', 'mclaren', 'me', 'meal', 'mean', 'meaning', 'meaningful', 'meant', 'meanwhile', 'measure', 'measured', 'medal', 'median', 'medicaid', 'medical', 'medicare', 'medication', 'medicine', 'medieval', 'medium', 'meese', 'meet', 'meeting', 'megawatt', 'member', 'memorial', 'memory', 'men', 'mental', 'mention', 'mentioned', 'menu', 'merchant', 'meredith', 'merely', 'merger', 'merkel', 'mess', 'message', 'met', 'metal', 'meter', 'method', 'metropolitan', 'mets', 'mexican', 'mexico', 'miami', 'michael', 'michelle', 'michigan', 'mid', 'middle', 'midnight', 'might', 'mike', 'mile', 'miliband', 'militant', 'military', 'militia', 'mill', 'miller', 'million', 'milwaukee', 'mind', 'minded', 'mine', 'mini', 'minimum', 'minister', 'ministry', 'minneapolis', 'minnesota', 'minor', 'minority', 'minute', 'misidentified', 'miss', 'missed', 'missile', 'missing', 'mission', 'mississippi', 'missouri', 'misstated', 'mistake', 'mitch', 'mitchell', 'mix', 'mixed', 'mo', 'mobile', 'model', 'moderate', 'modern', 'modest', 'mohammad', 'moment', 'momentum', 'monday', 'monetary', 'money', 'monica', 'monitor', 'monitoring', 'month', 'monthly', 'montreal', 'monument', 'mood', 'moody', 'moon', 'moore', 'moral', 'morale', 'more', 'morgan', 'morning', 'morsi', 'mortgage', 'moscow', 'mosquito', 'most', 'mostly', 'mother', 'motif', 'motion', 'motivated', 'motor', 'mound', 'mount', 'mountain', 'mounted', 'mouth', 'move', 'moved', 'movement', 'movie', 'moving', 'mr', 'mrs', 'ms', 'mubarak', 'much', 'muhammad', 'multiple', 'mumbai', 'munich', 'municipal', 'murder', 'murphy', 'murray', 'muscle', 'museum', 'music', 'musical', 'musician', 'muslim', 'must', 'mutual', 'my', 'myers', 'mysterious', 'mystery', 'nairobi', 'name', 'named', 'narrative', 'narrow', 'nation', 'national', 'nationalist', 'nationwide', 'native', 'natural', 'nature', 'naval', 'navy', 'nazi', 'nbc', 'ncis', 'neal', 'near', 'nearby', 'nearly', 'necessarily', 'necessary', 'neck', 'need', 'needed', 'negative', 'negotiate', 'negotiated', 'negotiating', 'negotiation', 'neighbor', 'neighborhood', 'neighboring', 'neil', 'neither', 'neo', 'nervous', 'net', 'netanyahu', 'netflix', 'netherlands', 'network', 'nevada', 'never', 'new', 'newly', 'newport', 'news', 'newspaper', 'newton', 'next', 'nice', 'nick', 'nicklaus', 'nielsen', 'niese', 'nigeria', 'night', 'nine', 'ninth', 'nixon', 'no', 'nobody', 'nod', 'noise', 'nominated', 'nomination', 'non', 'none', 'nonetheless', 'nonprofit', 'noon', 'nor', 'normal', 'normally', 'norman', 'north', 'northeast', 'northern', 'northwestern', 'norway', 'nose', 'not', 'notably', 'note', 'noted', 'nothing', 'notice', 'noticed', 'noting', 'notion', 'nov', 'nova', 'novel', 'november', 'now', 'npr', 'nuclear', 'number', 'numerous', 'nytimes', 'oakland', 'obama', 'obamacare', 'object', 'objection', 'objective', 'obligation', 'observer', 'obstacle', 'obtain', 'obvious', 'obviously', 'occasion', 'occasional', 'occasionally', 'occur', 'occurred', 'ocean', 'oct', 'october', 'odd', 'odds', 'of', 'off', 'offender', 'offense', 'offensive', 'offer', 'offered', 'offering', 'office', 'officer', 'official', 'officially', 'offshore', 'often', 'oh', 'ohio', 'oil', 'oklahoma', 'old', 'older', 'oldest', 'olympic', 'omar', 'omnicom', 'on', 'once', 'one', 'onegin', 'online', 'only', 'onstage', 'onto', 'op', 'open', 'opened', 'opener', 'opening', 'openly', 'opera', 'operate', 'operated', 'operates', 'operating', 'operation', 'operator', 'opinion', 'opponent', 'opportunity', 'oppose', 'opposed', 'opposing', 'opposite', 'opposition', 'optimism', 'optimistic', 'option', 'or', 'oracle', 'orchestra', 'order', 'ordered', 'ordinary', 'oregon', 'org', 'organization', 'organized', 'organizer', 'origin', 'original', 'originally', 'oriole', 'orleans', 'osborne', 'oscar', 'other', 'others', 'otherwise', 'our', 'out', 'outbreak', 'outcome', 'outfielder', 'outlet', 'outlook', 'output', 'outrage', 'outreach', 'outside', 'outstanding', 'ovation', 'over', 'overall', 'overcome', 'overhaul', 'overly', 'overnight', 'overseas', 'oversees', 'overtime', 'overture', 'overwhelming', 'owned', 'owner', 'ownership', 'owns', 'pa', 'pace', 'pacific', 'pack', 'package', 'packed', 'page', 'paid', 'pain', 'paint', 'painted', 'painting', 'pair', 'pakistan', 'pakistani', 'palestinian', 'panel', 'panelist', 'panther', 'paper', 'par', 'parade', 'parent', 'paris', 'park', 'parker', 'parking', 'parliament', 'parliamentary', 'part', 'partial', 'participant', 'participate', 'participated', 'participating', 'participation', 'particular', 'particularly', 'partisan', 'partly', 'partner', 'partnership', 'party', 'pas', 'pass', 'passage', 'passed', 'passenger', 'passing', 'passion', 'past', 'pat', 'patent', 'path', 'patience', 'patient', 'patrick', 'patriot', 'patrol', 'pattern', 'paul', 'pause', 'pay', 'paycheck', 'paying', 'payment', 'payroll', 'pb', 'peace', 'peaceful', 'peak', 'peer', 'penalty', 'pending', 'penn', 'pennsylvania', 'pension', 'pentagon', 'people', 'per', 'perceived', 'percent', 'percentage', 'perception', 'perez', 'perfect', 'perform', 'performance', 'performed', 'performer', 'performing', 'perhaps', 'period', 'permanent', 'permission', 'permit', 'permitted', 'perry', 'person', 'personal', 'personality', 'personally', 'personnel', 'perspective', 'persuaded', 'peshawar', 'pete', 'peter', 'petke', 'pettitte', 'pew', 'peyton', 'phase', 'phenomenon', 'phil', 'philadelphia', 'philharmonic', 'philip', 'philippine', 'phillies', 'phillips', 'phoenix', 'phone', 'photo', 'photograph', 'photographer', 'phrase', 'physical', 'physically', 'physician', 'pianist', 'piano', 'pick', 'picked', 'picking', 'picture', 'piece', 'pierce', 'pilot', 'pinch', 'pipeline', 'piracy', 'pirate', 'pit', 'pitch', 'pitched', 'pitcher', 'pitching', 'pittsburgh', 'place', 'placed', 'plain', 'plan', 'plane', 'planet', 'planned', 'planning', 'plant', 'plastic', 'plate', 'platform', 'play', 'played', 'player', 'players', 'playing', 'playoff', 'plea', 'pleaded', 'please', 'pleased', 'pledge', 'plenty', 'plot', 'plus', 'plutonium', 'pocket', 'poet', 'point', 'pointed', 'pointing', 'poised', 'police', 'policy', 'political', 'politically', 'politician', 'politics', 'poll', 'pollution', 'pool', 'poor', 'pop', 'pope', 'popular', 'popularity', 'population', 'populist', 'port', 'portion', 'portrait', 'portrayed', 'pose', 'position', 'positive', 'possession', 'possibility', 'possible', 'possibly', 'post', 'postal', 'posted', 'postponed', 'postseason', 'potential', 'potentially', 'pound', 'poverty', 'power', 'powerful', 'practical', 'practice', 'practiced', 'prairie', 'praise', 'praised', 'prayer', 'pre', 'precedent', 'precise', 'precisely', 'predecessor', 'predict', 'prefer', 'preliminary', 'premier', 'premiere', 'premium', 'preparation', 'prepare', 'prepared', 'preparing', 'prescription', 'preseason', 'presence', 'present', 'presentation', 'presented', 'preserve', 'presidency', 'president', 'presidential', 'press', 'pressed', 'pressing', 'pressure', 'presumably', 'pretty', 'prevent', 'prevented', 'preventing', 'prevention', 'previous', 'previously', 'price', 'pride', 'primarily', 'primary', 'prime', 'prince', 'princeton', 'principal', 'principle', 'print', 'printed', 'priority', 'prison', 'prisoner', 'privacy', 'private', 'privately', 'privilege', 'prix', 'prize', 'pro', 'probably', 'problem', 'procedure', 'proceeding', 'process', 'produce', 'produced', 'producer', 'producing', 'product', 'production', 'productive', 'professional', 'professor', 'profile', 'profit', 'profitable', 'program', 'programming', 'progress', 'prohibition', 'project', 'projected', 'projection', 'prolonged', 'prominent', 'promise', 'promised', 'promising', 'promote', 'promoted', 'promoter', 'promoting', 'prompted', 'prompting', 'prone', 'pronounced', 'proof', 'proper', 'properly', 'property', 'proportion', 'proposal', 'proposed', 'prosecuted', 'prosecution', 'prosecutor', 'prospect', 'prospective', 'prosperity', 'protect', 'protected', 'protecting', 'protection', 'protest', 'protester', 'proud', 'prove', 'proved', 'provide', 'provided', 'provider', 'provides', 'providing', 'province', 'provincial', 'provision', 'pryor', 'psychotherapy', 'public', 'publication', 'publicis', 'publicly', 'published', 'publisher', 'publishing', 'pull', 'pulled', 'pump', 'punishment', 'punt', 'purchase', 'pure', 'purpose', 'pursue', 'pursuit', 'push', 'pushed', 'pushing', 'put', 'putin', 'putting', 'qaeda', 'qatar', 'qualified', 'qualify', 'quality', 'quarter', 'quarterback', 'quarters', 'queen', 'quest', 'question', 'questioned', 'questioning', 'quick', 'quickly', 'quiet', 'quietly', 'quinn', 'quinoa', 'quite', 'quoted', 'rabbi', 'rabbl', 'race', 'racing', 'radical', 'radio', 'raider', 'rail', 'railroad', 'rain', 'raise', 'raised', 'raising', 'rallied', 'rally', 'ram', 'ran', 'range', 'ranger', 'ranging', 'rank', 'ranked', 'ranking', 'rapid', 'rapidly', 'rare', 'rarely', 'rate', 'rated', 'rather', 'rating', 'raw', 'ray', 'raymond', 're', 'reach', 'reached', 'reaching', 'reaction', 'reactor', 'read', 'reader', 'reading', 'ready', 'reagan', 'real', 'reality', 'realize', 'realized', 'really', 'reason', 'reasonable', 'rebel', 'rebellion', 'rebound', 'rebuild', 'rebuilding', 'recall', 'recalled', 'receive', 'received', 'receiver', 'receiving', 'recent', 'recently', 'reception', 'recession', 'recognition', 'recognize', 'recognized', 'recommended', 'record', 'recorded', 'recording', 'recover', 'recovered', 'recovering', 'recovery', 'recruit', 'recruiting', 'red', 'reduce', 'reduced', 'reducing', 'reduction', 'reed', 'reference', 'referred', 'referring', 'reflect', 'reflected', 'reflects', 'reform', 'refugee', 'refuse', 'refused', 'refusing', 'regard', 'regarding', 'regardless', 'regatta', 'regime', 'region', 'regional', 'register', 'registered', 'regret', 'regular', 'regularly', 'regulation', 'regulator', 'rehearsal', 'reid', 'reject', 'rejected', 'related', 'relation', 'relationship', 'relative', 'relatively', 'relaxed', 'release', 'released', 'relevant', 'reliable', 'relief', 'reliever', 'religion', 'religious', 'rely', 'remain', 'remained', 'remaining', 'remains', 'remark', 'remarkable', 'remember', 'remembered', 'reminded', 'reminder', 'remote', 'removed', 'renewable', 'renewed', 'renovation', 'rent', 'reopen', 'repeal', 'repeat', 'repeated', 'repeatedly', 'repercussion', 'replace', 'replaced', 'replacement', 'replied', 'report', 'reported', 'reportedly', 'reporter', 'reporting', 'represent', 'representative', 'represented', 'representing', 'represents', 'republic', 'republican', 'republicans', 'reputation', 'request', 'require', 'required', 'requirement', 'requires', 'requiring', 'rescue', 'research', 'researcher', 'reservation', 'reserve', 'resident', 'residential', 'resigned', 'resistance', 'resisted', 'resolution', 'resolve', 'resolved', 'resort', 'resource', 'respect', 'respond', 'responded', 'responding', 'response', 'responsibility', 'responsible', 'rest', 'restaurant', 'restore', 'restriction', 'result', 'resulted', 'resulting', 'retail', 'retailer', 'retain', 'retire', 'retired', 'retirement', 'retiring', 'retreat', 'return', 'returned', 'returning', 'reunion', 'reveal', 'revealed', 'revealing', 'revelation', 'revenue', 'reverse', 'review', 'revised', 'revival', 'revolution', 'revolutionary', 'reward', 'rhythm', 'rice', 'rich', 'richard', 'richardson', 'rick', 'rid', 'ride', 'riding', 'rifle', 'right', 'ring', 'rio', 'rise', 'risen', 'rising', 'risk', 'rival', 'rivalry', 'river', 'rivera', 'road', 'rob', 'robert', 'robin', 'robinson', 'robust', 'rock', 'rodham', 'rodriguez', 'roger', 'rogers', 'role', 'roll', 'rolled', 'rolling', 'roman', 'romance', 'romantic', 'rome', 'romney', 'ron', 'roof', 'rookie', 'room', 'root', 'rose', 'rosewood', 'ross', 'roster', 'rotation', 'rough', 'roughly', 'rouhani', 'round', 'route', 'routine', 'routinely', 'row', 'royal', 'royalty', 'rubio', 'rule', 'ruled', 'ruling', 'run', 'runner', 'running', 'rural', 'rush', 'rushed', 'rushing', 'russell', 'russia', 'russian', 'ryan', 'ryder', 'sabathia', 'sack', 'sacked', 'sacrifice', 'sad', 'safe', 'safety', 'said', 'sailor', 'saint', 'salary', 'sale', 'salmon', 'salt', 'sam', 'same', 'sample', 'sampling', 'san', 'sanction', 'sand', 'sandberg', 'sandy', 'sang', 'santa', 'santiago', 'sara', 'sarah', 'sat', 'satellite', 'saturday', 'saudi', 'save', 'saved', 'saving', 'savvy', 'saw', 'say', 'saying', 'scale', 'scandal', 'scene', 'schedule', 'scheduled', 'scheme', 'schneider', 'scholar', 'scholarship', 'school', 'science', 'scientific', 'scientist', 'scope', 'score', 'scored', 'scoring', 'scotland', 'scott', 'screen', 'script', 'scrutiny', 'sculpture', 'sea', 'sean', 'search', 'searching', 'season', 'seat', 'seattle', 'second', 'secondary', 'secret', 'secretary', 'sectarian', 'section', 'sector', 'secure', 'security', 'see', 'seeing', 'seek', 'seeking', 'seem', 'seemed', 'seemingly', 'seems', 'seen', 'seized', 'seizure', 'selected', 'selection', 'self', 'sell', 'selling', 'senate', 'senator', 'send', 'sending', 'senior', 'sense', 'sent', 'sentence', 'sentenced', 'sentiment', 'seoul', 'separate', 'separately', 'separation', 'sept', 'september', 'sequester', 'serf', 'sergeant', 'series', 'serious', 'seriously', 'servant', 'serve', 'served', 'service', 'serving', 'session', 'set', 'setback', 'setting', 'settle', 'settled', 'settlement', 'seven', 'seventh', 'several', 'severe', 'sewing', 'sex', 'sexual', 'shabab', 'shadow', 'shake', 'shale', 'shall', 'shanghai', 'shape', 'share', 'shared', 'shareholder', 'sharif', 'sharing', 'sharp', 'sharply', 'shaw', 'she', 'shell', 'shield', 'shift', 'shifted', 'shifting', 'shiite', 'ship', 'shipping', 'shirt', 'shock', 'shocked', 'shoe', 'shooting', 'shop', 'shopper', 'shopping', 'shore', 'short', 'shortly', 'shortstop', 'shot', 'should', 'shoulder', 'shouldn', 'shouted', 'show', 'showcase', 'showdown', 'showed', 'showing', 'shown', 'showtime', 'shut', 'shutdown', 'shutting', 'sick', 'side', 'sideline', 'sidelined', 'siege', 'sight', 'sign', 'signal', 'signaled', 'signature', 'signed', 'significance', 'significant', 'significantly', 'signing', 'silence', 'silent', 'silver', 'similar', 'similarly', 'simon', 'simple', 'simply', 'since', 'singapore', 'singer', 'singh', 'singing', 'single', 'singled', 'sister', 'sit', 'sitcom', 'site', 'sits', 'sitting', 'situation', 'six', 'sixth', 'size', 'skeptical', 'sketch', 'skill', 'skipper', 'sky', 'slaughter', 'slave', 'sleep', 'slide', 'slightly', 'slip', 'slipped', 'slow', 'slowed', 'slowly', 'small', 'smaller', 'smart', 'smartphones', 'smile', 'smith', 'smooth', 'snap', 'snee', 'snowden', 'so', 'soccer', 'social', 'society', 'soft', 'software', 'soil', 'solar', 'sold', 'soldier', 'solid', 'solo', 'solution', 'solve', 'somali', 'somalia', 'some', 'somebody', 'somehow', 'someone', 'something', 'sometimes', 'somewhat', 'somewhere', 'son', 'song', 'songwriter', 'sony', 'soon', 'sophisticated', 'soprano', 'sort', 'sought', 'soul', 'sound', 'sounded', 'source', 'south', 'southern', 'southwest', 'soviet', 'sox', 'space', 'spader', 'spain', 'spanish', 'speak', 'speaker', 'speaking', 'speaks', 'special', 'specialist', 'specie', 'specific', 'specifically', 'spectrum', 'speculation', 'speech', 'speed', 'spend', 'spending', 'spent', 'spieth', 'spill', 'spin', 'spirit', 'spithill', 'split', 'spoke', 'spoken', 'spokesman', 'spokeswoman', 'sponsor', 'sponsored', 'sponsorship', 'sport', 'spot', 'spotlight', 'sprained', 'spread', 'spring', 'spy', 'squad', 'square', 'sri', 'st', 'stability', 'stable', 'stadium', 'staff', 'stage', 'staged', 'stake', 'stamp', 'stance', 'stand', 'standard', 'standing', 'standoff', 'stanford', 'stanley', 'star', 'starring', 'start', 'started', 'starter', 'starting', 'state', 'stated', 'statement', 'states', 'statewide', 'station', 'statistic', 'statue', 'status', 'stay', 'stayed', 'staying', 'steady', 'steal', 'steel', 'steelers', 'stem', 'stenson', 'step', 'stephen', 'stepped', 'stepping', 'steve', 'steven', 'stewart', 'stick', 'still', 'stimulus', 'stock', 'stockpile', 'stolen', 'stone', 'stood', 'stop', 'stopgap', 'stopped', 'storage', 'store', 'storm', 'story', 'stoudemire', 'straight', 'strain', 'strained', 'strange', 'stranger', 'strategic', 'strategist', 'strategy', 'stray', 'streak', 'stream', 'streamed', 'street', 'strength', 'stress', 'stretch', 'stricker', 'strict', 'strike', 'strikeout', 'striker', 'striking', 'string', 'strip', 'stroke', 'strong', 'stronger', 'stronghold', 'strongly', 'struck', 'structural', 'structure', 'struggle', 'struggled', 'struggling', 'stuart', 'stuck', 'student', 'studied', 'studio', 'study', 'studying', 'stuff', 'stunning', 'style', 'subject', 'subsequent', 'subsidy', 'substance', 'substantial', 'suburb', 'suburban', 'succeed', 'succeeded', 'success', 'successful', 'successor', 'such', 'sudan', 'sudanese', 'sudden', 'suddenly', 'suffered', 'suffering', 'sugar', 'suggest', 'suggested', 'suggesting', 'suggests', 'suicide', 'suit', 'suite', 'summer', 'summit', 'summoned', 'sun', 'sunday', 'sunni', 'sunrise', 'super', 'superior', 'supplier', 'supply', 'support', 'supported', 'supporter', 'supporting', 'supposed', 'supreme', 'sure', 'surely', 'surface', 'surge', 'surgery', 'surprise', 'surprised', 'surprising', 'surprisingly', 'surrender', 'surrounded', 'surrounding', 'surveillance', 'survey', 'survive', 'survived', 'survivor', 'susan', 'suspect', 'suspected', 'suspended', 'suspension', 'suspicion', 'sustain', 'sustainable', 'sustained', 'sweden', 'sweep', 'sweeping', 'sweet', 'swept', 'swing', 'swisher', 'switch', 'symbol', 'sympathy', 'symphony', 'syria', 'syrian', 'system', 'table', 'tackle', 'tactic', 'take', 'taken', 'taking', 'tale', 'talent', 'talented', 'taliban', 'talk', 'talked', 'talking', 'tall', 'tamil', 'tampa', 'tank', 'tannehill', 'tape', 'target', 'targeted', 'task', 'taste', 'taught', 'tax', 'taylor', 'tea', 'teach', 'teacher', 'teaching', 'team', 'teammate', 'teams', 'tear', 'tech', 'technical', 'technically', 'technique', 'technology', 'ted', 'teenage', 'teenager', 'tehran', 'telephone', 'televised', 'television', 'tell', 'telling', 'temperature', 'temple', 'temporary', 'ten', 'tend', 'tennessee', 'tenor', 'tension', 'tent', 'tenure', 'term', 'terminal', 'terrible', 'territory', 'terrorism', 'terrorist', 'terry', 'test', 'tested', 'testimony', 'testing', 'tex', 'texan', 'texas', 'text', 'textile', 'than', 'thank', 'thanks', 'tharp', 'that', 'the', 'theater', 'their', 'them', 'theme', 'then', 'theory', 'there', 'therefore', 'these', 'they', 'thing', 'think', 'thinking', 'third', 'thirds', 'this', 'thomas', 'thompson', 'those', 'though', 'thought', 'thousand', 'threat', 'threaten', 'threatened', 'threatening', 'three', 'threw', 'through', 'throughout', 'throw', 'throwing', 'thrown', 'thumb', 'thursday', 'thus', 'tick', 'ticket', 'tide', 'tie', 'tied', 'tiger', 'tight', 'tim', 'time', 'times', 'timing', 'tiny', 'tip', 'tire', 'tired', 'titan', 'title', 'titled', 'to', 'tobacco', 'today', 'todd', 'together', 'tokyo', 'told', 'toll', 'tom', 'tomorrow', 'ton', 'tone', 'tonight', 'tony', 'too', 'took', 'tool', 'top', 'topic', 'topped', 'torn', 'toronto', 'total', 'totally', 'touch', 'touchdown', 'tough', 'tour', 'tourist', 'tournament', 'toward', 'tower', 'town', 'track', 'tracked', 'tracking', 'trade', 'traded', 'trading', 'tradition', 'traditional', 'traditionally', 'traffic', 'trafficking', 'tragedy', 'trail', 'train', 'trained', 'training', 'transfer', 'transit', 'transition', 'transparency', 'transport', 'transportation', 'trapped', 'travel', 'traveled', 'traveler', 'traveling', 'travis', 'treasury', 'treat', 'treated', 'treatment', 'treaty', 'tree', 'tremendous', 'trend', 'trial', 'tribal', 'tribe', 'tribute', 'tried', 'trigger', 'trillion', 'trip', 'triple', 'tristan', 'triumph', 'troop', 'trophy', 'trouble', 'troubled', 'troupe', 'truck', 'true', 'truly', 'trust', 'truth', 'try', 'trying', 'tuesday', 'tune', 'turf', 'turkey', 'turmoil', 'turn', 'turned', 'turner', 'turning', 'turnover', 'tv', 'twenty', 'twice', 'twin', 'twist', 'twitter', 'two', 'tyler', 'type', 'typhoon', 'typical', 'typically', 'udrih', 'ukraine', 'ultimate', 'ultimately', 'unable', 'uncertain', 'uncertainty', 'unclear', 'under', 'underground', 'undermine', 'understand', 'understanding', 'understands', 'understood', 'unemployed', 'unemployment', 'unexpected', 'unfortunately', 'unicycle', 'unified', 'uniform', 'uninsured', 'union', 'unique', 'unit', 'united', 'unity', 'universal', 'university', 'unless', 'unlike', 'unlikely', 'unnecessary', 'unpopular', 'unprecedented', 'until', 'unusual', 'up', 'upheld', 'upon', 'upper', 'uprising', 'upset', 'upward', 'uranium', 'urban', 'urge', 'urged', 'urgency', 'urgent', 'urging', 'us', 'usa', 'use', 'used', 'user', 'using', 'usual', 'usually', 'utah', 'utility', 'va', 'vaccine', 'valley', 'valuable', 'value', 'vampire', 'van', 'vancouver', 'variation', 'variety', 'various', 'vast', 'vatican', 've', 'vega', 'vegetable', 'vehicle', 'venezuela', 'venture', 'verdict', 'vernon', 'verse', 'version', 'versus', 'very', 'vessel', 'veteran', 'veto', 'vettel', 'via', 'viable', 'vibrant', 'vice', 'victim', 'victor', 'victory', 'video', 'vietnam', 'view', 'viewed', 'viewer', 'viewership', 'viewing', 'viking', 'village', 'violation', 'violence', 'violent', 'violin', 'virginia', 'virtually', 'virtue', 'visible', 'vision', 'visit', 'visited', 'visiting', 'visitor', 'visual', 'vital', 'vladimir', 'vocal', 'voice', 'volatile', 'volkswagen', 'volunteer', 'vote', 'voted', 'voter', 'voting', 'vowed', 'vs', 'vulnerable', 'wage', 'wait', 'waited', 'waiting', 'waiver', 'wake', 'walk', 'walked', 'walker', 'walking', 'wall', 'wallace', 'walt', 'walter', 'wang', 'want', 'wanted', 'war', 'ward', 'warfare', 'warm', 'warming', 'warn', 'warned', 'warner', 'warning', 'warrant', 'warren', 'wary', 'washington', 'wasn', 'waste', 'watch', 'watched', 'watching', 'water', 'wave', 'way', 'wayne', 'we', 'weak', 'weakness', 'wealth', 'wealthy', 'weapon', 'wear', 'wearing', 'weather', 'web', 'webb', 'wedding', 'wednesday', 'week', 'weekend', 'weekly', 'weight', 'welcome', 'welcomed', 'welfare', 'well', 'wendy', 'wenger', 'went', 'weren', 'west', 'western', 'westgate', 'what', 'whatever', 'wheel', 'wheelchair', 'wheelon', 'when', 'whenever', 'where', 'whether', 'which', 'while', 'white', 'who', 'whole', 'whose', 'why', 'wide', 'widely', 'wider', 'widespread', 'widow', 'wife', 'wild', 'wildlife', 'will', 'william', 'williams', 'willing', 'willingness', 'wilson', 'win', 'wind', 'window', 'wine', 'wing', 'winner', 'winning', 'winter', 'wire', 'wireless', 'wisconsin', 'wisdom', 'wish', 'with', 'withdraw', 'within', 'without', 'witness', 'witnessed', 'wolf', 'woman', 'women', 'won', 'wonder', 'wonderful', 'wood', 'wooden', 'woodson', 'word', 'wore', 'work', 'worked', 'worker', 'working', 'workplace', 'world', 'worldwide', 'worried', 'worry', 'worse', 'worst', 'worth', 'would', 'wouldn', 'wound', 'wounded', 'wounding', 'wpp', 'wright', 'write', 'writer', 'writes', 'writing', 'written', 'wrong', 'wrote', 'xi', 'xia', 'yacht', 'yale', 'yankee', 'yankees', 'yard', 'year', 'years', 'yellow', 'yemen', 'yes', 'yet', 'yield', 'york', 'you', 'young', 'younger', 'youngest', 'your', 'youth', 'youtube', 'zarif', 'zealand', 'zen', 'zero', 'zhou', 'zone', 'zoo', 'zorn']\n"
     ]
    }
   ],
   "source": [
    "print(vectorizer.get_feature_names())"
   ]
  },
  {
   "cell_type": "code",
   "execution_count": 57,
   "metadata": {},
   "outputs": [],
   "source": [
    "m, n = X.shape"
   ]
  },
  {
   "cell_type": "code",
   "execution_count": 59,
   "metadata": {},
   "outputs": [
    {
     "data": {
      "text/plain": [
       "(1405, 5000)"
      ]
     },
     "execution_count": 59,
     "metadata": {},
     "output_type": "execute_result"
    }
   ],
   "source": [
    "X.shape"
   ]
  },
  {
   "cell_type": "code",
   "execution_count": 141,
   "metadata": {},
   "outputs": [
    {
     "name": "stderr",
     "output_type": "stream",
     "text": [
      "/home/asus/.virtualenvs/gurus/lib/python3.6/site-packages/ipykernel_launcher.py:3: FutureWarning: `rcond` parameter will change to the default of machine precision times ``max(M, N)`` where M and N are the input matrix dimensions.\n",
      "To use the future default and silence this warning we advise to pass `rcond=None`, to keep using the old, explicitly pass `rcond=-1`.\n",
      "  This is separate from the ipykernel package so we can avoid doing imports until\n",
      "/home/asus/.virtualenvs/gurus/lib/python3.6/site-packages/ipykernel_launcher.py:6: FutureWarning: `rcond` parameter will change to the default of machine precision times ``max(M, N)`` where M and N are the input matrix dimensions.\n",
      "To use the future default and silence this warning we advise to pass `rcond=None`, to keep using the old, explicitly pass `rcond=-1`.\n",
      "  \n"
     ]
    },
    {
     "name": "stdout",
     "output_type": "stream",
     "text": [
      "0.00018865343550116928\n"
     ]
    },
    {
     "name": "stderr",
     "output_type": "stream",
     "text": [
      "/home/asus/.virtualenvs/gurus/lib/python3.6/site-packages/ipykernel_launcher.py:3: FutureWarning: `rcond` parameter will change to the default of machine precision times ``max(M, N)`` where M and N are the input matrix dimensions.\n",
      "To use the future default and silence this warning we advise to pass `rcond=None`, to keep using the old, explicitly pass `rcond=-1`.\n",
      "  This is separate from the ipykernel package so we can avoid doing imports until\n",
      "/home/asus/.virtualenvs/gurus/lib/python3.6/site-packages/ipykernel_launcher.py:6: FutureWarning: `rcond` parameter will change to the default of machine precision times ``max(M, N)`` where M and N are the input matrix dimensions.\n",
      "To use the future default and silence this warning we advise to pass `rcond=None`, to keep using the old, explicitly pass `rcond=-1`.\n",
      "  \n"
     ]
    },
    {
     "name": "stdout",
     "output_type": "stream",
     "text": [
      "0.00018450928685494525\n"
     ]
    },
    {
     "name": "stderr",
     "output_type": "stream",
     "text": [
      "/home/asus/.virtualenvs/gurus/lib/python3.6/site-packages/ipykernel_launcher.py:3: FutureWarning: `rcond` parameter will change to the default of machine precision times ``max(M, N)`` where M and N are the input matrix dimensions.\n",
      "To use the future default and silence this warning we advise to pass `rcond=None`, to keep using the old, explicitly pass `rcond=-1`.\n",
      "  This is separate from the ipykernel package so we can avoid doing imports until\n",
      "/home/asus/.virtualenvs/gurus/lib/python3.6/site-packages/ipykernel_launcher.py:6: FutureWarning: `rcond` parameter will change to the default of machine precision times ``max(M, N)`` where M and N are the input matrix dimensions.\n",
      "To use the future default and silence this warning we advise to pass `rcond=None`, to keep using the old, explicitly pass `rcond=-1`.\n",
      "  \n"
     ]
    },
    {
     "name": "stdout",
     "output_type": "stream",
     "text": [
      "0.00018229748621524945\n"
     ]
    },
    {
     "name": "stderr",
     "output_type": "stream",
     "text": [
      "/home/asus/.virtualenvs/gurus/lib/python3.6/site-packages/ipykernel_launcher.py:3: FutureWarning: `rcond` parameter will change to the default of machine precision times ``max(M, N)`` where M and N are the input matrix dimensions.\n",
      "To use the future default and silence this warning we advise to pass `rcond=None`, to keep using the old, explicitly pass `rcond=-1`.\n",
      "  This is separate from the ipykernel package so we can avoid doing imports until\n",
      "/home/asus/.virtualenvs/gurus/lib/python3.6/site-packages/ipykernel_launcher.py:6: FutureWarning: `rcond` parameter will change to the default of machine precision times ``max(M, N)`` where M and N are the input matrix dimensions.\n",
      "To use the future default and silence this warning we advise to pass `rcond=None`, to keep using the old, explicitly pass `rcond=-1`.\n",
      "  \n"
     ]
    },
    {
     "name": "stdout",
     "output_type": "stream",
     "text": [
      "0.0001813471871937146\n"
     ]
    },
    {
     "name": "stderr",
     "output_type": "stream",
     "text": [
      "/home/asus/.virtualenvs/gurus/lib/python3.6/site-packages/ipykernel_launcher.py:3: FutureWarning: `rcond` parameter will change to the default of machine precision times ``max(M, N)`` where M and N are the input matrix dimensions.\n",
      "To use the future default and silence this warning we advise to pass `rcond=None`, to keep using the old, explicitly pass `rcond=-1`.\n",
      "  This is separate from the ipykernel package so we can avoid doing imports until\n",
      "/home/asus/.virtualenvs/gurus/lib/python3.6/site-packages/ipykernel_launcher.py:6: FutureWarning: `rcond` parameter will change to the default of machine precision times ``max(M, N)`` where M and N are the input matrix dimensions.\n",
      "To use the future default and silence this warning we advise to pass `rcond=None`, to keep using the old, explicitly pass `rcond=-1`.\n",
      "  \n"
     ]
    },
    {
     "name": "stdout",
     "output_type": "stream",
     "text": [
      "0.00018087889315178033\n"
     ]
    },
    {
     "name": "stderr",
     "output_type": "stream",
     "text": [
      "/home/asus/.virtualenvs/gurus/lib/python3.6/site-packages/ipykernel_launcher.py:3: FutureWarning: `rcond` parameter will change to the default of machine precision times ``max(M, N)`` where M and N are the input matrix dimensions.\n",
      "To use the future default and silence this warning we advise to pass `rcond=None`, to keep using the old, explicitly pass `rcond=-1`.\n",
      "  This is separate from the ipykernel package so we can avoid doing imports until\n",
      "/home/asus/.virtualenvs/gurus/lib/python3.6/site-packages/ipykernel_launcher.py:6: FutureWarning: `rcond` parameter will change to the default of machine precision times ``max(M, N)`` where M and N are the input matrix dimensions.\n",
      "To use the future default and silence this warning we advise to pass `rcond=None`, to keep using the old, explicitly pass `rcond=-1`.\n",
      "  \n"
     ]
    },
    {
     "name": "stdout",
     "output_type": "stream",
     "text": [
      "0.0001806436447910098\n"
     ]
    },
    {
     "name": "stderr",
     "output_type": "stream",
     "text": [
      "/home/asus/.virtualenvs/gurus/lib/python3.6/site-packages/ipykernel_launcher.py:3: FutureWarning: `rcond` parameter will change to the default of machine precision times ``max(M, N)`` where M and N are the input matrix dimensions.\n",
      "To use the future default and silence this warning we advise to pass `rcond=None`, to keep using the old, explicitly pass `rcond=-1`.\n",
      "  This is separate from the ipykernel package so we can avoid doing imports until\n",
      "/home/asus/.virtualenvs/gurus/lib/python3.6/site-packages/ipykernel_launcher.py:6: FutureWarning: `rcond` parameter will change to the default of machine precision times ``max(M, N)`` where M and N are the input matrix dimensions.\n",
      "To use the future default and silence this warning we advise to pass `rcond=None`, to keep using the old, explicitly pass `rcond=-1`.\n",
      "  \n"
     ]
    },
    {
     "name": "stdout",
     "output_type": "stream",
     "text": [
      "0.0001805197186308103\n"
     ]
    },
    {
     "name": "stderr",
     "output_type": "stream",
     "text": [
      "/home/asus/.virtualenvs/gurus/lib/python3.6/site-packages/ipykernel_launcher.py:3: FutureWarning: `rcond` parameter will change to the default of machine precision times ``max(M, N)`` where M and N are the input matrix dimensions.\n",
      "To use the future default and silence this warning we advise to pass `rcond=None`, to keep using the old, explicitly pass `rcond=-1`.\n",
      "  This is separate from the ipykernel package so we can avoid doing imports until\n",
      "/home/asus/.virtualenvs/gurus/lib/python3.6/site-packages/ipykernel_launcher.py:6: FutureWarning: `rcond` parameter will change to the default of machine precision times ``max(M, N)`` where M and N are the input matrix dimensions.\n",
      "To use the future default and silence this warning we advise to pass `rcond=None`, to keep using the old, explicitly pass `rcond=-1`.\n",
      "  \n"
     ]
    },
    {
     "name": "stdout",
     "output_type": "stream",
     "text": [
      "0.0001804534613472195\n"
     ]
    },
    {
     "name": "stderr",
     "output_type": "stream",
     "text": [
      "/home/asus/.virtualenvs/gurus/lib/python3.6/site-packages/ipykernel_launcher.py:3: FutureWarning: `rcond` parameter will change to the default of machine precision times ``max(M, N)`` where M and N are the input matrix dimensions.\n",
      "To use the future default and silence this warning we advise to pass `rcond=None`, to keep using the old, explicitly pass `rcond=-1`.\n",
      "  This is separate from the ipykernel package so we can avoid doing imports until\n",
      "/home/asus/.virtualenvs/gurus/lib/python3.6/site-packages/ipykernel_launcher.py:6: FutureWarning: `rcond` parameter will change to the default of machine precision times ``max(M, N)`` where M and N are the input matrix dimensions.\n",
      "To use the future default and silence this warning we advise to pass `rcond=None`, to keep using the old, explicitly pass `rcond=-1`.\n",
      "  \n"
     ]
    },
    {
     "name": "stdout",
     "output_type": "stream",
     "text": [
      "0.00018041759742634143\n"
     ]
    },
    {
     "name": "stderr",
     "output_type": "stream",
     "text": [
      "/home/asus/.virtualenvs/gurus/lib/python3.6/site-packages/ipykernel_launcher.py:3: FutureWarning: `rcond` parameter will change to the default of machine precision times ``max(M, N)`` where M and N are the input matrix dimensions.\n",
      "To use the future default and silence this warning we advise to pass `rcond=None`, to keep using the old, explicitly pass `rcond=-1`.\n",
      "  This is separate from the ipykernel package so we can avoid doing imports until\n",
      "/home/asus/.virtualenvs/gurus/lib/python3.6/site-packages/ipykernel_launcher.py:6: FutureWarning: `rcond` parameter will change to the default of machine precision times ``max(M, N)`` where M and N are the input matrix dimensions.\n",
      "To use the future default and silence this warning we advise to pass `rcond=None`, to keep using the old, explicitly pass `rcond=-1`.\n",
      "  \n"
     ]
    },
    {
     "name": "stdout",
     "output_type": "stream",
     "text": [
      "0.00018039991774677287\n"
     ]
    },
    {
     "name": "stderr",
     "output_type": "stream",
     "text": [
      "/home/asus/.virtualenvs/gurus/lib/python3.6/site-packages/ipykernel_launcher.py:3: FutureWarning: `rcond` parameter will change to the default of machine precision times ``max(M, N)`` where M and N are the input matrix dimensions.\n",
      "To use the future default and silence this warning we advise to pass `rcond=None`, to keep using the old, explicitly pass `rcond=-1`.\n",
      "  This is separate from the ipykernel package so we can avoid doing imports until\n",
      "/home/asus/.virtualenvs/gurus/lib/python3.6/site-packages/ipykernel_launcher.py:6: FutureWarning: `rcond` parameter will change to the default of machine precision times ``max(M, N)`` where M and N are the input matrix dimensions.\n",
      "To use the future default and silence this warning we advise to pass `rcond=None`, to keep using the old, explicitly pass `rcond=-1`.\n",
      "  \n"
     ]
    },
    {
     "name": "stdout",
     "output_type": "stream",
     "text": [
      "0.00018039396454684145\n"
     ]
    },
    {
     "name": "stderr",
     "output_type": "stream",
     "text": [
      "/home/asus/.virtualenvs/gurus/lib/python3.6/site-packages/ipykernel_launcher.py:3: FutureWarning: `rcond` parameter will change to the default of machine precision times ``max(M, N)`` where M and N are the input matrix dimensions.\n",
      "To use the future default and silence this warning we advise to pass `rcond=None`, to keep using the old, explicitly pass `rcond=-1`.\n",
      "  This is separate from the ipykernel package so we can avoid doing imports until\n",
      "/home/asus/.virtualenvs/gurus/lib/python3.6/site-packages/ipykernel_launcher.py:6: FutureWarning: `rcond` parameter will change to the default of machine precision times ``max(M, N)`` where M and N are the input matrix dimensions.\n",
      "To use the future default and silence this warning we advise to pass `rcond=None`, to keep using the old, explicitly pass `rcond=-1`.\n",
      "  \n"
     ]
    },
    {
     "name": "stdout",
     "output_type": "stream",
     "text": [
      "0.00018039164619784086\n"
     ]
    },
    {
     "name": "stderr",
     "output_type": "stream",
     "text": [
      "/home/asus/.virtualenvs/gurus/lib/python3.6/site-packages/ipykernel_launcher.py:3: FutureWarning: `rcond` parameter will change to the default of machine precision times ``max(M, N)`` where M and N are the input matrix dimensions.\n",
      "To use the future default and silence this warning we advise to pass `rcond=None`, to keep using the old, explicitly pass `rcond=-1`.\n",
      "  This is separate from the ipykernel package so we can avoid doing imports until\n",
      "/home/asus/.virtualenvs/gurus/lib/python3.6/site-packages/ipykernel_launcher.py:6: FutureWarning: `rcond` parameter will change to the default of machine precision times ``max(M, N)`` where M and N are the input matrix dimensions.\n",
      "To use the future default and silence this warning we advise to pass `rcond=None`, to keep using the old, explicitly pass `rcond=-1`.\n",
      "  \n"
     ]
    },
    {
     "name": "stdout",
     "output_type": "stream",
     "text": [
      "0.00018039068029726457\n"
     ]
    },
    {
     "name": "stderr",
     "output_type": "stream",
     "text": [
      "/home/asus/.virtualenvs/gurus/lib/python3.6/site-packages/ipykernel_launcher.py:3: FutureWarning: `rcond` parameter will change to the default of machine precision times ``max(M, N)`` where M and N are the input matrix dimensions.\n",
      "To use the future default and silence this warning we advise to pass `rcond=None`, to keep using the old, explicitly pass `rcond=-1`.\n",
      "  This is separate from the ipykernel package so we can avoid doing imports until\n",
      "/home/asus/.virtualenvs/gurus/lib/python3.6/site-packages/ipykernel_launcher.py:6: FutureWarning: `rcond` parameter will change to the default of machine precision times ``max(M, N)`` where M and N are the input matrix dimensions.\n",
      "To use the future default and silence this warning we advise to pass `rcond=None`, to keep using the old, explicitly pass `rcond=-1`.\n",
      "  \n"
     ]
    },
    {
     "name": "stdout",
     "output_type": "stream",
     "text": [
      "0.0001803902960279574\n"
     ]
    },
    {
     "name": "stderr",
     "output_type": "stream",
     "text": [
      "/home/asus/.virtualenvs/gurus/lib/python3.6/site-packages/ipykernel_launcher.py:3: FutureWarning: `rcond` parameter will change to the default of machine precision times ``max(M, N)`` where M and N are the input matrix dimensions.\n",
      "To use the future default and silence this warning we advise to pass `rcond=None`, to keep using the old, explicitly pass `rcond=-1`.\n",
      "  This is separate from the ipykernel package so we can avoid doing imports until\n",
      "/home/asus/.virtualenvs/gurus/lib/python3.6/site-packages/ipykernel_launcher.py:6: FutureWarning: `rcond` parameter will change to the default of machine precision times ``max(M, N)`` where M and N are the input matrix dimensions.\n",
      "To use the future default and silence this warning we advise to pass `rcond=None`, to keep using the old, explicitly pass `rcond=-1`.\n",
      "  \n"
     ]
    },
    {
     "name": "stdout",
     "output_type": "stream",
     "text": [
      "0.00018039021083432613\n"
     ]
    },
    {
     "name": "stderr",
     "output_type": "stream",
     "text": [
      "/home/asus/.virtualenvs/gurus/lib/python3.6/site-packages/ipykernel_launcher.py:3: FutureWarning: `rcond` parameter will change to the default of machine precision times ``max(M, N)`` where M and N are the input matrix dimensions.\n",
      "To use the future default and silence this warning we advise to pass `rcond=None`, to keep using the old, explicitly pass `rcond=-1`.\n",
      "  This is separate from the ipykernel package so we can avoid doing imports until\n",
      "/home/asus/.virtualenvs/gurus/lib/python3.6/site-packages/ipykernel_launcher.py:6: FutureWarning: `rcond` parameter will change to the default of machine precision times ``max(M, N)`` where M and N are the input matrix dimensions.\n",
      "To use the future default and silence this warning we advise to pass `rcond=None`, to keep using the old, explicitly pass `rcond=-1`.\n",
      "  \n"
     ]
    },
    {
     "name": "stdout",
     "output_type": "stream",
     "text": [
      "0.00018039029587398829\n"
     ]
    },
    {
     "name": "stderr",
     "output_type": "stream",
     "text": [
      "/home/asus/.virtualenvs/gurus/lib/python3.6/site-packages/ipykernel_launcher.py:3: FutureWarning: `rcond` parameter will change to the default of machine precision times ``max(M, N)`` where M and N are the input matrix dimensions.\n",
      "To use the future default and silence this warning we advise to pass `rcond=None`, to keep using the old, explicitly pass `rcond=-1`.\n",
      "  This is separate from the ipykernel package so we can avoid doing imports until\n",
      "/home/asus/.virtualenvs/gurus/lib/python3.6/site-packages/ipykernel_launcher.py:6: FutureWarning: `rcond` parameter will change to the default of machine precision times ``max(M, N)`` where M and N are the input matrix dimensions.\n",
      "To use the future default and silence this warning we advise to pass `rcond=None`, to keep using the old, explicitly pass `rcond=-1`.\n",
      "  \n"
     ]
    },
    {
     "name": "stdout",
     "output_type": "stream",
     "text": [
      "0.00018039045545461513\n"
     ]
    },
    {
     "name": "stderr",
     "output_type": "stream",
     "text": [
      "/home/asus/.virtualenvs/gurus/lib/python3.6/site-packages/ipykernel_launcher.py:3: FutureWarning: `rcond` parameter will change to the default of machine precision times ``max(M, N)`` where M and N are the input matrix dimensions.\n",
      "To use the future default and silence this warning we advise to pass `rcond=None`, to keep using the old, explicitly pass `rcond=-1`.\n",
      "  This is separate from the ipykernel package so we can avoid doing imports until\n",
      "/home/asus/.virtualenvs/gurus/lib/python3.6/site-packages/ipykernel_launcher.py:6: FutureWarning: `rcond` parameter will change to the default of machine precision times ``max(M, N)`` where M and N are the input matrix dimensions.\n",
      "To use the future default and silence this warning we advise to pass `rcond=None`, to keep using the old, explicitly pass `rcond=-1`.\n",
      "  \n"
     ]
    },
    {
     "name": "stdout",
     "output_type": "stream",
     "text": [
      "0.00018039065263752413\n"
     ]
    },
    {
     "name": "stderr",
     "output_type": "stream",
     "text": [
      "/home/asus/.virtualenvs/gurus/lib/python3.6/site-packages/ipykernel_launcher.py:3: FutureWarning: `rcond` parameter will change to the default of machine precision times ``max(M, N)`` where M and N are the input matrix dimensions.\n",
      "To use the future default and silence this warning we advise to pass `rcond=None`, to keep using the old, explicitly pass `rcond=-1`.\n",
      "  This is separate from the ipykernel package so we can avoid doing imports until\n",
      "/home/asus/.virtualenvs/gurus/lib/python3.6/site-packages/ipykernel_launcher.py:6: FutureWarning: `rcond` parameter will change to the default of machine precision times ``max(M, N)`` where M and N are the input matrix dimensions.\n",
      "To use the future default and silence this warning we advise to pass `rcond=None`, to keep using the old, explicitly pass `rcond=-1`.\n",
      "  \n"
     ]
    },
    {
     "name": "stdout",
     "output_type": "stream",
     "text": [
      "0.0001803908761588097\n"
     ]
    },
    {
     "name": "stderr",
     "output_type": "stream",
     "text": [
      "/home/asus/.virtualenvs/gurus/lib/python3.6/site-packages/ipykernel_launcher.py:3: FutureWarning: `rcond` parameter will change to the default of machine precision times ``max(M, N)`` where M and N are the input matrix dimensions.\n",
      "To use the future default and silence this warning we advise to pass `rcond=None`, to keep using the old, explicitly pass `rcond=-1`.\n",
      "  This is separate from the ipykernel package so we can avoid doing imports until\n",
      "/home/asus/.virtualenvs/gurus/lib/python3.6/site-packages/ipykernel_launcher.py:6: FutureWarning: `rcond` parameter will change to the default of machine precision times ``max(M, N)`` where M and N are the input matrix dimensions.\n",
      "To use the future default and silence this warning we advise to pass `rcond=None`, to keep using the old, explicitly pass `rcond=-1`.\n",
      "  \n"
     ]
    },
    {
     "name": "stdout",
     "output_type": "stream",
     "text": [
      "0.000180391118553387\n"
     ]
    },
    {
     "name": "stderr",
     "output_type": "stream",
     "text": [
      "/home/asus/.virtualenvs/gurus/lib/python3.6/site-packages/ipykernel_launcher.py:3: FutureWarning: `rcond` parameter will change to the default of machine precision times ``max(M, N)`` where M and N are the input matrix dimensions.\n",
      "To use the future default and silence this warning we advise to pass `rcond=None`, to keep using the old, explicitly pass `rcond=-1`.\n",
      "  This is separate from the ipykernel package so we can avoid doing imports until\n",
      "/home/asus/.virtualenvs/gurus/lib/python3.6/site-packages/ipykernel_launcher.py:6: FutureWarning: `rcond` parameter will change to the default of machine precision times ``max(M, N)`` where M and N are the input matrix dimensions.\n",
      "To use the future default and silence this warning we advise to pass `rcond=None`, to keep using the old, explicitly pass `rcond=-1`.\n",
      "  \n"
     ]
    },
    {
     "name": "stdout",
     "output_type": "stream",
     "text": [
      "0.00018039137572401195\n"
     ]
    },
    {
     "name": "stderr",
     "output_type": "stream",
     "text": [
      "/home/asus/.virtualenvs/gurus/lib/python3.6/site-packages/ipykernel_launcher.py:3: FutureWarning: `rcond` parameter will change to the default of machine precision times ``max(M, N)`` where M and N are the input matrix dimensions.\n",
      "To use the future default and silence this warning we advise to pass `rcond=None`, to keep using the old, explicitly pass `rcond=-1`.\n",
      "  This is separate from the ipykernel package so we can avoid doing imports until\n",
      "/home/asus/.virtualenvs/gurus/lib/python3.6/site-packages/ipykernel_launcher.py:6: FutureWarning: `rcond` parameter will change to the default of machine precision times ``max(M, N)`` where M and N are the input matrix dimensions.\n",
      "To use the future default and silence this warning we advise to pass `rcond=None`, to keep using the old, explicitly pass `rcond=-1`.\n",
      "  \n"
     ]
    },
    {
     "name": "stdout",
     "output_type": "stream",
     "text": [
      "0.00018039164311498844\n"
     ]
    },
    {
     "name": "stderr",
     "output_type": "stream",
     "text": [
      "/home/asus/.virtualenvs/gurus/lib/python3.6/site-packages/ipykernel_launcher.py:3: FutureWarning: `rcond` parameter will change to the default of machine precision times ``max(M, N)`` where M and N are the input matrix dimensions.\n",
      "To use the future default and silence this warning we advise to pass `rcond=None`, to keep using the old, explicitly pass `rcond=-1`.\n",
      "  This is separate from the ipykernel package so we can avoid doing imports until\n",
      "/home/asus/.virtualenvs/gurus/lib/python3.6/site-packages/ipykernel_launcher.py:6: FutureWarning: `rcond` parameter will change to the default of machine precision times ``max(M, N)`` where M and N are the input matrix dimensions.\n",
      "To use the future default and silence this warning we advise to pass `rcond=None`, to keep using the old, explicitly pass `rcond=-1`.\n",
      "  \n"
     ]
    },
    {
     "name": "stdout",
     "output_type": "stream",
     "text": [
      "0.000180391913763768\n"
     ]
    },
    {
     "name": "stderr",
     "output_type": "stream",
     "text": [
      "/home/asus/.virtualenvs/gurus/lib/python3.6/site-packages/ipykernel_launcher.py:3: FutureWarning: `rcond` parameter will change to the default of machine precision times ``max(M, N)`` where M and N are the input matrix dimensions.\n",
      "To use the future default and silence this warning we advise to pass `rcond=None`, to keep using the old, explicitly pass `rcond=-1`.\n",
      "  This is separate from the ipykernel package so we can avoid doing imports until\n",
      "/home/asus/.virtualenvs/gurus/lib/python3.6/site-packages/ipykernel_launcher.py:6: FutureWarning: `rcond` parameter will change to the default of machine precision times ``max(M, N)`` where M and N are the input matrix dimensions.\n",
      "To use the future default and silence this warning we advise to pass `rcond=None`, to keep using the old, explicitly pass `rcond=-1`.\n",
      "  \n"
     ]
    },
    {
     "name": "stdout",
     "output_type": "stream",
     "text": [
      "0.00018039218862067613\n"
     ]
    },
    {
     "name": "stderr",
     "output_type": "stream",
     "text": [
      "/home/asus/.virtualenvs/gurus/lib/python3.6/site-packages/ipykernel_launcher.py:3: FutureWarning: `rcond` parameter will change to the default of machine precision times ``max(M, N)`` where M and N are the input matrix dimensions.\n",
      "To use the future default and silence this warning we advise to pass `rcond=None`, to keep using the old, explicitly pass `rcond=-1`.\n",
      "  This is separate from the ipykernel package so we can avoid doing imports until\n",
      "/home/asus/.virtualenvs/gurus/lib/python3.6/site-packages/ipykernel_launcher.py:6: FutureWarning: `rcond` parameter will change to the default of machine precision times ``max(M, N)`` where M and N are the input matrix dimensions.\n",
      "To use the future default and silence this warning we advise to pass `rcond=None`, to keep using the old, explicitly pass `rcond=-1`.\n",
      "  \n"
     ]
    },
    {
     "name": "stdout",
     "output_type": "stream",
     "text": [
      "0.0001803924579385235\n"
     ]
    }
   ],
   "source": [
    "W = np.random.rand(1405,5)\n",
    "for i in range(25):\n",
    "    H = np.linalg.lstsq(W,X)[0]\n",
    "    H[H < 0] = 0\n",
    "    #print(np.linalg.norm(X - np.dot(W,H)))\n",
    "    W = np.linalg.lstsq(H.T, X.T)[0].T\n",
    "    W[W < 0] = 0\n",
    "    print(mean_squared_error(X, np.dot(W,H)))\n",
    "#     print(np.linalg.norm(X - np.dot(W,H)))\n",
    "    \n",
    "    "
   ]
  },
  {
   "cell_type": "code",
   "execution_count": 65,
   "metadata": {},
   "outputs": [],
   "source": [
    "# Intialize a random matrix W\n",
    "W = np.random.rand(1405, 6)"
   ]
  },
  {
   "cell_type": "code",
   "execution_count": 67,
   "metadata": {},
   "outputs": [
    {
     "name": "stderr",
     "output_type": "stream",
     "text": [
      "/home/asus/.virtualenvs/gurus/lib/python3.6/site-packages/ipykernel_launcher.py:2: FutureWarning: `rcond` parameter will change to the default of machine precision times ``max(M, N)`` where M and N are the input matrix dimensions.\n",
      "To use the future default and silence this warning we advise to pass `rcond=None`, to keep using the old, explicitly pass `rcond=-1`.\n",
      "  \n"
     ]
    },
    {
     "name": "stdout",
     "output_type": "stream",
     "text": [
      "36.616631093365\n"
     ]
    }
   ],
   "source": [
    "# Solve for H using X and W using least squares solver\n",
    "H = np.linalg.lstsq(W,X)[0]\n",
    "\n",
    "# Clip H so there are no negative values\n",
    "H[H < 0] = 0\n",
    "\n",
    "# print the current error\n",
    "print(np.linalg.norm(X - np.dot(W,H)))\n"
   ]
  },
  {
   "cell_type": "code",
   "execution_count": 74,
   "metadata": {},
   "outputs": [
    {
     "name": "stderr",
     "output_type": "stream",
     "text": [
      "/home/asus/.virtualenvs/gurus/lib/python3.6/site-packages/ipykernel_launcher.py:2: FutureWarning: `rcond` parameter will change to the default of machine precision times ``max(M, N)`` where M and N are the input matrix dimensions.\n",
      "To use the future default and silence this warning we advise to pass `rcond=None`, to keep using the old, explicitly pass `rcond=-1`.\n",
      "  \n"
     ]
    }
   ],
   "source": [
    "# Solve for W using H\n",
    "W = np.linalg.lstsq(H.T, X.T)[0].T\n"
   ]
  },
  {
   "cell_type": "code",
   "execution_count": 79,
   "metadata": {},
   "outputs": [
    {
     "name": "stdout",
     "output_type": "stream",
     "text": [
      "(1405, 6)\n",
      "(6, 5000)\n",
      "(1405, 5000)\n"
     ]
    }
   ],
   "source": [
    "print(W.shape)\n",
    "print(H.shape)\n",
    "print(X.shape)"
   ]
  },
  {
   "cell_type": "code",
   "execution_count": 81,
   "metadata": {},
   "outputs": [
    {
     "name": "stdout",
     "output_type": "stream",
     "text": [
      "36.39126876601808\n"
     ]
    }
   ],
   "source": [
    "# Clip W\n",
    "W[W < 0] = 0\n",
    "print(np.linalg.norm(X - np.dot(W,H)))"
   ]
  },
  {
   "cell_type": "code",
   "execution_count": 83,
   "metadata": {},
   "outputs": [
    {
     "name": "stdout",
     "output_type": "stream",
     "text": [
      "RSS = 36.17\n"
     ]
    }
   ],
   "source": [
    "nmf = NMF(n_components=2)\n",
    "nmf.fit(X)\n",
    "W = nmf.transform(X)\n",
    "H = nmf.components_\n",
    "print('RSS = %.2f' % nmf.reconstruction_err_)"
   ]
  },
  {
   "cell_type": "code",
   "execution_count": null,
   "metadata": {},
   "outputs": [],
   "source": []
  },
  {
   "cell_type": "code",
   "execution_count": null,
   "metadata": {},
   "outputs": [],
   "source": [
    "class NMF():\n",
    "    \n",
    "    def __init__(self,V, n_components=None, tol= 1e-4, max_iter=200):\n",
    "        self.n_components = n_components\n",
    "        self.tol = tol\n",
    "        self.max_iter = max_iter\n",
    "        self.V = V\n",
    "    \n",
    "    def fit(self):\n",
    "        self.V\n",
    "    "
   ]
  },
  {
   "cell_type": "code",
   "execution_count": null,
   "metadata": {},
   "outputs": [],
   "source": []
  },
  {
   "cell_type": "code",
   "execution_count": 91,
   "metadata": {},
   "outputs": [],
   "source": [
    "def fit_nmf(r):\n",
    "    nmf = NMF(n_components=r)\n",
    "    nmf.fit(X)\n",
    "    W =nmf.transform(X)\n",
    "    H = nmf.components_\n",
    "    return nmf.reconstruction_err_"
   ]
  },
  {
   "cell_type": "code",
   "execution_count": 94,
   "metadata": {},
   "outputs": [
    {
     "data": {
      "text/plain": [
       "Text(0, 0.5, 'Reconstruction Error')"
      ]
     },
     "execution_count": 94,
     "metadata": {},
     "output_type": "execute_result"
    },
    {
     "data": {
      "image/png": "[encoded data removed]",
      "text/plain": [
       "<Figure size 432x288 with 1 Axes>"
      ]
     },
     "metadata": {
      "needs_background": "light"
     },
     "output_type": "display_data"
    }
   ],
   "source": [
    "error = [fit_nmf(i) for i in range(1,10)]\n",
    "plt.plot(range(1,10), error)\n",
    "plt.xticks(range(1,10))\n",
    "plt.xlabel('number of latent topics')\n",
    "plt.ylabel('Reconstruction Error')"
   ]
  },
  {
   "cell_type": "code",
   "execution_count": 61,
   "metadata": {},
   "outputs": [
    {
     "data": {
      "text/plain": [
       "1396"
      ]
     },
     "execution_count": 61,
     "metadata": {},
     "output_type": "execute_result"
    }
   ],
   "source": [
    "np.linalg.matrix_rank(X)"
   ]
  },
  {
   "cell_type": "code",
   "execution_count": 96,
   "metadata": {},
   "outputs": [],
   "source": [
    "nmf = NMF(n_components=6)"
   ]
  },
  {
   "cell_type": "code",
   "execution_count": 98,
   "metadata": {},
   "outputs": [],
   "source": [
    "W = nmf.fit_transform(X)"
   ]
  },
  {
   "cell_type": "code",
   "execution_count": 100,
   "metadata": {},
   "outputs": [],
   "source": [
    "H = nmf.components_"
   ]
  },
  {
   "cell_type": "code",
   "execution_count": 101,
   "metadata": {},
   "outputs": [
    {
     "data": {
      "text/plain": [
       "array([[0.06955415, 0.11553514, 0.01626827, ..., 0.        , 0.00893813,\n",
       "        0.05246347],\n",
       "       [0.02566859, 0.08991101, 0.01970521, ..., 0.00739594, 0.        ,\n",
       "        0.        ],\n",
       "       [0.        , 0.        , 0.00120487, ..., 0.        , 0.        ,\n",
       "        0.        ],\n",
       "       [0.01262627, 0.0181885 , 0.0019321 , ..., 0.        , 0.01293168,\n",
       "        0.        ],\n",
       "       [0.07371751, 0.01550505, 0.04795374, ..., 0.        , 0.0031336 ,\n",
       "        0.        ],\n",
       "       [0.1272991 , 0.05696235, 0.03070557, ..., 0.13579182, 0.00319716,\n",
       "        0.        ]])"
      ]
     },
     "execution_count": 101,
     "metadata": {},
     "output_type": "execute_result"
    }
   ],
   "source": [
    "H"
   ]
  },
  {
   "cell_type": "code",
   "execution_count": 104,
   "metadata": {},
   "outputs": [],
   "source": [
    "clf = NMF(n_components=6, random_state=1)"
   ]
  },
  {
   "cell_type": "code",
   "execution_count": 106,
   "metadata": {},
   "outputs": [],
   "source": [
    "W1 = clf.fit_transform(X)\n",
    "H1 = clf.components_"
   ]
  },
  {
   "cell_type": "code",
   "execution_count": 112,
   "metadata": {},
   "outputs": [],
   "source": [
    "vocab = np.array(vectorizer.get_feature_names())"
   ]
  },
  {
   "cell_type": "code",
   "execution_count": 123,
   "metadata": {},
   "outputs": [],
   "source": [
    "d=5 "
   ]
  },
  {
   "cell_type": "code",
   "execution_count": 113,
   "metadata": {},
   "outputs": [],
   "source": [
    "num_top_words=8\n",
    "def show_topics(a):\n",
    "    top_words = lambda t: [vocab[i] for i in np.argsort(t)[:-num_top_words-1:-1]]\n",
    "    topic_words = ([top_words(t) for t in a])\n",
    "    return [' '.join(t) for t in topic_words]"
   ]
  },
  {
   "cell_type": "code",
   "execution_count": 114,
   "metadata": {},
   "outputs": [
    {
     "data": {
      "text/plain": [
       "['mr the ms new art work show music',\n",
       " 'game season team yankee said league player yard',\n",
       " 'iran rouhani nuclear mr iranian obama israel united',\n",
       " 'republican house health government care senate party law',\n",
       " 'said attack official syria mr the police government',\n",
       " 'percent bank company market said the rate government']"
      ]
     },
     "execution_count": 114,
     "metadata": {},
     "output_type": "execute_result"
    }
   ],
   "source": [
    "show_topics(H1)"
   ]
  },
  {
   "cell_type": "code",
   "execution_count": 115,
   "metadata": {},
   "outputs": [
    {
     "data": {
      "text/plain": [
       "35.455354100470224"
      ]
     },
     "execution_count": 115,
     "metadata": {},
     "output_type": "execute_result"
    }
   ],
   "source": [
    "clf.reconstruction_err_ "
   ]
  },
  {
   "cell_type": "code",
   "execution_count": 128,
   "metadata": {},
   "outputs": [],
   "source": [
    "lam=1e3\n",
    "lr=1e-2\n",
    "mu = 1e-6\n",
    "def grads(M, W, H):\n",
    "    R = W@H-M\n",
    "    return R@H.T + penalty(W, mu)*lam, W.T@R + penalty(H, mu)*lam # dW, dH\n"
   ]
  },
  {
   "cell_type": "code",
   "execution_count": 118,
   "metadata": {},
   "outputs": [],
   "source": [
    "def penalty(M, mu):\n",
    "    return np.where(M>=mu,0, np.min(M - mu, 0))"
   ]
  },
  {
   "cell_type": "code",
   "execution_count": 119,
   "metadata": {},
   "outputs": [],
   "source": [
    "def upd(M, W, H, lr):\n",
    "    dW,dH = grads(M,W,H)\n",
    "    W -= lr*dW; H -= lr*dH\n"
   ]
  },
  {
   "cell_type": "code",
   "execution_count": 121,
   "metadata": {},
   "outputs": [],
   "source": [
    "def report(M,W,H): \n",
    "    print(np.linalg.norm(M-W@H), W.min(), H.min(), (W<0).sum(), (H<0).sum())\n"
   ]
  },
  {
   "cell_type": "code",
   "execution_count": 124,
   "metadata": {},
   "outputs": [],
   "source": [
    "W = np.abs(np.random.normal(scale=0.01, size=(m,d)))\n",
    "H = np.abs(np.random.normal(scale=0.01, size=(d,n)))"
   ]
  },
  {
   "cell_type": "code",
   "execution_count": 125,
   "metadata": {},
   "outputs": [
    {
     "name": "stdout",
     "output_type": "stream",
     "text": [
      "37.36226219519682 4.4129940473053666e-07 7.157804124754819e-07 0 0\n"
     ]
    }
   ],
   "source": [
    "report(X, W, H)"
   ]
  },
  {
   "cell_type": "code",
   "execution_count": 129,
   "metadata": {},
   "outputs": [],
   "source": [
    "upd(X,W,H,lr)"
   ]
  },
  {
   "cell_type": "code",
   "execution_count": 131,
   "metadata": {},
   "outputs": [
    {
     "name": "stdout",
     "output_type": "stream",
     "text": [
      "37.34560398587991 0.0001752600156533595 -7.275078744075946e-06 0 1\n"
     ]
    }
   ],
   "source": [
    "report(X, W, H)"
   ]
  },
  {
   "cell_type": "code",
   "execution_count": 133,
   "metadata": {},
   "outputs": [
    {
     "name": "stdout",
     "output_type": "stream",
     "text": [
      "37.30581066796612 0.0004175352924544858 -8.062175652088366e-06 0 1\n",
      "36.95568187888754 0.0006996671561415382 -8.629292680192762e-05 0 9\n",
      "36.589155973689955 3.4566360405611965e-05 -0.00024781443396104853 0 94\n",
      "36.4896324767063 -3.5889854867372144e-05 -0.0003518107649521162 1 246\n",
      "36.4741051485358 -0.00015718915756749978 -0.00029239078346607247 3 345\n"
     ]
    }
   ],
   "source": [
    "for i in range(50): \n",
    "    upd(X,W,H,lr)\n",
    "    if i % 10 == 0: report(X,W,H)"
   ]
  },
  {
   "cell_type": "code",
   "execution_count": 134,
   "metadata": {},
   "outputs": [
    {
     "data": {
      "text/plain": [
       "['said the mr it would new year game',\n",
       " 'the said mr would year game government it',\n",
       " 'said mr the game government would it year',\n",
       " 'said mr the year republican government new would',\n",
       " 'said the mr year one he government game']"
      ]
     },
     "execution_count": 134,
     "metadata": {},
     "output_type": "execute_result"
    }
   ],
   "source": [
    "show_topics(H)"
   ]
  },
  {
   "cell_type": "code",
   "execution_count": null,
   "metadata": {},
   "outputs": [],
   "source": []
  }
 ],
 "metadata": {
  "kernelspec": {
   "display_name": "Python 3",
   "language": "python",
   "name": "python3"
  },
  "language_info": {
   "codemirror_mode": {
    "name": "ipython",
    "version": 3
   },
   "file_extension": ".py",
   "mimetype": "text/x-python",
   "name": "python",
   "nbconvert_exporter": "python",
   "pygments_lexer": "ipython3",
   "version": "3.6.7"
  }
 },
 "nbformat": 4,
 "nbformat_minor": 2
}
