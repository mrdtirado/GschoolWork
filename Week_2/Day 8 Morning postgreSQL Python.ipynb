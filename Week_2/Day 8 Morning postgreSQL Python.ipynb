{
 "cells": [
  {
   "cell_type": "code",
   "execution_count": 10,
   "metadata": {},
   "outputs": [],
   "source": [
    "import psycopg2 as pg2\n",
    "from datetime import datetime"
   ]
  },
  {
   "cell_type": "code",
   "execution_count": 8,
   "metadata": {},
   "outputs": [],
   "source": [
    "conn = pg2.connect(dbname='postgres', host='localhost',user='postgres')\n",
    "conn.autocommit = True   ## This is required to remove or create databases"
   ]
  },
  {
   "cell_type": "code",
   "execution_count": 9,
   "metadata": {},
   "outputs": [],
   "source": [
    "cur = conn.cursor()"
   ]
  },
  {
   "cell_type": "code",
   "execution_count": 12,
   "metadata": {},
   "outputs": [
    {
     "ename": "UndefinedTable",
     "evalue": "relation \"logins\" does not exist\nLINE 3:     FROM logins\n                 ^\n",
     "output_type": "error",
     "traceback": [
      "\u001b[0;31m---------------------------------------------------------------------------\u001b[0m",
      "\u001b[0;31mUndefinedTable\u001b[0m                            Traceback (most recent call last)",
      "\u001b[0;32m<ipython-input-12-878ef125e157>\u001b[0m in \u001b[0;36m<module>\u001b[0;34m\u001b[0m\n\u001b[1;32m      7\u001b[0m     \u001b[0mFROM\u001b[0m \u001b[0mlogins\u001b[0m\u001b[0;34m\u001b[0m\u001b[0;34m\u001b[0m\u001b[0m\n\u001b[1;32m      8\u001b[0m     \u001b[0mWHERE\u001b[0m \u001b[0mlogins\u001b[0m\u001b[0;34m.\u001b[0m\u001b[0mtmstmp\u001b[0m \u001b[0;34m>\u001b[0m \u001b[0mtimestamp\u001b[0m \u001b[0;34m%\u001b[0m\u001b[0;34m(\u001b[0m\u001b[0mts\u001b[0m\u001b[0;34m)\u001b[0m\u001b[0ms\u001b[0m \u001b[0;34m-\u001b[0m \u001b[0minterval\u001b[0m \u001b[0;34m'7 days'\u001b[0m\u001b[0;34m\u001b[0m\u001b[0;34m\u001b[0m\u001b[0m\n\u001b[0;32m----> 9\u001b[0;31m     GROUP BY userid;''', {'ts': ts}\n\u001b[0m\u001b[1;32m     10\u001b[0m )\n",
      "\u001b[0;31mUndefinedTable\u001b[0m: relation \"logins\" does not exist\nLINE 3:     FROM logins\n                 ^\n"
     ]
    }
   ],
   "source": [
    "today = '2014-08-14'\n",
    "ts = datetime.strptime(today, '%Y-%m-%d').strftime(\"%Y%m%d\")\n",
    "\n",
    "cur.execute(\n",
    "    '''CREATE TABLE logins_7d AS\n",
    "    SELECT userid, COUNT(*) AS cnt, timestamp %(ts)s AS date_7d\n",
    "    FROM logins\n",
    "    WHERE logins.tmstmp > timestamp %(ts)s - interval '7 days'\n",
    "    GROUP BY userid;''', {'ts': ts}\n",
    ")"
   ]
  },
  {
   "cell_type": "code",
   "execution_count": null,
   "metadata": {},
   "outputs": [],
   "source": []
  }
 ],
 "metadata": {
  "kernelspec": {
   "display_name": "Python 3",
   "language": "python",
   "name": "python3"
  },
  "language_info": {
   "codemirror_mode": {
    "name": "ipython",
    "version": 3
   },
   "file_extension": ".py",
   "mimetype": "text/x-python",
   "name": "python",
   "nbconvert_exporter": "python",
   "pygments_lexer": "ipython3",
   "version": "3.6.7"
  }
 },
 "nbformat": 4,
 "nbformat_minor": 2
}
