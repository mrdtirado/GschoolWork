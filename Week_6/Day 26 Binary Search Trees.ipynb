{
 "cells": [
  {
   "cell_type": "markdown",
   "metadata": {},
   "source": [
    "### Notes : environment for this assignment\n",
    "\n",
    "You should perform this exercise using a text editor or IDE. Use **IPython** for testing.\n",
    "\n",
    "# Binary Search Trees\n",
    "For our exercise we'll create a binary search tree and explore its properties.\n",
    "You'll implement this entirely from scratch. A few hints.\n",
    "\n",
    "## Implement a Node Class\n",
    "A tree is typically composed of nodes.  Nodes are simple classes with\n",
    "only an init method and three attributes. You could implement setters/getters\n",
    "but we'll avoid that overhead for the time.  The three attributes are:\n",
    "<ul>\n",
    "<li>Node Value</li>\n",
    "<li>Left Child</li>\n",
    "<li>Right Child</li>\n",
    "</ul>\n",
    "</br>\n",
    "All of the information for the tree will be inside of a node object. \n",
    "Questions:</br>\n",
    "1.) At the time that you initiate the node object, will you have information about its \n",
    "children? How will this impact your init function? </br>\n",
    "2.) Draw a simple tree structure. What is the type of the left and right children? \n"
   ]
  },
  {
   "cell_type": "markdown",
   "metadata": {},
   "source": [
    "Assignment: https://github.com/GalvanizeDataScience/search-trees/blob/master/assignment.md\n",
    "\n",
    "Lecture: https://github.com/gSchool/DSI_Lectures/blob/master/search-trees/jack_bennetto/Search%20Trees.ipynb\n",
    "        "
   ]
  },
  {
   "cell_type": "code",
   "execution_count": 252,
   "metadata": {},
   "outputs": [],
   "source": [
    "class Node:\n",
    "\n",
    "    def __init__(self, data):\n",
    "\n",
    "        self.left = None\n",
    "        self.right = None\n",
    "        self.data = data\n",
    "\n",
    "    def insert(self, data):\n",
    "# Compare the new value with the parent node\n",
    "        if self.data:\n",
    "            if data < self.data:\n",
    "                if self.left is None:\n",
    "                    self.left = Node(data)\n",
    "                else:\n",
    "                    self.left.insert(data)\n",
    "            elif data > self.data:\n",
    "                if self.right is None:\n",
    "                    self.right = Node(data)\n",
    "                else:\n",
    "                    self.right.insert(data)\n",
    "        else:\n",
    "            self.data = data\n",
    "            \n",
    "# Print the tree\n",
    "    def PrintTree(self):\n",
    "        if self.left:\n",
    "            self.left.PrintTree()\n",
    "        print(self.data)\n",
    "        if self.right:\n",
    "            self.right.PrintTree()\n",
    "            \n",
    "    def findval(self, lkpval):\n",
    "        if lkpval < self.data:\n",
    "            if self.left is None:\n",
    "                return str(lkpval)+\" Not Found\"\n",
    "            return self.left.findval(lkpval)\n",
    "        elif lkpval > self.data:\n",
    "            if self.right is None:\n",
    "                return str(lkpval)+\" Not Found\"\n",
    "            return self.right.findval(lkpval)\n",
    "        else:\n",
    "            print(str(self.data) + ' is found')"
   ]
  },
  {
   "cell_type": "markdown",
   "metadata": {},
   "source": [
    "\n",
    "## Implement a Tree Class\n",
    "We want to implement a binary tree. Recall that a binary search \n",
    "tree is composed of nodes, where all of the values on the right side are higher\n",
    "than the value of the node, and all of the values on the left side are lower.\n",
    "\n",
    "As a hint, you probably want  to have an attribute that is `root`, referring to the tree's\n",
    "root node.  I will leave it to you to determine the other attributes.\n",
    "\n",
    "### Tasks to be mindful of when designing your program\n",
    "We will want to:\n",
    "<ul>\n",
    "<li>Initialize a Tree</li>\n",
    "<li>Add a new value to the tree</li>\n",
    "<li>Search the tree for a value</li>\n",
    "<li>Determine the number of comparisons to search the tree</li>\n",
    "<li>Determine the number of left and right children</li>\n",
    "<li>Determine the tree depth</li>\n",
    "</ul>"
   ]
  },
  {
   "cell_type": "code",
   "execution_count": 259,
   "metadata": {},
   "outputs": [
    {
     "name": "stdout",
     "output_type": "stream",
     "text": [
      "7 Not Found\n",
      "14 is found\n",
      "None\n"
     ]
    }
   ],
   "source": [
    "root = Node(12)\n",
    "root.insert(6)\n",
    "root.insert(14)\n",
    "root.insert(3)\n",
    "print(root.findval(7))\n",
    "print(root.findval(14))"
   ]
  },
  {
   "cell_type": "markdown",
   "metadata": {},
   "source": [
    "Binary Search\n",
    "Write a function that takes in a sorted array of itnegers as well as a target integer. The function should use the Binary Search algorthim to find if the target number is contained in the array and should return its index if its is, otherwise -1.\n",
    "\n",
    "Sample input: [0,1,21,33,45,61,71,72,73],33\n",
    "\n",
    "sample output: 3"
   ]
  },
  {
   "cell_type": "code",
   "execution_count": 260,
   "metadata": {},
   "outputs": [],
   "source": [
    "def binarySearch(array, target):\n",
    "    # Write your code here.\n",
    "\tleft = 0\n",
    "\tright = len(array) - 1\n",
    "\twhile left <= right:\n",
    "\t\tmiddle = (left + right) // 2\n",
    "\t\tpotentialMatch = array[middle]\n",
    "\t\tif target == potentialMatch:\n",
    "\t\t\treturn middle\n",
    "\t\telif target > potentialMatch:\n",
    "\t\t\tleft = middle + 1\n",
    "\t\telse:\n",
    "\t\t\tright = middle - 1\n",
    "\treturn -1\n",
    "\t\t"
   ]
  },
  {
   "cell_type": "code",
   "execution_count": null,
   "metadata": {},
   "outputs": [],
   "source": []
  }
 ],
 "metadata": {
  "kernelspec": {
   "display_name": "Python 3",
   "language": "python",
   "name": "python3"
  },
  "language_info": {
   "codemirror_mode": {
    "name": "ipython",
    "version": 3
   },
   "file_extension": ".py",
   "mimetype": "text/x-python",
   "name": "python",
   "nbconvert_exporter": "python",
   "pygments_lexer": "ipython3",
   "version": "3.6.7"
  }
 },
 "nbformat": 4,
 "nbformat_minor": 2
}
