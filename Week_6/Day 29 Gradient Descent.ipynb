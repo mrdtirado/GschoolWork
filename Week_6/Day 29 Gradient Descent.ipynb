{
 "cells": [
  {
   "cell_type": "code",
   "execution_count": 276,
   "metadata": {},
   "outputs": [],
   "source": [
    "import numpy as np\n",
    "from sklearn.datasets import make_classification\n",
    "from sklearn.metrics import mean_squared_error\n",
    "import matplotlib.pyplot as plt\n",
    "\n"
   ]
  },
  {
   "cell_type": "markdown",
   "metadata": {},
   "source": [
    "Assignment: https://github.com/GalvanizeDataScience/gradient-descent/blob/g91-sea/assignment.md\n",
    "\n",
    "Lecture: https://github.com/GalvanizeDataScience/lectures/blob/SF/gradient_descent/Gradient%20Descent.ipynb\n",
    "\n",
    "Resource: https://spin.atomicobject.com/2014/06/24/gradient-descent-linear-regression/\n",
    "\n",
    "Resource: https://towardsdatascience.com/gradient-descent-in-python-a0d07285742f"
   ]
  },
  {
   "cell_type": "markdown",
   "metadata": {},
   "source": [
    "# Gradient Descent\n",
    "We will be implementing logistic regression using the gradient descent algorithm.\n"
   ]
  },
  {
   "cell_type": "markdown",
   "metadata": {},
   "source": [
    "## Part 1: Create Data\n",
    "1. Generate a dataset using sklearn's make_classification module.\n"
   ]
  },
  {
   "cell_type": "code",
   "execution_count": 277,
   "metadata": {},
   "outputs": [],
   "source": [
    "X, y = make_classification(n_samples=100,\n",
    "                            n_features=2,\n",
    "                            n_informative=2,\n",
    "                            n_redundant=0,\n",
    "                            n_classes=2,\n",
    "                            random_state=0)"
   ]
  },
  {
   "cell_type": "markdown",
   "metadata": {},
   "source": [
    "2. We use two features so that we can visualize our data. Make a scatterplot with the first feature on the horizontal axis and the second on the vertical axis. Depict the two categories using different colors or different symbols."
   ]
  },
  {
   "cell_type": "code",
   "execution_count": 278,
   "metadata": {},
   "outputs": [],
   "source": [
    "feat_1 = X[:,0]\n",
    "feat_2 = X[:,1]"
   ]
  },
  {
   "cell_type": "code",
   "execution_count": 279,
   "metadata": {},
   "outputs": [
    {
     "data": {
      "text/plain": [
       "array([-0.76605469, -0.92038325, -0.98658509,  1.70910242,  1.9876467 ,\n",
       "        3.86274219, -1.12836011, -1.10074198, -1.53716448, -0.32372692,\n",
       "       -1.28532883,  3.35973253, -1.27034986, -0.71023363, -1.12933108,\n",
       "        0.24820673, -2.47263494, -1.11573423, -1.2141474 , -1.25860859,\n",
       "       -0.53583409,  0.92328145,  2.02751248,  2.1871814 ,  0.51281456,\n",
       "       -2.8118071 ,  0.31338067,  0.27299061, -1.18986266, -0.11213297,\n",
       "        1.23567148, -0.70329192,  1.3382818 , -3.19826339,  0.76438953,\n",
       "        0.95252962, -0.43793316,  2.40620516,  0.68152068,  0.45139447,\n",
       "       -1.45709006,  1.69989125, -0.98035846, -0.26822526, -1.85016853,\n",
       "       -0.10789457,  1.27458364, -0.44736931, -0.00811816, -2.22244349,\n",
       "       -0.89436588, -0.2415271 ,  0.85041166, -1.06938289, -0.99510532,\n",
       "       -0.83183986, -1.24743076,  1.22964368, -0.90014214,  0.5710682 ,\n",
       "        0.21654345, -0.15902752, -0.59732184,  1.04421447,  0.95508388,\n",
       "       -0.90334395, -1.27395967,  0.25020227, -0.89552621, -1.17921312,\n",
       "       -1.20374176,  1.22006997,  2.34137626, -0.61529301,  1.79574591,\n",
       "       -0.78091068, -0.13650855,  1.73590335, -0.6358122 , -0.68304936,\n",
       "        0.85144036, -1.11745336,  0.67311496, -1.14855777, -1.45125944,\n",
       "        0.8566997 ,  1.91002859, -1.04999632, -0.07818714,  0.52390262,\n",
       "       -1.36672011,  0.21726178,  1.35081491, -1.41363563,  1.86752028,\n",
       "       -0.98944929, -0.869385  ,  2.53026908, -0.46122013, -2.05321581])"
      ]
     },
     "execution_count": 279,
     "metadata": {},
     "output_type": "execute_result"
    }
   ],
   "source": [
    "feat_1"
   ]
  },
  {
   "cell_type": "code",
   "execution_count": 280,
   "metadata": {},
   "outputs": [],
   "source": [
    "def plot_classification_date(X, y, ax):\n",
    "    # pass a class into an array of indices corresponding to it\n",
    "    colors = np.array(['Red','blue'])[y]\n",
    "    ax.scatter(X[:,0], X[:,1], c=colors)\n",
    "    ax.set_xlabel('$x_1$')\n",
    "    ax.set_ylabel('$x_2$')\n",
    "    ax.set_title('Feature 1 vs Feature 2')"
   ]
  },
  {
   "cell_type": "code",
   "execution_count": 281,
   "metadata": {},
   "outputs": [
    {
     "data": {
      "image/png": "[encoded data removed]",
      "text/plain": [
       "<Figure size 432x360 with 1 Axes>"
      ]
     },
     "metadata": {
      "needs_background": "light"
     },
     "output_type": "display_data"
    }
   ],
   "source": [
    "fig, ax = plt.subplots(1, figsize=(6,5))\n",
    "plot_classification_date(X, y, ax)"
   ]
  },
  {
   "cell_type": "markdown",
   "metadata": {},
   "source": [
    "3. Just by eye-balling, make an estimate for a decision boundary of the form `x_2 = m*x_1 + b`. (Note that we haven't fit a logistic regression to this yet, but if we did, the line of constant `p=0.5` has `m = -beta_1 / beta_2` and `b = -beta_0 / beta_2`.)"
   ]
  },
  {
   "cell_type": "markdown",
   "metadata": {},
   "source": [
    "## Part 2: Cost function\n"
   ]
  },
  {
   "cell_type": "markdown",
   "metadata": {},
   "source": [
    "2. Using the data above, compute the gradient of the cost function ∇J(β)."
   ]
  },
  {
   "cell_type": "code",
   "execution_count": 282,
   "metadata": {},
   "outputs": [
    {
     "data": {
      "text/plain": [
       "(-26.073829269416294, 17.211790222493292)"
      ]
     },
     "execution_count": 282,
     "metadata": {},
     "output_type": "execute_result"
    }
   ],
   "source": [
    "# partial derivative of the cost function with respect to feature dimension 1 and 2\n",
    "# this is the gradient of the cost function\n",
    "np.dot(feat_1, (-y + 1/(1 + np.exp(-(1 + feat_1 + feat_2))))), np.dot(feat_2, (-y + 1/(1 + np.exp(-(1 + feat_1 + feat_2)))))"
   ]
  },
  {
   "cell_type": "code",
   "execution_count": 283,
   "metadata": {},
   "outputs": [
    {
     "data": {
      "text/plain": [
       "array([0.6028298 , 0.50182498, 0.4320468 , 0.83265515, 0.99153984,\n",
       "       0.99944501, 0.36560421, 0.06530378, 0.63826969, 0.77426332,\n",
       "       0.16888916, 0.92855284, 0.73055782, 0.30136302, 0.6360662 ,\n",
       "       0.67664895, 0.12354852, 0.78884327, 0.8535652 , 0.39138239,\n",
       "       0.82794781, 0.64911399, 0.93240639, 0.9946172 , 0.87498895,\n",
       "       0.10364684, 0.91939206, 0.72149416, 0.55835348, 0.49516755,\n",
       "       0.97792359, 0.4234302 , 0.79448078, 0.03060277, 0.74739966,\n",
       "       0.76116177, 0.33587877, 0.96463523, 0.88849175, 0.809832  ,\n",
       "       0.50739724, 0.73857799, 0.2005553 , 0.68517726, 0.01168478,\n",
       "       0.90314619, 0.43855912, 0.57066859, 0.95720225, 0.05503507,\n",
       "       0.73799712, 0.77107998, 0.83782046, 0.58608337, 0.7750144 ,\n",
       "       0.70885501, 0.61343774, 0.78041769, 0.86763784, 0.58380041,\n",
       "       0.75859338, 0.17656559, 0.31035371, 0.98326218, 0.58254794,\n",
       "       0.86888172, 0.42122565, 0.75865876, 0.61198107, 0.59039673,\n",
       "       0.37906234, 0.80105282, 0.99193301, 0.38241716, 0.99075235,\n",
       "       0.88794433, 0.83165348, 0.86603728, 0.84780449, 0.38148016,\n",
       "       0.98630482, 0.75935756, 0.90312401, 0.67200506, 0.22896866,\n",
       "       0.80425688, 0.67014444, 0.85599448, 0.63813623, 0.38971153,\n",
       "       0.19472648, 0.67818377, 0.89624403, 0.31570024, 0.93473448,\n",
       "       0.59483433, 0.32517616, 0.98036326, 0.04075155, 0.3473123 ])"
      ]
     },
     "execution_count": 283,
     "metadata": {},
     "output_type": "execute_result"
    }
   ],
   "source": [
    "1 / (1+ np.exp(-(1 + feat_1 + feat_2)))"
   ]
  },
  {
   "cell_type": "code",
   "execution_count": 284,
   "metadata": {
    "scrolled": true
   },
   "outputs": [
    {
     "data": {
      "text/plain": [
       "array([-5.82730013e-01, -9.92700057e-01, -1.27350509e+00,  6.04562907e-01,\n",
       "        3.76389149e+00,  6.49600132e+00, -1.55112169e+00, -3.66117173e+00,\n",
       "       -4.32138008e-01,  2.32542821e-01, -2.59352054e+00,  1.56466909e+00,\n",
       "       -2.54546376e-03, -1.84081570e+00, -4.41669315e-01, -2.61585983e-01,\n",
       "       -2.95924740e+00,  3.17966981e-01,  7.62841620e-01, -1.44150512e+00,\n",
       "        5.71152282e-01, -3.84853058e-01,  1.62425537e+00,  4.21914965e+00,\n",
       "        9.45809093e-01, -3.15734516e+00,  1.43411550e+00, -4.81147606e-02,\n",
       "       -7.65517578e-01, -1.01933040e+00,  2.79092208e+00, -1.30870772e+00,\n",
       "        3.52149238e-01, -4.45558408e+00,  8.47915179e-02,  1.59059430e-01,\n",
       "       -1.68171443e+00,  2.30603403e+00,  1.07542675e+00,  4.48918933e-01,\n",
       "       -9.70408872e-01,  3.85907224e-02, -2.38282732e+00, -2.22332164e-01,\n",
       "       -5.43771475e+00,  1.23268168e+00, -1.24701186e+00, -7.15420520e-01,\n",
       "        2.10752918e+00, -3.84317723e+00,  3.55844421e-02,  2.14419397e-01,\n",
       "        6.42099861e-01, -6.52202523e-01,  2.36845234e-01, -1.10170369e-01,\n",
       "       -5.38214169e-01,  2.68102124e-01,  8.80232598e-01, -6.61605759e-01,\n",
       "        1.44983191e-01, -2.53979146e+00, -1.79846619e+00,  3.07320471e+00,\n",
       "       -6.66758247e-01,  8.91107179e-01, -1.31774400e+00,  1.45340245e-01,\n",
       "       -5.44352796e-01, -6.34394304e-01, -1.49353001e+00,  3.92887499e-01,\n",
       "        3.81187518e+00, -1.47930114e+00,  3.67409478e+00,  1.06991323e+00,\n",
       "        5.97391414e-01,  8.66366397e-01,  7.17484080e-01, -1.48327041e+00,\n",
       "        3.27692121e+00,  1.49160585e-01,  1.23242816e+00, -2.82732306e-01,\n",
       "       -2.21414386e+00,  4.13115511e-01, -2.91161575e-01,  7.82412286e-01,\n",
       "       -4.32716016e-01, -1.44852494e+00, -2.41958609e+00, -2.54562383e-01,\n",
       "        1.15617105e+00, -1.77360293e+00,  1.66179860e+00, -6.16013128e-01,\n",
       "       -1.73008462e+00,  2.91052065e+00, -4.15865613e+00, -1.63087437e+00])"
      ]
     },
     "execution_count": 284,
     "metadata": {},
     "output_type": "execute_result"
    }
   ],
   "source": [
    "np.sum(X, axis=1)"
   ]
  },
  {
   "cell_type": "code",
   "execution_count": 285,
   "metadata": {},
   "outputs": [],
   "source": [
    "def predict_proba(X, coeffs):\n",
    "    \"\"\"Calculate the predicted conditional probabilities (floats between 0 and\n",
    "    1) for the given data with the given coefficients.\n",
    "\n",
    "    Parameters\n",
    "    ----------\n",
    "    X: np.array of shape (n_samples, n_features)  \n",
    "        The data (independent variables) to use for prediction.\n",
    "    coeffs: np.array of shape (n_features, )\n",
    "        The hypothesized coefficients.  Note that the shape of X, and coeffs\n",
    "\n",
    "    Returns\n",
    "    -------\n",
    "    predicted_probabilities: \n",
    "        The conditional probabilities given the data and coefficients.\n",
    "    \"\"\"\n",
    "    return 1/(1+np.exp(-(1 + np.sum(X*coeffs, axis=1))))\n"
   ]
  },
  {
   "cell_type": "code",
   "execution_count": 286,
   "metadata": {},
   "outputs": [],
   "source": [
    "def predict(X, coeffs, thresh=0.5):\n",
    "    \"\"\"\n",
    "    Calculate the predicted class labels (0 or 1) for the given data with the\n",
    "    given coefficients by comparing the predicted probabilities to a given\n",
    "    threshold.\n",
    "\n",
    "    Parameters\n",
    "    ----------\n",
    "    X: np.array of shape (n_samples, n_features)  \n",
    "        The data (independent variables) to use for prediction.\n",
    "    coeffs: np.array of shape (n_features, )\n",
    "        The hypothesized coefficients.  Note that the shape of X, and coeffs\n",
    "        must align.\n",
    "    thresh: float\n",
    "        Threshold for classification.\n",
    "\n",
    "    Returns\n",
    "    -------\n",
    "    predicted_class: int\n",
    "        The predicted class.\n",
    "    \"\"\"\n",
    "    predictions = predict_proba(X, coeffs)\n",
    "    predictions[np.where(predictions > thresh)] = 1\n",
    "    predictions[np.where(predictions < thresh)] = 0\n",
    "    return predictions"
   ]
  },
  {
   "cell_type": "code",
   "execution_count": 287,
   "metadata": {},
   "outputs": [],
   "source": [
    "test = predict_proba(X, coeffs=1)"
   ]
  },
  {
   "cell_type": "code",
   "execution_count": 288,
   "metadata": {
    "scrolled": true
   },
   "outputs": [
    {
     "data": {
      "text/plain": [
       "array([0.6028298 , 0.50182498, 0.4320468 , 0.83265515, 0.99153984,\n",
       "       0.99944501, 0.36560421, 0.06530378, 0.63826969, 0.77426332,\n",
       "       0.16888916, 0.92855284, 0.73055782, 0.30136302, 0.6360662 ,\n",
       "       0.67664895, 0.12354852, 0.78884327, 0.8535652 , 0.39138239,\n",
       "       0.82794781, 0.64911399, 0.93240639, 0.9946172 , 0.87498895,\n",
       "       0.10364684, 0.91939206, 0.72149416, 0.55835348, 0.49516755,\n",
       "       0.97792359, 0.4234302 , 0.79448078, 0.03060277, 0.74739966,\n",
       "       0.76116177, 0.33587877, 0.96463523, 0.88849175, 0.809832  ,\n",
       "       0.50739724, 0.73857799, 0.2005553 , 0.68517726, 0.01168478,\n",
       "       0.90314619, 0.43855912, 0.57066859, 0.95720225, 0.05503507,\n",
       "       0.73799712, 0.77107998, 0.83782046, 0.58608337, 0.7750144 ,\n",
       "       0.70885501, 0.61343774, 0.78041769, 0.86763784, 0.58380041,\n",
       "       0.75859338, 0.17656559, 0.31035371, 0.98326218, 0.58254794,\n",
       "       0.86888172, 0.42122565, 0.75865876, 0.61198107, 0.59039673,\n",
       "       0.37906234, 0.80105282, 0.99193301, 0.38241716, 0.99075235,\n",
       "       0.88794433, 0.83165348, 0.86603728, 0.84780449, 0.38148016,\n",
       "       0.98630482, 0.75935756, 0.90312401, 0.67200506, 0.22896866,\n",
       "       0.80425688, 0.67014444, 0.85599448, 0.63813623, 0.38971153,\n",
       "       0.19472648, 0.67818377, 0.89624403, 0.31570024, 0.93473448,\n",
       "       0.59483433, 0.32517616, 0.98036326, 0.04075155, 0.3473123 ])"
      ]
     },
     "execution_count": 288,
     "metadata": {},
     "output_type": "execute_result"
    }
   ],
   "source": [
    "test"
   ]
  },
  {
   "cell_type": "code",
   "execution_count": 289,
   "metadata": {},
   "outputs": [],
   "source": [
    "test[np.where(test > 0.5)] = 1\n",
    "test[np.where(test < 0.5)] = 0"
   ]
  },
  {
   "cell_type": "code",
   "execution_count": 290,
   "metadata": {},
   "outputs": [
    {
     "data": {
      "text/plain": [
       "array([1., 1., 0., 1., 1., 1., 0., 0., 1., 1., 0., 1., 1., 0., 1., 1., 0.,\n",
       "       1., 1., 0., 1., 1., 1., 1., 1., 0., 1., 1., 1., 0., 1., 0., 1., 0.,\n",
       "       1., 1., 0., 1., 1., 1., 1., 1., 0., 1., 0., 1., 0., 1., 1., 0., 1.,\n",
       "       1., 1., 1., 1., 1., 1., 1., 1., 1., 1., 0., 0., 1., 1., 1., 0., 1.,\n",
       "       1., 1., 0., 1., 1., 0., 1., 1., 1., 1., 1., 0., 1., 1., 1., 1., 0.,\n",
       "       1., 1., 1., 1., 0., 0., 1., 1., 0., 1., 1., 0., 1., 0., 0.])"
      ]
     },
     "execution_count": 290,
     "metadata": {},
     "output_type": "execute_result"
    }
   ],
   "source": [
    "test"
   ]
  },
  {
   "cell_type": "code",
   "execution_count": 291,
   "metadata": {},
   "outputs": [
    {
     "data": {
      "text/plain": [
       "array([1., 1., 0., 1., 1., 1., 0., 0., 1., 1., 0., 1., 1., 0., 1., 1., 0.,\n",
       "       1., 1., 0., 1., 1., 1., 1., 1., 0., 1., 1., 1., 0., 1., 0., 1., 0.,\n",
       "       1., 1., 0., 1., 1., 1., 1., 1., 0., 1., 0., 1., 0., 1., 1., 0., 1.,\n",
       "       1., 1., 1., 1., 1., 1., 1., 1., 1., 1., 0., 0., 1., 1., 1., 0., 1.,\n",
       "       1., 1., 0., 1., 1., 0., 1., 1., 1., 1., 1., 0., 1., 1., 1., 1., 0.,\n",
       "       1., 1., 1., 1., 0., 0., 1., 1., 0., 1., 1., 0., 1., 0., 0.])"
      ]
     },
     "execution_count": 291,
     "metadata": {},
     "output_type": "execute_result"
    }
   ],
   "source": [
    "predict(X, coeffs = 1)"
   ]
  },
  {
   "cell_type": "code",
   "execution_count": 292,
   "metadata": {},
   "outputs": [],
   "source": [
    "def cost(X, y, coeffs):\n",
    "    \"\"\"\n",
    "    Calculate the total logistic cost function of the data with the given\n",
    "    coefficients.\n",
    "\n",
    "    Parameters\n",
    "    ----------\n",
    "    X: np.array of shape (n_samples, n_features)  \n",
    "        The data (independent variables) to use for prediction.\n",
    "    y: np.array of shape (n_samples, )\n",
    "        The actual class values of the response.  Must be encoded as 0's and\n",
    "        1's.  Also, must align properly with X and coeffs.\n",
    "    coeffs: np.array of shape (n_features, )\n",
    "        The hypothesized coefficients.  Note that the shape of X, y, and coeffs\n",
    "        must align.\n",
    "\n",
    "    Returns\n",
    "    -------\n",
    "    logistic_cost: float\n",
    "        The value of the logistic cost function evaluated at the given\n",
    "        coefficients.\n",
    "    \"\"\"\n",
    "    return np.dot(y, np.log(predict_proba(X, coeffs=coeffs))) + np.dot((1-y),np.log(1-predict_proba(X, coeffs=coeffs)))"
   ]
  },
  {
   "cell_type": "code",
   "execution_count": 293,
   "metadata": {},
   "outputs": [
    {
     "data": {
      "text/plain": [
       "-52.3176920097888"
      ]
     },
     "execution_count": 293,
     "metadata": {},
     "output_type": "execute_result"
    }
   ],
   "source": [
    "cost(X,y, coeffs=1)"
   ]
  },
  {
   "cell_type": "code",
   "execution_count": 294,
   "metadata": {},
   "outputs": [],
   "source": [
    "def gradient(X, y, coeffs):\n",
    "    \"\"\"\n",
    "    Calculate the gradient of the logistic cost function with the given\n",
    "    coefficients.\n",
    "\n",
    "    Parameters\n",
    "    ----------\n",
    "    X: np.array of shape (n_samples, n_features)  \n",
    "        The data (independent variables) to use for prediction.\n",
    "    y: np.array of shape (n_samples, )\n",
    "        The actual class values of the response.  Must be encoded as 0's and\n",
    "        1's.  Also, must align properly with X and coeffs.\n",
    "    coeffs: np.array of shape (n_features, )\n",
    "        The hypothesized coefficients.  Note that the shape of X, y, and coeffs\n",
    "        must align.\n",
    "\n",
    "    Returns\n",
    "    -------\n",
    "    logistic_gradient: np.array of shape (n_features, )\n",
    "        The gradient of the logistic cost function evaluated at the given\n",
    "        coefficients.\n",
    "    \"\"\"\n",
    "    return np.dot((predict_proba(X, coeffs=coeffs) - y), X)\n",
    "    \n"
   ]
  },
  {
   "cell_type": "code",
   "execution_count": 296,
   "metadata": {},
   "outputs": [
    {
     "data": {
      "text/plain": [
       "array([-18.6081818 ,  23.40189329])"
      ]
     },
     "execution_count": 296,
     "metadata": {},
     "output_type": "execute_result"
    }
   ],
   "source": [
    "gradient(X, y, coeffs=2)"
   ]
  },
  {
   "cell_type": "code",
   "execution_count": 273,
   "metadata": {},
   "outputs": [],
   "source": [
    "X = np.array([[0, 1], [2, 2], [3, 0]])\n",
    "y = np.array([1, 0, 0])"
   ]
  },
  {
   "cell_type": "code",
   "execution_count": 274,
   "metadata": {},
   "outputs": [],
   "source": [
    "coeffs = np.array([1, 1])"
   ]
  },
  {
   "cell_type": "code",
   "execution_count": 275,
   "metadata": {},
   "outputs": [
    {
     "data": {
      "text/plain": [
       "-9.15179328744992"
      ]
     },
     "execution_count": 275,
     "metadata": {},
     "output_type": "execute_result"
    }
   ],
   "source": [
    "cost(X, y, coeffs)"
   ]
  },
  {
   "cell_type": "code",
   "execution_count": 253,
   "metadata": {},
   "outputs": [
    {
     "data": {
      "text/plain": [
       "array([4.93265567, 1.86741138])"
      ]
     },
     "execution_count": 253,
     "metadata": {},
     "output_type": "execute_result"
    }
   ],
   "source": [
    "np.dot((predict_proba(X, coeffs=coeffs) - y), X)"
   ]
  },
  {
   "cell_type": "code",
   "execution_count": 325,
   "metadata": {},
   "outputs": [],
   "source": [
    "def fit(X, y):\n",
    "    \"\"\"Run the gradient descent algorithm for num_iterations repetitions.\n",
    "\n",
    "    Parameters\n",
    "    ----------\n",
    "    X: A two dimensional numpy array.  The training data for the\n",
    "        optimization.\n",
    "    y: A one dimensional numpy array.  The training response for the\n",
    "        optimization.\n",
    "\n",
    "    Returns\n",
    "    -------\n",
    "    self:  The fit GradientDescent object.\n",
    "    \"\"\"\n",
    "    \n",
    "    coeffs = np.ones(X.shape[1])\n",
    "    for i in range(10000):\n",
    "        coeffs += gradient(X, y, coeffs)*0.01\n",
    "    return coeffs"
   ]
  },
  {
   "cell_type": "code",
   "execution_count": 326,
   "metadata": {},
   "outputs": [
    {
     "name": "stderr",
     "output_type": "stream",
     "text": [
      "/home/asus/.virtualenvs/gurus/lib/python3.6/site-packages/ipykernel_launcher.py:17: RuntimeWarning: overflow encountered in exp\n"
     ]
    },
    {
     "data": {
      "text/plain": [
       "array([-10519.11369297,   -503.82561871])"
      ]
     },
     "execution_count": 326,
     "metadata": {},
     "output_type": "execute_result"
    }
   ],
   "source": [
    "fit(X, y)"
   ]
  },
  {
   "cell_type": "code",
   "execution_count": 377,
   "metadata": {},
   "outputs": [],
   "source": [
    "class GradientDescent(object):\n",
    "    \"\"\"Perform the gradient descent optimization algorithm for an arbitrary\n",
    "    cost function.\n",
    "    \"\"\"\n",
    "\n",
    "    def __init__(self, cost, gradient, predict_func, \n",
    "                 alpha=0.01,\n",
    "                 num_iterations=10000):\n",
    "        \"\"\"Initialize the instance attributes of a GradientDescent object.\n",
    "\n",
    "        Parameters\n",
    "        ----------\n",
    "        cost: The cost function to be minimized.\n",
    "        gradient: The gradient of the cost function.\n",
    "        predict_func: A function to make predictions after the optimization has\n",
    "            converged.\n",
    "        alpha: The learning rate.\n",
    "        num_iterations: Number of iterations to use in the descent.\n",
    "\n",
    "        Returns\n",
    "        -------\n",
    "        self: The initialized GradientDescent object.\n",
    "        \"\"\"\n",
    "        # Initialize coefficients in run method once you know how many features\n",
    "        # you have.\n",
    "        self.coeffs = None\n",
    "        self.cost = cost\n",
    "        self.gradient = gradient\n",
    "        self.predict_func = predict_func\n",
    "        self.alpha = alpha\n",
    "        self.num_iterations = num_iterations\n",
    "\n",
    "    def fit(self, X, y):\n",
    "        \"\"\"Run the gradient descent algorithm for num_iterations repetitions.\n",
    "\n",
    "        Parameters\n",
    "        ----------\n",
    "        X: A two dimensional numpy array.  The training data for the\n",
    "            optimization.\n",
    "        y: A one dimensional numpy array.  The training response for the\n",
    "            optimization.\n",
    "\n",
    "        Returns\n",
    "        -------\n",
    "        self:  The fit GradientDescent object.\n",
    "        \"\"\"\n",
    "        \n",
    "        self.coeffs = np.ones(X.shape[1])\n",
    "        for i in range(self.num_iterations):\n",
    "            self.coeffs += self.gradient(X, y, self.coeffs)*self.alpha\n",
    "        return self\n",
    "\n",
    "\n",
    "    def predict(self, X):\n",
    "        \"\"\"Call self.predict_func to return predictions.\n",
    "\n",
    "        Parameters\n",
    "        ----------\n",
    "        X: Data to make predictions on.\n",
    "\n",
    "        Returns\n",
    "        -------\n",
    "        preds: A one dimensional numpy array of predictions.\n",
    "        \"\"\"\n",
    "        return self.predict_func(X, self.coeffs)"
   ]
  },
  {
   "cell_type": "code",
   "execution_count": 378,
   "metadata": {},
   "outputs": [],
   "source": [
    "GD = GradientDescent(cost, gradient, predict_proba)"
   ]
  },
  {
   "cell_type": "code",
   "execution_count": 379,
   "metadata": {},
   "outputs": [
    {
     "name": "stderr",
     "output_type": "stream",
     "text": [
      "/home/asus/.virtualenvs/gurus/lib/python3.6/site-packages/ipykernel_launcher.py:17: RuntimeWarning: overflow encountered in exp\n"
     ]
    },
    {
     "data": {
      "text/plain": [
       "<__main__.GradientDescent at 0x7f1f20dd08d0>"
      ]
     },
     "execution_count": 379,
     "metadata": {},
     "output_type": "execute_result"
    }
   ],
   "source": [
    "GD.fit(X,y)"
   ]
  },
  {
   "cell_type": "code",
   "execution_count": 380,
   "metadata": {},
   "outputs": [
    {
     "name": "stderr",
     "output_type": "stream",
     "text": [
      "/home/asus/.virtualenvs/gurus/lib/python3.6/site-packages/ipykernel_launcher.py:17: RuntimeWarning: overflow encountered in exp\n"
     ]
    },
    {
     "data": {
      "text/plain": [
       "array([1., 1., 1., 0., 0., 0., 1., 1., 1., 1., 1., 0., 1., 1., 1., 0., 1.,\n",
       "       1., 1., 1., 1., 0., 0., 0., 0., 1., 0., 0., 1., 1., 0., 1., 0., 1.,\n",
       "       0., 0., 1., 0., 0., 0., 1., 0., 1., 1., 1., 1., 0., 1., 0., 1., 1.,\n",
       "       1., 0., 1., 1., 1., 1., 0., 1., 0., 0., 1., 1., 0., 0., 1., 1., 0.,\n",
       "       1., 1., 1., 0., 0., 1., 0., 1., 1., 0., 1., 1., 0., 1., 0., 1., 1.,\n",
       "       0., 0., 1., 1., 0., 1., 0., 0., 1., 0., 1., 1., 0., 1., 1.])"
      ]
     },
     "execution_count": 380,
     "metadata": {},
     "output_type": "execute_result"
    }
   ],
   "source": [
    "GD.predict(X)"
   ]
  },
  {
   "cell_type": "code",
   "execution_count": 381,
   "metadata": {},
   "outputs": [
    {
     "data": {
      "text/plain": [
       "array([-10519.11369297,   -503.82561871])"
      ]
     },
     "execution_count": 381,
     "metadata": {},
     "output_type": "execute_result"
    }
   ],
   "source": [
    "GD.coeffs"
   ]
  },
  {
   "cell_type": "code",
   "execution_count": null,
   "metadata": {},
   "outputs": [],
   "source": []
  }
 ],
 "metadata": {
  "kernelspec": {
   "display_name": "Python 3",
   "language": "python",
   "name": "python3"
  },
  "language_info": {
   "codemirror_mode": {
    "name": "ipython",
    "version": 3
   },
   "file_extension": ".py",
   "mimetype": "text/x-python",
   "name": "python",
   "nbconvert_exporter": "python",
   "pygments_lexer": "ipython3",
   "version": "3.6.7"
  }
 },
 "nbformat": 4,
 "nbformat_minor": 2
}
