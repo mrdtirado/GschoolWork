{
 "cells": [
  {
   "cell_type": "code",
   "execution_count": 35,
   "metadata": {},
   "outputs": [],
   "source": [
    "import pandas as pd\n",
    "import numpy as np\n",
    "import networkx as nx\n",
    "import matplotlib.pyplot as plt\n",
    "from collections import Counter\n",
    "\n",
    "plt.style.use('ggplot')\n",
    "%matplotlib inline"
   ]
  },
  {
   "cell_type": "markdown",
   "metadata": {},
   "source": [
    "Assignment: https://github.com/mrdtirado/graphs-communities\n",
    "\n",
    "Lecture: https://github.com/gSchool/DSI_Lectures/blob/master/graphs/natalie_hunt/graphs_lecture.ipynb"
   ]
  },
  {
   "cell_type": "markdown",
   "metadata": {},
   "source": [
    "# Graphs: Centrality & Communities\n",
    "\n",
    "We'll still be dealing with the same IMDb dataset that we used in the morning. We're going to be finding the most important nodes in the graph and communities within the graph.\n",
    "\n",
    "## Actor and movie edge files\n",
    "\n",
    "Let's start by dealing with a file that only has actor edges. Two actors are connected if they've been in a movie together. An edge in the file will look like this:\n",
    "\n",
    "```\n",
    " Kevin Bacon    Ryan Gosling\n",
    "```\n",
    "\n",
    "This means that Kevin Bacon and Ryan Gosling were in a movie together.\n",
    "\n",
    "The analogous can be done for movies to create movie edges. Two movies are connected if an actor was in both of them.\n",
    "\n",
    "We already have a script for you that will create these edge files for you. You can run the script with this command:"
   ]
  },
  {
   "cell_type": "markdown",
   "metadata": {},
   "source": [
    "## Intro to networkx"
   ]
  },
  {
   "cell_type": "code",
   "execution_count": 3,
   "metadata": {},
   "outputs": [],
   "source": [
    "G = nx.read_edgelist('/home/asus/G_school_lectures/Week_8_Lectures/graphs-communities/data/imdb_edges.tsv', delimiter='\\t')"
   ]
  },
  {
   "cell_type": "code",
   "execution_count": 8,
   "metadata": {},
   "outputs": [
    {
     "name": "stdout",
     "output_type": "stream",
     "text": [
      "154795\n",
      "97944\n"
     ]
    }
   ],
   "source": [
    "# how many nodes and edges are there in the graph?\n",
    "print(G.number_of_edges())\n",
    "print(G.number_of_nodes())"
   ]
  },
  {
   "cell_type": "code",
   "execution_count": 391,
   "metadata": {},
   "outputs": [],
   "source": [
    "karateG = nx.karate_club_graph()"
   ]
  },
  {
   "cell_type": "code",
   "execution_count": 12,
   "metadata": {},
   "outputs": [
    {
     "data": {
      "text/plain": [
       "['Kevin Bacon',\n",
       " 'Beyond All Boundaries',\n",
       " 'Tom Hanks',\n",
       " 'Larry Crowne',\n",
       " 'Julia Roberts']"
      ]
     },
     "execution_count": 12,
     "metadata": {},
     "output_type": "execute_result"
    }
   ],
   "source": [
    "nx.shortest_path(G, source = 'Kevin Bacon', target = 'Julia Roberts')"
   ]
  },
  {
   "cell_type": "markdown",
   "metadata": {},
   "source": [
    "## Measures of Centrality and Connected Components\n",
    "There are a few different ways to measure the most important nodes.\n",
    "\n",
    "1. We're going to work with the graph that only has actors. Run the `src/make_edge_files.py` script and then load in the `data/actor_edges.tsv` into a networkx graph."
   ]
  },
  {
   "cell_type": "code",
   "execution_count": 377,
   "metadata": {},
   "outputs": [],
   "source": [
    "actors_small = nx.read_edgelist('/home/asus/G_school_lectures/Week_8_Lectures/graphs-communities/data/small_actor_edges.tsv',delimiter='\\t')\n",
    "movies_small = nx.read_edgelist('/home/asus/G_school_lectures/Week_8_Lectures/graphs-communities/data/small_movie_edges.tsv', delimiter='\\t')"
   ]
  },
  {
   "cell_type": "code",
   "execution_count": 56,
   "metadata": {},
   "outputs": [
    {
     "data": {
      "text/plain": [
       "11782"
      ]
     },
     "execution_count": 56,
     "metadata": {},
     "output_type": "execute_result"
    }
   ],
   "source": [
    "actors.number_of_edges()"
   ]
  },
  {
   "cell_type": "markdown",
   "metadata": {},
   "source": [
    "\n",
    "2. Use networkx to get the *degree* of all the nodes and make a histogram to get an understanding of the distribution of degrees. To get a dictionary of all the nodes and their degrees, use `dict(G.degree())`"
   ]
  },
  {
   "cell_type": "code",
   "execution_count": 57,
   "metadata": {},
   "outputs": [],
   "source": [
    "actor_his = dict(actors_small.degree())"
   ]
  },
  {
   "cell_type": "code",
   "execution_count": 65,
   "metadata": {
    "scrolled": true
   },
   "outputs": [
    {
     "data": {
      "image/png": "[encoded data removed]",
      "text/plain": [
       "<Figure size 720x720 with 1 Axes>"
      ]
     },
     "metadata": {
      "needs_background": "light"
     },
     "output_type": "display_data"
    }
   ],
   "source": [
    "fig, ax = plt.subplots(1, figsize=(10,10))\n",
    "\n",
    "ax.bar(actor_his.keys(), actor_his.values())\n",
    "plt.tight_layout()"
   ]
  },
  {
   "cell_type": "markdown",
   "metadata": {},
   "source": [
    "\n",
    "3. Who is the most important actor according to degree centrality?\n",
    "\n",
    "    Note that this is a good place to use a `Counter` since it has a `most_common` method:"
   ]
  },
  {
   "cell_type": "code",
   "execution_count": 59,
   "metadata": {},
   "outputs": [
    {
     "data": {
      "text/plain": [
       "[('David Koechner', 0.2556179775280899),\n",
       " ('Justin Long', 0.25),\n",
       " ('Danny Trejo', 0.2247191011235955),\n",
       " ('Paul Rudd', 0.21629213483146068),\n",
       " ('Will Ferrell', 0.20786516853932585)]"
      ]
     },
     "execution_count": 59,
     "metadata": {},
     "output_type": "execute_result"
    }
   ],
   "source": [
    "Counter(nx.degree_centrality(actors_small)).most_common(5)"
   ]
  },
  {
   "cell_type": "markdown",
   "metadata": {},
   "source": [
    "4. How many connected components are there?"
   ]
  },
  {
   "cell_type": "code",
   "execution_count": 60,
   "metadata": {},
   "outputs": [
    {
     "data": {
      "text/plain": [
       "357"
      ]
     },
     "execution_count": 60,
     "metadata": {},
     "output_type": "execute_result"
    }
   ],
   "source": [
    "len(nx.degree_centrality(actors_small))"
   ]
  },
  {
   "cell_type": "markdown",
   "metadata": {},
   "source": [
    "\n",
    "5. Make a histogram of the sizes of the connected components."
   ]
  },
  {
   "cell_type": "code",
   "execution_count": 66,
   "metadata": {},
   "outputs": [
    {
     "data": {
      "image/png": "[encoded data removed]",
      "text/plain": [
       "<Figure size 720x720 with 1 Axes>"
      ]
     },
     "metadata": {
      "needs_background": "light"
     },
     "output_type": "display_data"
    }
   ],
   "source": [
    "fig, ax = plt.subplots(1, figsize=(10,10))\n",
    "\n",
    "ax.bar(nx.degree_centrality(actors_small).keys(), nx.degree_centrality(actors_small).values())\n",
    "plt.tight_layout()"
   ]
  },
  {
   "cell_type": "markdown",
   "metadata": {},
   "source": [
    "6. Who is the most important actor in this subgraph according to degree centrality?"
   ]
  },
  {
   "cell_type": "code",
   "execution_count": 62,
   "metadata": {},
   "outputs": [
    {
     "data": {
      "text/plain": [
       "[('David Koechner', 0.2556179775280899),\n",
       " ('Justin Long', 0.25),\n",
       " ('Danny Trejo', 0.2247191011235955),\n",
       " ('Paul Rudd', 0.21629213483146068),\n",
       " ('Will Ferrell', 0.20786516853932585)]"
      ]
     },
     "execution_count": 62,
     "metadata": {},
     "output_type": "execute_result"
    }
   ],
   "source": [
    "Counter(nx.degree_centrality(actors_small)).most_common(5)"
   ]
  },
  {
   "cell_type": "markdown",
   "metadata": {},
   "source": [
    "7. Who is the most important actor according to betweenness centrality?\n"
   ]
  },
  {
   "cell_type": "code",
   "execution_count": 63,
   "metadata": {},
   "outputs": [
    {
     "data": {
      "text/plain": [
       "[('Danny Trejo', 0.01740584221975875),\n",
       " ('Justin Long', 0.01243551489449646),\n",
       " ('David Koechner', 0.011794132340103444),\n",
       " ('John Goodman', 0.011654586260132866),\n",
       " ('Samuel L. Jackson', 0.010876961690659522)]"
      ]
     },
     "execution_count": 63,
     "metadata": {},
     "output_type": "execute_result"
    }
   ],
   "source": [
    "Counter(nx.betweenness_centrality(actors_small)).most_common(5)"
   ]
  },
  {
   "cell_type": "markdown",
   "metadata": {},
   "source": [
    "8. Who is the most important actor according to eigenvector centrality?\n"
   ]
  },
  {
   "cell_type": "code",
   "execution_count": 64,
   "metadata": {},
   "outputs": [
    {
     "data": {
      "text/plain": [
       "[('David Koechner', 0.1404633804614843),\n",
       " ('Justin Long', 0.1311531601375571),\n",
       " ('Paul Rudd', 0.1284060091198865),\n",
       " ('Will Ferrell', 0.12554471950955165),\n",
       " ('Seth Rogen', 0.11651627384579409)]"
      ]
     },
     "execution_count": 64,
     "metadata": {},
     "output_type": "execute_result"
    }
   ],
   "source": [
    "Counter(nx.eigenvector_centrality(actors_small)).most_common(5)"
   ]
  },
  {
   "cell_type": "code",
   "execution_count": 80,
   "metadata": {},
   "outputs": [],
   "source": [
    "e_centralities = nx.edge_betweenness_centrality(actors_small)"
   ]
  },
  {
   "cell_type": "code",
   "execution_count": 84,
   "metadata": {},
   "outputs": [
    {
     "ename": "KeyError",
     "evalue": "'Ritchie Montgomery'",
     "output_type": "error",
     "traceback": [
      "\u001b[0;31m---------------------------------------------------------------------------\u001b[0m",
      "\u001b[0;31mKeyError\u001b[0m                                  Traceback (most recent call last)",
      "\u001b[0;32m<ipython-input-84-59b56cbad45c>\u001b[0m in \u001b[0;36m<module>\u001b[0;34m\u001b[0m\n\u001b[0;32m----> 1\u001b[0;31m \u001b[0me_centralities\u001b[0m\u001b[0;34m[\u001b[0m\u001b[0;34m'Ritchie Montgomery'\u001b[0m\u001b[0;34m]\u001b[0m\u001b[0;34m\u001b[0m\u001b[0;34m\u001b[0m\u001b[0m\n\u001b[0m",
      "\u001b[0;31mKeyError\u001b[0m: 'Ritchie Montgomery'"
     ]
    }
   ],
   "source": [
    "e_centralities['Ritchie Montgomery']"
   ]
  },
  {
   "cell_type": "code",
   "execution_count": 83,
   "metadata": {},
   "outputs": [
    {
     "ename": "SyntaxError",
     "evalue": "invalid syntax (<ipython-input-83-e9a7401aca47>, line 1)",
     "output_type": "error",
     "traceback": [
      "\u001b[0;36m  File \u001b[0;32m\"<ipython-input-83-e9a7401aca47>\"\u001b[0;36m, line \u001b[0;32m1\u001b[0m\n\u001b[0;31m    [key for key in e_centralities print(key)]\u001b[0m\n\u001b[0m                                       ^\u001b[0m\n\u001b[0;31mSyntaxError\u001b[0m\u001b[0;31m:\u001b[0m invalid syntax\n"
     ]
    }
   ],
   "source": [
    "[key for key in e_centralities]"
   ]
  },
  {
   "cell_type": "code",
   "execution_count": 79,
   "metadata": {},
   "outputs": [
    {
     "ename": "NameError",
     "evalue": "name 'key' is not defined",
     "output_type": "error",
     "traceback": [
      "\u001b[0;31m---------------------------------------------------------------------------\u001b[0m",
      "\u001b[0;31mNameError\u001b[0m                                 Traceback (most recent call last)",
      "\u001b[0;32m<ipython-input-79-8244c4a5222e>\u001b[0m in \u001b[0;36m<module>\u001b[0;34m\u001b[0m\n\u001b[0;32m----> 1\u001b[0;31m \u001b[0;34m[\u001b[0m\u001b[0mkey\u001b[0m \u001b[0;32mfor\u001b[0m \u001b[0mkey\u001b[0m \u001b[0;32min\u001b[0m \u001b[0mnx\u001b[0m\u001b[0;34m.\u001b[0m\u001b[0mbetweenness_centrality\u001b[0m\u001b[0;34m(\u001b[0m\u001b[0mactors_small\u001b[0m\u001b[0;34m)\u001b[0m\u001b[0;34m[\u001b[0m\u001b[0mkey\u001b[0m\u001b[0;34m]\u001b[0m \u001b[0;34m==\u001b[0m \u001b[0mmax\u001b[0m\u001b[0;34m(\u001b[0m\u001b[0mnx\u001b[0m\u001b[0;34m.\u001b[0m\u001b[0mbetweenness_centrality\u001b[0m\u001b[0;34m(\u001b[0m\u001b[0mactors_small\u001b[0m\u001b[0;34m)\u001b[0m\u001b[0;34m)\u001b[0m\u001b[0;34m.\u001b[0m\u001b[0mvalues\u001b[0m\u001b[0;34m]\u001b[0m\u001b[0;34m\u001b[0m\u001b[0;34m\u001b[0m\u001b[0m\n\u001b[0m",
      "\u001b[0;31mNameError\u001b[0m: name 'key' is not defined"
     ]
    }
   ],
   "source": [
    "[key for key in nx.betweenness_centrality(actors_small)[key] == max(nx.betweenness_centrality(actors_small)).values]"
   ]
  },
  {
   "cell_type": "code",
   "execution_count": 361,
   "metadata": {},
   "outputs": [],
   "source": [
    "def girvan_newman_step(G):\n",
    "    \"\"\"Run one step of the Girvan-Newman community detection algorithm.\n",
    "\n",
    "    Afterwards, the graph will have one more connected component.\n",
    "\n",
    "    Parameters\n",
    "    ----------\n",
    "    G: networkx Graph object\n",
    "\n",
    "    Returns\n",
    "    -------\n",
    "    None\n",
    "    \"\"\"\n",
    "#     G = G.copy()\n",
    "    num_comps = len([com for com in nx.connected_components(G)])\n",
    "    new_num_comps = num_comps\n",
    "    e_centralities = nx.edge_betweenness_centrality(G)\n",
    "    \n",
    "    # repeat untill a new connected component is created\n",
    "    # will stop every time a new communtiy is formed\n",
    "    while new_num_comps == num_comps:\n",
    "        # get the edge values\n",
    "        # remove the top edges\n",
    "        highest_edge = [key for key in e_centralities if e_centralities[key] ==max(e_centralities.values())]\n",
    "#         print(highest_edge)\n",
    "        for e in highest_edge:\n",
    "            G.remove_edge(e[0], e[1])\n",
    "#             print(e)\n",
    "            e_centralities.pop(e)\n",
    "        new_num_comps = len([com for com in nx.connected_components(G)])\n",
    "        print('New', new_num_comps, 'old', num_comps)\n",
    "#         print(len(G))\n",
    "#         print(highest_edge)"
   ]
  },
  {
   "cell_type": "code",
   "execution_count": 362,
   "metadata": {},
   "outputs": [
    {
     "name": "stdout",
     "output_type": "stream",
     "text": [
      "New 4 old 1\n"
     ]
    }
   ],
   "source": [
    "girvan_newman_step(actors_small)"
   ]
  },
  {
   "cell_type": "code",
   "execution_count": 166,
   "metadata": {},
   "outputs": [],
   "source": [
    "def find_communities_n(G, n):\n",
    "    \"\"\"Return communites of G after running Girvan-Newman algorithm n steps.\n",
    "\n",
    "    Parameters\n",
    "    ----------\n",
    "    G: networkx Graph object\n",
    "    n: int\n",
    "\n",
    "    Returns\n",
    "    -------\n",
    "    list of lists\n",
    "    \"\"\"\n",
    "    G1 = G.copy()\n",
    "    for i in range(n):\n",
    "        girvan_newman_step(G1)\n",
    "    return list(nx.connected_components(G1))"
   ]
  },
  {
   "cell_type": "code",
   "execution_count": 171,
   "metadata": {},
   "outputs": [
    {
     "name": "stdout",
     "output_type": "stream",
     "text": [
      "New 2 old 1\n",
      "New 4 old 2\n",
      "New 4 old 4\n",
      "New 4 old 4\n",
      "New 4 old 4\n",
      "New 4 old 4\n",
      "New 4 old 4\n",
      "New 4 old 4\n",
      "New 4 old 4\n",
      "New 4 old 4\n",
      "New 4 old 4\n",
      "New 4 old 4\n",
      "New 4 old 4\n",
      "New 4 old 4\n",
      "New 4 old 4\n",
      "New 4 old 4\n",
      "New 4 old 4\n",
      "New 4 old 4\n",
      "New 4 old 4\n",
      "New 4 old 4\n",
      "New 4 old 4\n",
      "New 4 old 4\n",
      "New 4 old 4\n",
      "New 4 old 4\n",
      "New 4 old 4\n",
      "New 4 old 4\n",
      "New 4 old 4\n",
      "New 4 old 4\n",
      "New 5 old 4\n",
      "New 6 old 5\n",
      "New 6 old 6\n",
      "New 6 old 6\n",
      "New 6 old 6\n",
      "New 6 old 6\n",
      "New 7 old 6\n"
     ]
    },
    {
     "data": {
      "text/plain": [
       "[{'50 Cent',\n",
       "  'Aasif Mandvi',\n",
       "  'Adam LeFevre',\n",
       "  'Adam Scott',\n",
       "  'Aidan Quinn',\n",
       "  'Al Pacino',\n",
       "  'Alan Arkin',\n",
       "  'Alec Baldwin',\n",
       "  'Alfred Molina',\n",
       "  'Allison Janney',\n",
       "  'Amanda Seyfried',\n",
       "  'Amy Adams',\n",
       "  'Amy Poehler',\n",
       "  'Anna Kendrick',\n",
       "  'Anthony Hopkins',\n",
       "  'Anthony Mackie',\n",
       "  'Arielle Kebbel',\n",
       "  'Bai Ling',\n",
       "  'Beau Bridges',\n",
       "  'Ben Foster',\n",
       "  'Ben Kingsley',\n",
       "  'Ben Stiller',\n",
       "  'Beth Grant',\n",
       "  'Bill Hader',\n",
       "  'Bill Moseley',\n",
       "  'Bill Murray',\n",
       "  'Billy Burke',\n",
       "  'Billy Crudup',\n",
       "  'Bob Gunton',\n",
       "  'Bobby Cannavale',\n",
       "  'Bonnie Johnson',\n",
       "  'Brad Dourif',\n",
       "  'Brad Pitt',\n",
       "  'Bradley Cooper',\n",
       "  'Brett Rice',\n",
       "  'Brian Cox',\n",
       "  'Bruce Davison',\n",
       "  'Bruce McGill',\n",
       "  'Bruce Willis',\n",
       "  'Bryan Cranston',\n",
       "  'C. Thomas Howell',\n",
       "  'Cam Gigandet',\n",
       "  'Carla Gugino',\n",
       "  'Carlos Alazraqui',\n",
       "  'Carmen Electra',\n",
       "  'Cedric the Entertainer',\n",
       "  'Channing Tatum',\n",
       "  'Chazz Palminteri',\n",
       "  'Chlo? Moretz',\n",
       "  'Chris Evans',\n",
       "  'Chris Messina',\n",
       "  'Chris Mulkey',\n",
       "  'Chris Parnell',\n",
       "  'Chris Pratt',\n",
       "  'Christa Campbell',\n",
       "  'Christian Bale',\n",
       "  'Christian Slater',\n",
       "  'Christoph Waltz',\n",
       "  'Christopher Lloyd',\n",
       "  'Christopher McDonald',\n",
       "  'Christopher Plummer',\n",
       "  'Christopher Walken',\n",
       "  'Ciar?n Hinds',\n",
       "  'Clifton Powell',\n",
       "  'Clint Eastwood',\n",
       "  'Clint Howard',\n",
       "  'Cloris Leachman',\n",
       "  'Colin Farrell',\n",
       "  'Colin Firth',\n",
       "  'Craig Robinson',\n",
       "  'Dakota Fanning',\n",
       "  'Daniel Craig',\n",
       "  'Daniel Day-Lewis',\n",
       "  'Daniel Roebuck',\n",
       "  'Danny Glover',\n",
       "  'Danny Huston',\n",
       "  'Danny McBride',\n",
       "  'Danny Trejo',\n",
       "  'David Carradine',\n",
       "  'David Cross',\n",
       "  'David Jensen',\n",
       "  'David Koechner',\n",
       "  'David Strathairn',\n",
       "  'Dean Cain',\n",
       "  'Dee Wallace',\n",
       "  \"Denis O'Hare\",\n",
       "  'Dennis Quaid',\n",
       "  'Denzel Washington',\n",
       "  'Dermot Mulroney',\n",
       "  'Diora Baird',\n",
       "  'Don Cheadle',\n",
       "  'Dustin Hoffman',\n",
       "  'Dwayne Johnson',\n",
       "  'Ed Harris',\n",
       "  'Ed Helms',\n",
       "  'Edrick Browne',\n",
       "  'Edward Herrmann',\n",
       "  'Edward Norton',\n",
       "  'Elaine Hendrix',\n",
       "  'Elias Koteas',\n",
       "  'Elizabeth Banks',\n",
       "  'Emily Blunt',\n",
       "  'Emma Thompson',\n",
       "  'Eric Roberts',\n",
       "  'Forest Whitaker',\n",
       "  'Frances Conroy',\n",
       "  'Frank Welker',\n",
       "  'Fred Armisen',\n",
       "  'Fred Willard',\n",
       "  'Gary Oldman',\n",
       "  'Gene Hackman',\n",
       "  'Geoffrey Rush',\n",
       "  'George Clooney',\n",
       "  'Giancarlo Esposito',\n",
       "  'Gina Gershon',\n",
       "  'Glenn Morshower',\n",
       "  'Harrison Ford',\n",
       "  'Heath Ledger',\n",
       "  'Heather Graham',\n",
       "  'Helen Mirren',\n",
       "  'Hugh Jackman',\n",
       "  'Ian McKellen',\n",
       "  'Idris Elba',\n",
       "  'J.D. Evermore',\n",
       "  'J.K. Simmons',\n",
       "  'Jack Nicholson',\n",
       "  'Jackson Rathbone',\n",
       "  'James Caan',\n",
       "  'James Cromwell',\n",
       "  'James Duval',\n",
       "  'James Franco',\n",
       "  'James Marsden',\n",
       "  'James Remar',\n",
       "  'James Russo',\n",
       "  'Jamie Foxx',\n",
       "  'Jane Lynch',\n",
       "  'Jason Bateman',\n",
       "  'Jason Mewes',\n",
       "  'Jason Statham',\n",
       "  'Javier Bardem',\n",
       "  'Jeff Bennett',\n",
       "  'Jeff Bridges',\n",
       "  'Jeff Chase',\n",
       "  'Jeffrey Dean Morgan',\n",
       "  'Jeffrey Tambor',\n",
       "  'Jeffrey Wright',\n",
       "  'Jenna Fischer',\n",
       "  'Jennifer Aniston',\n",
       "  'Jennifer Coolidge',\n",
       "  'Jeremy Irons',\n",
       "  'Jeremy Sisto',\n",
       "  'Jesse Eisenberg',\n",
       "  'Jessica Alba',\n",
       "  'Jessica Biel',\n",
       "  'Jessica Chastain',\n",
       "  'Jim Carrey',\n",
       "  'Joaquin Phoenix',\n",
       "  'Joe Chrest',\n",
       "  'Joe Pesci',\n",
       "  'Joel David Moore',\n",
       "  'Joel Michaely',\n",
       "  'John C. Reilly',\n",
       "  'John Carroll Lynch',\n",
       "  'John Cusack',\n",
       "  'John Goodman',\n",
       "  'John Heard',\n",
       "  'John Leguizamo',\n",
       "  'John Malkovich',\n",
       "  'John Savage',\n",
       "  'Johnny Depp',\n",
       "  'Jon Voight',\n",
       "  'Jonah Hill',\n",
       "  'Joseph Gordon-Levitt',\n",
       "  'Josh Brolin',\n",
       "  'Josh Lucas',\n",
       "  'Judy Greer',\n",
       "  'Julianne Moore',\n",
       "  'Juno Temple',\n",
       "  'Justin Long',\n",
       "  'Kathryn Hahn',\n",
       "  'Kathy Bates',\n",
       "  'Keith David',\n",
       "  'Kellan Lutz',\n",
       "  'Ken Jeong',\n",
       "  'Kevin Bacon',\n",
       "  'Kevin Corrigan',\n",
       "  'Kevin Durand',\n",
       "  'Kevin Hart',\n",
       "  'Kevin Kline',\n",
       "  'Kevin Spacey',\n",
       "  'Kris Kristofferson',\n",
       "  'Kristen Bell',\n",
       "  'Kristen Stewart',\n",
       "  'Kristen Wiig',\n",
       "  'Lacey Chabert',\n",
       "  'Lance E. Nichols',\n",
       "  'Lance Henriksen',\n",
       "  'Lauren Ambrose',\n",
       "  'Leonardo DiCaprio',\n",
       "  'Liam Neeson',\n",
       "  'Liev Schreiber',\n",
       "  'Lin Shaye',\n",
       "  'Lindsay Lohan',\n",
       "  'Lochlyn Munro',\n",
       "  'Louis Mandylor',\n",
       "  'Lucy Punch',\n",
       "  'Luke Wilson',\n",
       "  'M. C. Gainey',\n",
       "  'Malcolm McDowell',\n",
       "  'Malin ?kerman',\n",
       "  'Marc Macaulay',\n",
       "  'Marcia Gay Harden',\n",
       "  'Margo Martindale',\n",
       "  'Maria Bello',\n",
       "  'Mark Boone Junior',\n",
       "  'Mark Strong',\n",
       "  'Martin Sheen',\n",
       "  'Martin Starr',\n",
       "  'Mary Steenburgen',\n",
       "  'Matt Damon',\n",
       "  'Matt Walsh',\n",
       "  'Matthew McConaughey',\n",
       "  'Melanie Lynskey',\n",
       "  'Melissa Leo',\n",
       "  'Michael Biehn',\n",
       "  'Michael Caine',\n",
       "  'Michael Clarke Duncan',\n",
       "  'Michael Douglas',\n",
       "  'Michael Ironside',\n",
       "  'Michael Madsen',\n",
       "  'Michael Rooker',\n",
       "  'Michael Shannon',\n",
       "  'Michael Sheen',\n",
       "  'Michelle Monaghan',\n",
       "  'Mike Epps',\n",
       "  'Mike Vogel',\n",
       "  'Mircea Monroe',\n",
       "  'Missi Pyle',\n",
       "  'Molly Shannon',\n",
       "  'Morgan Freeman',\n",
       "  'Naomi Watts',\n",
       "  'Neal McDonough',\n",
       "  'Nicolas Cage',\n",
       "  'Nicole Kidman',\n",
       "  'Noah Segan',\n",
       "  'Noel Gugliemi',\n",
       "  'Oliver Platt',\n",
       "  'Olivia Thirlby',\n",
       "  'Olivia Wilde',\n",
       "  'Omari Hardwick',\n",
       "  'Owen Wilson',\n",
       "  'Parker Posey',\n",
       "  'Patricia Clarkson',\n",
       "  'Patrick Warburton',\n",
       "  'Patrick Wilson',\n",
       "  'Paul Dano',\n",
       "  'Paul Giamatti',\n",
       "  'Paul Rudd',\n",
       "  \"Peter O'Toole\",\n",
       "  'Philip Baker Hall',\n",
       "  'Philip Seymour Hoffman',\n",
       "  'Queen Latifah',\n",
       "  'Rachel McAdams',\n",
       "  'Ralph Fiennes',\n",
       "  'Rance Howard',\n",
       "  'Rashida Jones',\n",
       "  'Ray Liotta',\n",
       "  'Ray Wise',\n",
       "  'Rhoda Griffis',\n",
       "  'Richard Jenkins',\n",
       "  'Richard Kind',\n",
       "  'Richard Riehle',\n",
       "  'Richard Tyson',\n",
       "  'Rip Torn',\n",
       "  'Ritchie Montgomery',\n",
       "  'Rob Corddry',\n",
       "  'Rob Huebel',\n",
       "  'Rob Riggle',\n",
       "  'Rob Schneider',\n",
       "  'Robert De Niro',\n",
       "  'Robert Downey Jr.',\n",
       "  'Robert Duvall',\n",
       "  'Robert Forster',\n",
       "  'Robert Patrick',\n",
       "  'Robert Redford',\n",
       "  'Robin Williams',\n",
       "  'Robin Wright',\n",
       "  'Ron Jeremy',\n",
       "  'Ron Perlman',\n",
       "  'Rosario Dawson',\n",
       "  'Rosemarie DeWitt',\n",
       "  'Rus Blackwell',\n",
       "  'Russell Crowe',\n",
       "  'Ryan Reynolds',\n",
       "  'Sam Rockwell',\n",
       "  'Samuel L. Jackson',\n",
       "  'Scarlett Johansson',\n",
       "  'Sean Astin',\n",
       "  'Sean Patrick Flanery',\n",
       "  'Sean Penn',\n",
       "  'Seth Rogen',\n",
       "  'Seymour Cassel',\n",
       "  'Sigourney Weaver',\n",
       "  'Snoop Dogg',\n",
       "  'Stanley Tucci',\n",
       "  'Stephen Dorff',\n",
       "  'Stephen McHattie',\n",
       "  'Stephen Root',\n",
       "  'Stephen Tobolowsky',\n",
       "  'Steve Buscemi',\n",
       "  'Steve Carell',\n",
       "  'Steve Coogan',\n",
       "  'Steven Bauer',\n",
       "  'Susan Sarandon',\n",
       "  'Tara Reid',\n",
       "  'Taraji P. Henson',\n",
       "  'Terrence Howard',\n",
       "  'Terry Crews',\n",
       "  'Thomas Lennon',\n",
       "  'Tim Blake Nelson',\n",
       "  'Tim Robbins',\n",
       "  'Toby Jones',\n",
       "  'Tom Arnold',\n",
       "  'Tom Cruise',\n",
       "  'Tom Hanks',\n",
       "  'Tom Kenny',\n",
       "  'Tom Sizemore',\n",
       "  'Tom Wilkinson',\n",
       "  'Tommy Lee Jones',\n",
       "  'Tony Curran',\n",
       "  'Tony Hale',\n",
       "  'Tony Todd',\n",
       "  'Tracy Morgan',\n",
       "  'Val Kilmer',\n",
       "  'Vera Farmiga',\n",
       "  'Vince Vaughn',\n",
       "  'Vincent Pastore',\n",
       "  'Ving Rhames',\n",
       "  'Vinnie Jones',\n",
       "  'Viola Davis',\n",
       "  'Vivica A. Fox',\n",
       "  'Wallace Shawn',\n",
       "  'Will Arnett',\n",
       "  'Will Ferrell',\n",
       "  'Will Forte',\n",
       "  'Will Smith',\n",
       "  'Willem Dafoe',\n",
       "  'William H. Macy',\n",
       "  'William Sadler',\n",
       "  'Woody Harrelson',\n",
       "  'Zach Galifianakis'},\n",
       " {'Paul Newman'},\n",
       " {'Mel Gibson'},\n",
       " {'Kirk Douglas'},\n",
       " {'Marlon Brando'},\n",
       " {'F. Murray Abraham'},\n",
       " {'James Dean'}]"
      ]
     },
     "execution_count": 171,
     "metadata": {},
     "output_type": "execute_result"
    }
   ],
   "source": [
    "find_communities_n(actors_small, n=5)"
   ]
  },
  {
   "cell_type": "code",
   "execution_count": 182,
   "metadata": {},
   "outputs": [],
   "source": [
    "def get_modularity(subgraphs, degrees, num_edges):\n",
    "    \"\"\"Return the value of the modularity for the graph G.\n",
    "\n",
    "    Parameters\n",
    "    ----------\n",
    "    subgraphs: generator\n",
    "        Graph broken in subgraphs\n",
    "    degrees: dictionary\n",
    "        Node: degree key-value pairs from original graph\n",
    "    num_edges: float\n",
    "        Number of edges in original graph\n",
    "\n",
    "    Returns\n",
    "    -------\n",
    "    float\n",
    "        Modularity value, between -0.5 and 1\n",
    "    \"\"\"\n",
    "    \n",
    "    matrix = nx.to_numpy_matrix(actors_small)\n",
    "    "
   ]
  },
  {
   "cell_type": "code",
   "execution_count": 183,
   "metadata": {},
   "outputs": [],
   "source": [
    "matrix = nx.to_numpy_matrix(actors_small)"
   ]
  },
  {
   "cell_type": "code",
   "execution_count": 321,
   "metadata": {},
   "outputs": [
    {
     "data": {
      "text/plain": [
       "matrix([[0., 1., 0., ..., 0., 0., 0.],\n",
       "        [1., 0., 0., ..., 0., 0., 0.],\n",
       "        [0., 0., 0., ..., 0., 0., 0.],\n",
       "        ...,\n",
       "        [0., 0., 0., ..., 0., 0., 0.],\n",
       "        [0., 0., 0., ..., 0., 0., 0.],\n",
       "        [0., 0., 0., ..., 0., 0., 0.]])"
      ]
     },
     "execution_count": 321,
     "metadata": {},
     "output_type": "execute_result"
    }
   ],
   "source": [
    "matrix"
   ]
  },
  {
   "cell_type": "code",
   "execution_count": 191,
   "metadata": {
    "scrolled": true
   },
   "outputs": [
    {
     "data": {
      "text/plain": [
       "DegreeView({'Ritchie Montgomery': 41, 'Tim Blake Nelson': 45, 'Jessica Alba': 43, 'Val Kilmer': 52, 'Queen Latifah': 33, 'Will Arnett': 59, 'Joseph Gordon-Levitt': 48, 'Nicolas Cage': 52, 'Zach Galifianakis': 61, 'Ed Harris': 42, 'Helen Mirren': 37, 'Jeremy Irons': 24, 'Stanley Tucci': 73, 'Bill Hader': 58, 'Kristen Bell': 51, 'Danny McBride': 60, 'George Clooney': 41, 'Channing Tatum': 52, 'Jamie Foxx': 32, 'Jessica Chastain': 33, 'Tom Wilkinson': 34, 'Jack Nicholson': 11, 'Kathryn Hahn': 52, 'Kevin Kline': 27, 'Tony Hale': 44, 'Jonah Hill': 66, 'Justin Long': 89, 'Josh Lucas': 47, 'Woody Harrelson': 70, 'Diora Baird': 25, 'Tom Arnold': 45, 'Alfred Molina': 33, 'Dermot Mulroney': 41, 'Lochlyn Munro': 34, 'Stephen Root': 65, 'Molly Shannon': 43, 'Will Ferrell': 74, 'David Koechner': 91, 'Owen Wilson': 67, 'Anna Kendrick': 36, 'Dennis Quaid': 32, 'Jason Mewes': 20, 'Seth Rogen': 66, 'Christa Campbell': 43, 'Jeff Chase': 34, 'Jessica Biel': 39, 'Jon Voight': 21, 'Vince Vaughn': 66, 'Forest Whitaker': 48, 'Noel Gugliemi': 25, 'Beth Grant': 54, 'Elaine Hendrix': 18, 'Amy Poehler': 58, 'Susan Sarandon': 66, 'Julianne Moore': 43, 'Kevin Bacon': 38, 'Robin Wright': 47, 'Christian Slater': 30, 'Heather Graham': 35, 'Margo Martindale': 37, 'Rance Howard': 47, 'Mary Steenburgen': 44, 'Christopher McDonald': 42, 'Richard Jenkins': 69, 'Willem Dafoe': 40, 'Rosemarie DeWitt': 23, 'Patrick Warburton': 43, 'Sigourney Weaver': 56, 'Ray Liotta': 64, 'Juno Temple': 40, 'Rhoda Griffis': 26, 'Adam Scott': 44, 'Jane Lynch': 64, 'Billy Burke': 27, 'Michael Sheen': 33, 'David Carradine': 35, 'Ron Perlman': 25, 'Kristen Wiig': 64, 'John Savage': 19, 'Ving Rhames': 43, 'Tommy Lee Jones': 34, 'Bradley Cooper': 55, 'Stephen Tobolowsky': 23, 'Jennifer Aniston': 42, 'Johnny Depp': 18, 'Chris Evans': 44, 'Kristen Stewart': 37, 'Craig Robinson': 47, 'Matt Damon': 43, 'Michael Douglas': 17, 'Glenn Morshower': 29, 'Oliver Platt': 40, 'Dustin Hoffman': 35, 'Geoffrey Rush': 13, 'David Jensen': 40, 'Noah Segan': 13, 'Danny Huston': 51, 'Christian Bale': 35, 'Liam Neeson': 29, 'Jennifer Coolidge': 37, 'Samuel L. Jackson': 72, 'Christoph Waltz': 12, 'Colin Farrell': 33, 'Fred Armisen': 46, 'Fred Willard': 47, 'Amy Adams': 60, 'Mark Strong': 39, 'Robert Redford': 17, 'John C. Reilly': 56, 'James Duval': 25, 'Tony Todd': 21, 'Richard Kind': 24, 'John Leguizamo': 32, 'Matthew McConaughey': 40, 'Wallace Shawn': 30, 'Brad Dourif': 33, 'Cam Gigandet': 30, 'Jeremy Sisto': 16, 'Judy Greer': 53, 'Kris Kristofferson': 37, 'Danny Glover': 45, 'Anthony Mackie': 51, 'Luke Wilson': 58, 'Kevin Hart': 38, 'Viola Davis': 41, 'Elizabeth Banks': 71, 'Mark Boone Junior': 34, 'Vivica A. Fox': 25, 'Tom Kenny': 32, 'Dean Cain': 12, 'Robin Williams': 41, 'James Cromwell': 42, 'Robert Patrick': 54, 'Malin ?kerman': 57, 'Nicole Kidman': 37, 'Elias Koteas': 25, 'Sam Rockwell': 45, 'Tony Curran': 24, 'Ciar?n Hinds': 36, 'Jeffrey Wright': 41, 'Philip Seymour Hoffman': 45, 'Sean Penn': 18, 'Joe Pesci': 9, 'Robert De Niro': 61, 'Snoop Dogg': 31, 'Terry Crews': 44, 'Rob Corddry': 66, 'Edward Norton': 32, 'Clifton Powell': 22, 'Matt Walsh': 40, 'Aidan Quinn': 21, 'Bonnie Johnson': 14, 'Will Forte': 41, 'Louis Mandylor': 11, 'David Strathairn': 37, 'Danny Trejo': 80, 'Michael Biehn': 25, 'Bruce McGill': 37, 'Carmen Electra': 29, 'Michael Madsen': 47, 'Josh Brolin': 51, 'Lucy Punch': 33, 'Paul Rudd': 77, 'Rashida Jones': 43, 'Jesse Eisenberg': 36, 'Tim Robbins': 32, 'Cedric the Entertainer': 35, 'Taraji P. Henson': 30, 'Clint Howard': 31, 'J.D. Evermore': 35, 'Ed Helms': 54, 'Gina Gershon': 33, 'Bryan Cranston': 37, 'Melanie Lynskey': 26, 'Vera Farmiga': 32, 'Chris Messina': 37, 'Patricia Clarkson': 35, 'Steve Coogan': 48, 'J.K. Simmons': 67, 'Russell Crowe': 27, 'Bob Gunton': 48, 'Mike Epps': 35, 'Brian Cox': 43, 'James Franco': 65, 'Robert Downey Jr.': 40, 'Don Cheadle': 24, 'Kellan Lutz': 19, 'Stephen McHattie': 19, 'Olivia Wilde': 43, 'Liev Schreiber': 30, 'Brad Pitt': 42, 'Tom Hanks': 35, 'Rob Schneider': 31, 'Allison Janney': 35, 'Mike Vogel': 21, 'Jeff Bridges': 22, 'John Goodman': 58, 'Dakota Fanning': 33, 'Amanda Seyfried': 38, 'Mircea Monroe': 21, 'John Heard': 20, 'Thomas Lennon': 38, 'Chris Mulkey': 12, 'Paul Giamatti': 59, 'Michael Clarke Duncan': 52, 'Jim Carrey': 31, 'John Malkovich': 33, 'Terrence Howard': 45, 'Edrick Browne': 35, 'Steven Bauer': 19, 'Christopher Walken': 50, 'Kathy Bates': 43, 'Vinnie Jones': 56, 'Jason Bateman': 74, 'James Remar': 34, 'Frank Welker': 29, 'Naomi Watts': 33, 'Lin Shaye': 31, 'Maria Bello': 34, 'Rip Torn': 36, 'Rob Riggle': 51, 'Joe Chrest': 29, 'Melissa Leo': 51, 'Billy Crudup': 43, 'John Cusack': 33, 'Bill Murray': 25, 'Ryan Reynolds': 49, 'Jeff Bennett': 19, 'Kevin Spacey': 26, 'Jenna Fischer': 38, 'Keith David': 55, 'Lindsay Lohan': 26, 'Aasif Mandvi': 37, 'Adam LeFevre': 32, 'Neal McDonough': 33, 'Tom Sizemore': 30, 'Olivia Thirlby': 21, 'William Sadler': 26, 'William H. Macy': 56, 'Michael Shannon': 36, 'Chris Pratt': 26, 'Parker Posey': 28, 'Bill Moseley': 29, 'Joel David Moore': 30, 'Lauren Ambrose': 17, 'Denzel Washington': 30, 'Bobby Cannavale': 47, 'Marc Macaulay': 23, 'Ray Wise': 29, 'Kevin Corrigan': 50, 'Hugh Jackman': 42, 'Bruce Davison': 16, 'Steve Buscemi': 69, 'Steve Carell': 60, 'Robert Forster': 29, 'Emma Thompson': 20, 'Gary Oldman': 33, 'Toby Jones': 38, 'Ben Foster': 27, 'Bruce Willis': 62, 'Carla Gugino': 45, 'Christopher Lloyd': 41, 'Robert Duvall': 24, 'Clint Eastwood': 10, 'Lance Henriksen': 26, \"Peter O'Toole\": 10, 'Cloris Leachman': 32, 'Rachel McAdams': 32, 'James Caan': 28, 'Beau Bridges': 22, 'Omari Hardwick': 16, 'Idris Elba': 21, 'Will Smith': 15, 'Lacey Chabert': 23, 'Marcia Gay Harden': 31, 'Michael Ironside': 18, 'Kevin Durand': 22, 'Philip Baker Hall': 35, 'James Russo': 24, 'Leonardo DiCaprio': 31, 'Michelle Monaghan': 39, 'Carlos Alazraqui': 26, 'Tracy Morgan': 37, 'Dwayne Johnson': 38, 'Alec Baldwin': 44, 'Stephen Dorff': 27, 'Edward Herrmann': 34, 'Michael Rooker': 25, 'Sean Astin': 28, 'Martin Starr': 44, 'Ben Kingsley': 30, 'Dee Wallace': 25, 'John Carroll Lynch': 35, 'Richard Riehle': 51, 'C. Thomas Howell': 15, 'Martin Sheen': 28, 'Chlo? Moretz': 30, 'Giancarlo Esposito': 17, 'Seymour Cassel': 15, 'David Cross': 56, 'Lance E. Nichols': 27, 'Ken Jeong': 46, 'Jeffrey Dean Morgan': 26, 'Patrick Wilson': 39, 'Chris Parnell': 50, 'Colin Firth': 15, 'Jeffrey Tambor': 58, 'Rosario Dawson': 49, 'Arielle Kebbel': 19, 'Missi Pyle': 42, 'Gene Hackman': 8, 'Eric Roberts': 47, 'Ron Jeremy': 18, 'Ben Stiller': 69, 'Harrison Ford': 25, 'Daniel Roebuck': 24, 'Alan Arkin': 42, 'Rus Blackwell': 14, 'Chazz Palminteri': 38, 'Scarlett Johansson': 34, 'Joel Michaely': 11, 'Emily Blunt': 32, 'James Marsden': 47, 'Brett Rice': 26, 'M. C. Gainey': 37, 'Rob Huebel': 41, 'Paul Dano': 42, 'Jackson Rathbone': 15, 'Tara Reid': 17, 'Morgan Freeman': 47, 'Michael Caine': 27, '50 Cent': 30, 'Jason Statham': 28, 'Tom Cruise': 22, 'Sean Patrick Flanery': 17, 'Joaquin Phoenix': 12, 'Anthony Hopkins': 36, 'Daniel Craig': 23, 'Frances Conroy': 41, 'Daniel Day-Lewis': 9, 'Christopher Plummer': 23, \"Denis O'Hare\": 36, 'Vincent Pastore': 13, 'Ian McKellen': 15, 'Bai Ling': 25, 'Javier Bardem': 23, 'Paul Newman': 5, 'Malcolm McDowell': 35, 'Heath Ledger': 7, 'Richard Tyson': 20, 'Mel Gibson': 6, 'Al Pacino': 29, 'Ralph Fiennes': 13, 'Kirk Douglas': 1, 'Marlon Brando': 4, 'F. Murray Abraham': 1, 'James Dean': 1})"
      ]
     },
     "execution_count": 191,
     "metadata": {},
     "output_type": "execute_result"
    }
   ],
   "source": [
    "degree_nodes = actors_small.degree() ; degree_nodes"
   ]
  },
  {
   "cell_type": "code",
   "execution_count": 207,
   "metadata": {},
   "outputs": [
    {
     "data": {
      "text/plain": [
       "{'Ritchie Montgomery': 41,\n",
       " 'Tim Blake Nelson': 45,\n",
       " 'Jessica Alba': 43,\n",
       " 'Val Kilmer': 52,\n",
       " 'Queen Latifah': 33,\n",
       " 'Will Arnett': 59,\n",
       " 'Joseph Gordon-Levitt': 48,\n",
       " 'Nicolas Cage': 52,\n",
       " 'Zach Galifianakis': 61,\n",
       " 'Ed Harris': 42,\n",
       " 'Helen Mirren': 37,\n",
       " 'Jeremy Irons': 24,\n",
       " 'Stanley Tucci': 73,\n",
       " 'Bill Hader': 58,\n",
       " 'Kristen Bell': 51,\n",
       " 'Danny McBride': 60,\n",
       " 'George Clooney': 41,\n",
       " 'Channing Tatum': 52,\n",
       " 'Jamie Foxx': 32,\n",
       " 'Jessica Chastain': 33,\n",
       " 'Tom Wilkinson': 34,\n",
       " 'Jack Nicholson': 11,\n",
       " 'Kathryn Hahn': 52,\n",
       " 'Kevin Kline': 27,\n",
       " 'Tony Hale': 44,\n",
       " 'Jonah Hill': 66,\n",
       " 'Justin Long': 89,\n",
       " 'Josh Lucas': 47,\n",
       " 'Woody Harrelson': 70,\n",
       " 'Diora Baird': 25,\n",
       " 'Tom Arnold': 45,\n",
       " 'Alfred Molina': 33,\n",
       " 'Dermot Mulroney': 41,\n",
       " 'Lochlyn Munro': 34,\n",
       " 'Stephen Root': 65,\n",
       " 'Molly Shannon': 43,\n",
       " 'Will Ferrell': 74,\n",
       " 'David Koechner': 91,\n",
       " 'Owen Wilson': 67,\n",
       " 'Anna Kendrick': 36,\n",
       " 'Dennis Quaid': 32,\n",
       " 'Jason Mewes': 20,\n",
       " 'Seth Rogen': 66,\n",
       " 'Christa Campbell': 43,\n",
       " 'Jeff Chase': 34,\n",
       " 'Jessica Biel': 39,\n",
       " 'Jon Voight': 21,\n",
       " 'Vince Vaughn': 66,\n",
       " 'Forest Whitaker': 48,\n",
       " 'Noel Gugliemi': 25,\n",
       " 'Beth Grant': 54,\n",
       " 'Elaine Hendrix': 18,\n",
       " 'Amy Poehler': 58,\n",
       " 'Susan Sarandon': 66,\n",
       " 'Julianne Moore': 43,\n",
       " 'Kevin Bacon': 38,\n",
       " 'Robin Wright': 47,\n",
       " 'Christian Slater': 30,\n",
       " 'Heather Graham': 35,\n",
       " 'Margo Martindale': 37,\n",
       " 'Rance Howard': 47,\n",
       " 'Mary Steenburgen': 44,\n",
       " 'Christopher McDonald': 42,\n",
       " 'Richard Jenkins': 69,\n",
       " 'Willem Dafoe': 40,\n",
       " 'Rosemarie DeWitt': 23,\n",
       " 'Patrick Warburton': 43,\n",
       " 'Sigourney Weaver': 56,\n",
       " 'Ray Liotta': 64,\n",
       " 'Juno Temple': 40,\n",
       " 'Rhoda Griffis': 26,\n",
       " 'Adam Scott': 44,\n",
       " 'Jane Lynch': 64,\n",
       " 'Billy Burke': 27,\n",
       " 'Michael Sheen': 33,\n",
       " 'David Carradine': 35,\n",
       " 'Ron Perlman': 25,\n",
       " 'Kristen Wiig': 64,\n",
       " 'John Savage': 19,\n",
       " 'Ving Rhames': 43,\n",
       " 'Tommy Lee Jones': 34,\n",
       " 'Bradley Cooper': 55,\n",
       " 'Stephen Tobolowsky': 23,\n",
       " 'Jennifer Aniston': 42,\n",
       " 'Johnny Depp': 18,\n",
       " 'Chris Evans': 44,\n",
       " 'Kristen Stewart': 37,\n",
       " 'Craig Robinson': 47,\n",
       " 'Matt Damon': 43,\n",
       " 'Michael Douglas': 17,\n",
       " 'Glenn Morshower': 29,\n",
       " 'Oliver Platt': 40,\n",
       " 'Dustin Hoffman': 35,\n",
       " 'Geoffrey Rush': 13,\n",
       " 'David Jensen': 40,\n",
       " 'Noah Segan': 13,\n",
       " 'Danny Huston': 51,\n",
       " 'Christian Bale': 35,\n",
       " 'Liam Neeson': 29,\n",
       " 'Jennifer Coolidge': 37,\n",
       " 'Samuel L. Jackson': 72,\n",
       " 'Christoph Waltz': 12,\n",
       " 'Colin Farrell': 33,\n",
       " 'Fred Armisen': 46,\n",
       " 'Fred Willard': 47,\n",
       " 'Amy Adams': 60,\n",
       " 'Mark Strong': 39,\n",
       " 'Robert Redford': 17,\n",
       " 'John C. Reilly': 56,\n",
       " 'James Duval': 25,\n",
       " 'Tony Todd': 21,\n",
       " 'Richard Kind': 24,\n",
       " 'John Leguizamo': 32,\n",
       " 'Matthew McConaughey': 40,\n",
       " 'Wallace Shawn': 30,\n",
       " 'Brad Dourif': 33,\n",
       " 'Cam Gigandet': 30,\n",
       " 'Jeremy Sisto': 16,\n",
       " 'Judy Greer': 53,\n",
       " 'Kris Kristofferson': 37,\n",
       " 'Danny Glover': 45,\n",
       " 'Anthony Mackie': 51,\n",
       " 'Luke Wilson': 58,\n",
       " 'Kevin Hart': 38,\n",
       " 'Viola Davis': 41,\n",
       " 'Elizabeth Banks': 71,\n",
       " 'Mark Boone Junior': 34,\n",
       " 'Vivica A. Fox': 25,\n",
       " 'Tom Kenny': 32,\n",
       " 'Dean Cain': 12,\n",
       " 'Robin Williams': 41,\n",
       " 'James Cromwell': 42,\n",
       " 'Robert Patrick': 54,\n",
       " 'Malin ?kerman': 57,\n",
       " 'Nicole Kidman': 37,\n",
       " 'Elias Koteas': 25,\n",
       " 'Sam Rockwell': 45,\n",
       " 'Tony Curran': 24,\n",
       " 'Ciar?n Hinds': 36,\n",
       " 'Jeffrey Wright': 41,\n",
       " 'Philip Seymour Hoffman': 45,\n",
       " 'Sean Penn': 18,\n",
       " 'Joe Pesci': 9,\n",
       " 'Robert De Niro': 61,\n",
       " 'Snoop Dogg': 31,\n",
       " 'Terry Crews': 44,\n",
       " 'Rob Corddry': 66,\n",
       " 'Edward Norton': 32,\n",
       " 'Clifton Powell': 22,\n",
       " 'Matt Walsh': 40,\n",
       " 'Aidan Quinn': 21,\n",
       " 'Bonnie Johnson': 14,\n",
       " 'Will Forte': 41,\n",
       " 'Louis Mandylor': 11,\n",
       " 'David Strathairn': 37,\n",
       " 'Danny Trejo': 80,\n",
       " 'Michael Biehn': 25,\n",
       " 'Bruce McGill': 37,\n",
       " 'Carmen Electra': 29,\n",
       " 'Michael Madsen': 47,\n",
       " 'Josh Brolin': 51,\n",
       " 'Lucy Punch': 33,\n",
       " 'Paul Rudd': 77,\n",
       " 'Rashida Jones': 43,\n",
       " 'Jesse Eisenberg': 36,\n",
       " 'Tim Robbins': 32,\n",
       " 'Cedric the Entertainer': 35,\n",
       " 'Taraji P. Henson': 30,\n",
       " 'Clint Howard': 31,\n",
       " 'J.D. Evermore': 35,\n",
       " 'Ed Helms': 54,\n",
       " 'Gina Gershon': 33,\n",
       " 'Bryan Cranston': 37,\n",
       " 'Melanie Lynskey': 26,\n",
       " 'Vera Farmiga': 32,\n",
       " 'Chris Messina': 37,\n",
       " 'Patricia Clarkson': 35,\n",
       " 'Steve Coogan': 48,\n",
       " 'J.K. Simmons': 67,\n",
       " 'Russell Crowe': 27,\n",
       " 'Bob Gunton': 48,\n",
       " 'Mike Epps': 35,\n",
       " 'Brian Cox': 43,\n",
       " 'James Franco': 65,\n",
       " 'Robert Downey Jr.': 40,\n",
       " 'Don Cheadle': 24,\n",
       " 'Kellan Lutz': 19,\n",
       " 'Stephen McHattie': 19,\n",
       " 'Olivia Wilde': 43,\n",
       " 'Liev Schreiber': 30,\n",
       " 'Brad Pitt': 42,\n",
       " 'Tom Hanks': 35,\n",
       " 'Rob Schneider': 31,\n",
       " 'Allison Janney': 35,\n",
       " 'Mike Vogel': 21,\n",
       " 'Jeff Bridges': 22,\n",
       " 'John Goodman': 58,\n",
       " 'Dakota Fanning': 33,\n",
       " 'Amanda Seyfried': 38,\n",
       " 'Mircea Monroe': 21,\n",
       " 'John Heard': 20,\n",
       " 'Thomas Lennon': 38,\n",
       " 'Chris Mulkey': 12,\n",
       " 'Paul Giamatti': 59,\n",
       " 'Michael Clarke Duncan': 52,\n",
       " 'Jim Carrey': 31,\n",
       " 'John Malkovich': 33,\n",
       " 'Terrence Howard': 45,\n",
       " 'Edrick Browne': 35,\n",
       " 'Steven Bauer': 19,\n",
       " 'Christopher Walken': 50,\n",
       " 'Kathy Bates': 43,\n",
       " 'Vinnie Jones': 56,\n",
       " 'Jason Bateman': 74,\n",
       " 'James Remar': 34,\n",
       " 'Frank Welker': 29,\n",
       " 'Naomi Watts': 33,\n",
       " 'Lin Shaye': 31,\n",
       " 'Maria Bello': 34,\n",
       " 'Rip Torn': 36,\n",
       " 'Rob Riggle': 51,\n",
       " 'Joe Chrest': 29,\n",
       " 'Melissa Leo': 51,\n",
       " 'Billy Crudup': 43,\n",
       " 'John Cusack': 33,\n",
       " 'Bill Murray': 25,\n",
       " 'Ryan Reynolds': 49,\n",
       " 'Jeff Bennett': 19,\n",
       " 'Kevin Spacey': 26,\n",
       " 'Jenna Fischer': 38,\n",
       " 'Keith David': 55,\n",
       " 'Lindsay Lohan': 26,\n",
       " 'Aasif Mandvi': 37,\n",
       " 'Adam LeFevre': 32,\n",
       " 'Neal McDonough': 33,\n",
       " 'Tom Sizemore': 30,\n",
       " 'Olivia Thirlby': 21,\n",
       " 'William Sadler': 26,\n",
       " 'William H. Macy': 56,\n",
       " 'Michael Shannon': 36,\n",
       " 'Chris Pratt': 26,\n",
       " 'Parker Posey': 28,\n",
       " 'Bill Moseley': 29,\n",
       " 'Joel David Moore': 30,\n",
       " 'Lauren Ambrose': 17,\n",
       " 'Denzel Washington': 30,\n",
       " 'Bobby Cannavale': 47,\n",
       " 'Marc Macaulay': 23,\n",
       " 'Ray Wise': 29,\n",
       " 'Kevin Corrigan': 50,\n",
       " 'Hugh Jackman': 42,\n",
       " 'Bruce Davison': 16,\n",
       " 'Steve Buscemi': 69,\n",
       " 'Steve Carell': 60,\n",
       " 'Robert Forster': 29,\n",
       " 'Emma Thompson': 20,\n",
       " 'Gary Oldman': 33,\n",
       " 'Toby Jones': 38,\n",
       " 'Ben Foster': 27,\n",
       " 'Bruce Willis': 62,\n",
       " 'Carla Gugino': 45,\n",
       " 'Christopher Lloyd': 41,\n",
       " 'Robert Duvall': 24,\n",
       " 'Clint Eastwood': 10,\n",
       " 'Lance Henriksen': 26,\n",
       " \"Peter O'Toole\": 10,\n",
       " 'Cloris Leachman': 32,\n",
       " 'Rachel McAdams': 32,\n",
       " 'James Caan': 28,\n",
       " 'Beau Bridges': 22,\n",
       " 'Omari Hardwick': 16,\n",
       " 'Idris Elba': 21,\n",
       " 'Will Smith': 15,\n",
       " 'Lacey Chabert': 23,\n",
       " 'Marcia Gay Harden': 31,\n",
       " 'Michael Ironside': 18,\n",
       " 'Kevin Durand': 22,\n",
       " 'Philip Baker Hall': 35,\n",
       " 'James Russo': 24,\n",
       " 'Leonardo DiCaprio': 31,\n",
       " 'Michelle Monaghan': 39,\n",
       " 'Carlos Alazraqui': 26,\n",
       " 'Tracy Morgan': 37,\n",
       " 'Dwayne Johnson': 38,\n",
       " 'Alec Baldwin': 44,\n",
       " 'Stephen Dorff': 27,\n",
       " 'Edward Herrmann': 34,\n",
       " 'Michael Rooker': 25,\n",
       " 'Sean Astin': 28,\n",
       " 'Martin Starr': 44,\n",
       " 'Ben Kingsley': 30,\n",
       " 'Dee Wallace': 25,\n",
       " 'John Carroll Lynch': 35,\n",
       " 'Richard Riehle': 51,\n",
       " 'C. Thomas Howell': 15,\n",
       " 'Martin Sheen': 28,\n",
       " 'Chlo? Moretz': 30,\n",
       " 'Giancarlo Esposito': 17,\n",
       " 'Seymour Cassel': 15,\n",
       " 'David Cross': 56,\n",
       " 'Lance E. Nichols': 27,\n",
       " 'Ken Jeong': 46,\n",
       " 'Jeffrey Dean Morgan': 26,\n",
       " 'Patrick Wilson': 39,\n",
       " 'Chris Parnell': 50,\n",
       " 'Colin Firth': 15,\n",
       " 'Jeffrey Tambor': 58,\n",
       " 'Rosario Dawson': 49,\n",
       " 'Arielle Kebbel': 19,\n",
       " 'Missi Pyle': 42,\n",
       " 'Gene Hackman': 8,\n",
       " 'Eric Roberts': 47,\n",
       " 'Ron Jeremy': 18,\n",
       " 'Ben Stiller': 69,\n",
       " 'Harrison Ford': 25,\n",
       " 'Daniel Roebuck': 24,\n",
       " 'Alan Arkin': 42,\n",
       " 'Rus Blackwell': 14,\n",
       " 'Chazz Palminteri': 38,\n",
       " 'Scarlett Johansson': 34,\n",
       " 'Joel Michaely': 11,\n",
       " 'Emily Blunt': 32,\n",
       " 'James Marsden': 47,\n",
       " 'Brett Rice': 26,\n",
       " 'M. C. Gainey': 37,\n",
       " 'Rob Huebel': 41,\n",
       " 'Paul Dano': 42,\n",
       " 'Jackson Rathbone': 15,\n",
       " 'Tara Reid': 17,\n",
       " 'Morgan Freeman': 47,\n",
       " 'Michael Caine': 27,\n",
       " '50 Cent': 30,\n",
       " 'Jason Statham': 28,\n",
       " 'Tom Cruise': 22,\n",
       " 'Sean Patrick Flanery': 17,\n",
       " 'Joaquin Phoenix': 12,\n",
       " 'Anthony Hopkins': 36,\n",
       " 'Daniel Craig': 23,\n",
       " 'Frances Conroy': 41,\n",
       " 'Daniel Day-Lewis': 9,\n",
       " 'Christopher Plummer': 23,\n",
       " \"Denis O'Hare\": 36,\n",
       " 'Vincent Pastore': 13,\n",
       " 'Ian McKellen': 15,\n",
       " 'Bai Ling': 25,\n",
       " 'Javier Bardem': 23,\n",
       " 'Paul Newman': 5,\n",
       " 'Malcolm McDowell': 35,\n",
       " 'Heath Ledger': 7,\n",
       " 'Richard Tyson': 20,\n",
       " 'Mel Gibson': 6,\n",
       " 'Al Pacino': 29,\n",
       " 'Ralph Fiennes': 13,\n",
       " 'Kirk Douglas': 1,\n",
       " 'Marlon Brando': 4,\n",
       " 'F. Murray Abraham': 1,\n",
       " 'James Dean': 1}"
      ]
     },
     "execution_count": 207,
     "metadata": {},
     "output_type": "execute_result"
    }
   ],
   "source": [
    "dict(degree_nodes)"
   ]
  },
  {
   "cell_type": "code",
   "execution_count": 323,
   "metadata": {},
   "outputs": [
    {
     "data": {
      "text/plain": [
       "array(['41', '45', '43', '52', '33', '59', '48', '52', '61', '42', '37',\n",
       "       '24', '73', '58', '51', '60', '41', '52', '32', '33', '34', '11',\n",
       "       '52', '27', '44', '66', '89', '47', '70', '25', '45', '33', '41',\n",
       "       '34', '65', '43', '74', '91', '67', '36', '32', '20', '66', '43',\n",
       "       '34', '39', '21', '66', '48', '25', '54', '18', '58', '66', '43',\n",
       "       '38', '47', '30', '35', '37', '47', '44', '42', '69', '40', '23',\n",
       "       '43', '56', '64', '40', '26', '44', '64', '27', '33', '35', '25',\n",
       "       '64', '19', '43', '34', '55', '23', '42', '18', '44', '37', '47',\n",
       "       '43', '17', '29', '40', '35', '13', '40', '13', '51', '35', '29',\n",
       "       '37', '72', '12', '33', '46', '47', '60', '39', '17', '56', '25',\n",
       "       '21', '24', '32', '40', '30', '33', '30', '16', '53', '37', '45',\n",
       "       '51', '58', '38', '41', '71', '34', '25', '32', '12', '41', '42',\n",
       "       '54', '57', '37', '25', '45', '24', '36', '41', '45', '18', '9',\n",
       "       '61', '31', '44', '66', '32', '22', '40', '21', '14', '41', '11',\n",
       "       '37', '80', '25', '37', '29', '47', '51', '33', '77', '43', '36',\n",
       "       '32', '35', '30', '31', '35', '54', '33', '37', '26', '32', '37',\n",
       "       '35', '48', '67', '27', '48', '35', '43', '65', '40', '24', '19',\n",
       "       '19', '43', '30', '42', '35', '31', '35', '21', '22', '58', '33',\n",
       "       '38', '21', '20', '38', '12', '59', '52', '31', '33', '45', '35',\n",
       "       '19', '50', '43', '56', '74', '34', '29', '33', '31', '34', '36',\n",
       "       '51', '29', '51', '43', '33', '25', '49', '19', '26', '38', '55',\n",
       "       '26', '37', '32', '33', '30', '21', '26', '56', '36', '26', '28',\n",
       "       '29', '30', '17', '30', '47', '23', '29', '50', '42', '16', '69',\n",
       "       '60', '29', '20', '33', '38', '27', '62', '45', '41', '24', '10',\n",
       "       '26', '10', '32', '32', '28', '22', '16', '21', '15', '23', '31',\n",
       "       '18', '22', '35', '24', '31', '39', '26', '37', '38', '44', '27',\n",
       "       '34', '25', '28', '44', '30', '25', '35', '51', '15', '28', '30',\n",
       "       '17', '15', '56', '27', '46', '26', '39', '50', '15', '58', '49',\n",
       "       '19', '42', '8', '47', '18', '69', '25', '24', '42', '14', '38',\n",
       "       '34', '11', '32', '47', '26', '37', '41', '42', '15', '17', '47',\n",
       "       '27', '30', '28', '22', '17', '12', '36', '23', '41', '9', '23',\n",
       "       '36', '13', '15', '25', '23', '5', '35', '7', '20', '6', '29',\n",
       "       '13', '1', '4', '1', '1'], dtype='<U22')"
      ]
     },
     "execution_count": 323,
     "metadata": {},
     "output_type": "execute_result"
    }
   ],
   "source": [
    "degree_values = np.array(degree_nodes)[:,1] ; degree_values"
   ]
  },
  {
   "cell_type": "code",
   "execution_count": 256,
   "metadata": {},
   "outputs": [
    {
     "data": {
      "text/plain": [
       "(357,)"
      ]
     },
     "execution_count": 256,
     "metadata": {},
     "output_type": "execute_result"
    }
   ],
   "source": [
    "degree_values.shape"
   ]
  },
  {
   "cell_type": "code",
   "execution_count": 272,
   "metadata": {},
   "outputs": [],
   "source": [
    "lst = []\n",
    "\n",
    "for i in range(len(degree_values)):\n",
    "    test = int(degree_values[i])\n",
    "    \n",
    "    lst.append(test)\n",
    "    #     print(degree_values[i])"
   ]
  },
  {
   "cell_type": "code",
   "execution_count": 324,
   "metadata": {},
   "outputs": [
    {
     "data": {
      "text/plain": [
       "[41,\n",
       " 45,\n",
       " 43,\n",
       " 52,\n",
       " 33,\n",
       " 59,\n",
       " 48,\n",
       " 52,\n",
       " 61,\n",
       " 42,\n",
       " 37,\n",
       " 24,\n",
       " 73,\n",
       " 58,\n",
       " 51,\n",
       " 60,\n",
       " 41,\n",
       " 52,\n",
       " 32,\n",
       " 33,\n",
       " 34,\n",
       " 11,\n",
       " 52,\n",
       " 27,\n",
       " 44,\n",
       " 66,\n",
       " 89,\n",
       " 47,\n",
       " 70,\n",
       " 25,\n",
       " 45,\n",
       " 33,\n",
       " 41,\n",
       " 34,\n",
       " 65,\n",
       " 43,\n",
       " 74,\n",
       " 91,\n",
       " 67,\n",
       " 36,\n",
       " 32,\n",
       " 20,\n",
       " 66,\n",
       " 43,\n",
       " 34,\n",
       " 39,\n",
       " 21,\n",
       " 66,\n",
       " 48,\n",
       " 25,\n",
       " 54,\n",
       " 18,\n",
       " 58,\n",
       " 66,\n",
       " 43,\n",
       " 38,\n",
       " 47,\n",
       " 30,\n",
       " 35,\n",
       " 37,\n",
       " 47,\n",
       " 44,\n",
       " 42,\n",
       " 69,\n",
       " 40,\n",
       " 23,\n",
       " 43,\n",
       " 56,\n",
       " 64,\n",
       " 40,\n",
       " 26,\n",
       " 44,\n",
       " 64,\n",
       " 27,\n",
       " 33,\n",
       " 35,\n",
       " 25,\n",
       " 64,\n",
       " 19,\n",
       " 43,\n",
       " 34,\n",
       " 55,\n",
       " 23,\n",
       " 42,\n",
       " 18,\n",
       " 44,\n",
       " 37,\n",
       " 47,\n",
       " 43,\n",
       " 17,\n",
       " 29,\n",
       " 40,\n",
       " 35,\n",
       " 13,\n",
       " 40,\n",
       " 13,\n",
       " 51,\n",
       " 35,\n",
       " 29,\n",
       " 37,\n",
       " 72,\n",
       " 12,\n",
       " 33,\n",
       " 46,\n",
       " 47,\n",
       " 60,\n",
       " 39,\n",
       " 17,\n",
       " 56,\n",
       " 25,\n",
       " 21,\n",
       " 24,\n",
       " 32,\n",
       " 40,\n",
       " 30,\n",
       " 33,\n",
       " 30,\n",
       " 16,\n",
       " 53,\n",
       " 37,\n",
       " 45,\n",
       " 51,\n",
       " 58,\n",
       " 38,\n",
       " 41,\n",
       " 71,\n",
       " 34,\n",
       " 25,\n",
       " 32,\n",
       " 12,\n",
       " 41,\n",
       " 42,\n",
       " 54,\n",
       " 57,\n",
       " 37,\n",
       " 25,\n",
       " 45,\n",
       " 24,\n",
       " 36,\n",
       " 41,\n",
       " 45,\n",
       " 18,\n",
       " 9,\n",
       " 61,\n",
       " 31,\n",
       " 44,\n",
       " 66,\n",
       " 32,\n",
       " 22,\n",
       " 40,\n",
       " 21,\n",
       " 14,\n",
       " 41,\n",
       " 11,\n",
       " 37,\n",
       " 80,\n",
       " 25,\n",
       " 37,\n",
       " 29,\n",
       " 47,\n",
       " 51,\n",
       " 33,\n",
       " 77,\n",
       " 43,\n",
       " 36,\n",
       " 32,\n",
       " 35,\n",
       " 30,\n",
       " 31,\n",
       " 35,\n",
       " 54,\n",
       " 33,\n",
       " 37,\n",
       " 26,\n",
       " 32,\n",
       " 37,\n",
       " 35,\n",
       " 48,\n",
       " 67,\n",
       " 27,\n",
       " 48,\n",
       " 35,\n",
       " 43,\n",
       " 65,\n",
       " 40,\n",
       " 24,\n",
       " 19,\n",
       " 19,\n",
       " 43,\n",
       " 30,\n",
       " 42,\n",
       " 35,\n",
       " 31,\n",
       " 35,\n",
       " 21,\n",
       " 22,\n",
       " 58,\n",
       " 33,\n",
       " 38,\n",
       " 21,\n",
       " 20,\n",
       " 38,\n",
       " 12,\n",
       " 59,\n",
       " 52,\n",
       " 31,\n",
       " 33,\n",
       " 45,\n",
       " 35,\n",
       " 19,\n",
       " 50,\n",
       " 43,\n",
       " 56,\n",
       " 74,\n",
       " 34,\n",
       " 29,\n",
       " 33,\n",
       " 31,\n",
       " 34,\n",
       " 36,\n",
       " 51,\n",
       " 29,\n",
       " 51,\n",
       " 43,\n",
       " 33,\n",
       " 25,\n",
       " 49,\n",
       " 19,\n",
       " 26,\n",
       " 38,\n",
       " 55,\n",
       " 26,\n",
       " 37,\n",
       " 32,\n",
       " 33,\n",
       " 30,\n",
       " 21,\n",
       " 26,\n",
       " 56,\n",
       " 36,\n",
       " 26,\n",
       " 28,\n",
       " 29,\n",
       " 30,\n",
       " 17,\n",
       " 30,\n",
       " 47,\n",
       " 23,\n",
       " 29,\n",
       " 50,\n",
       " 42,\n",
       " 16,\n",
       " 69,\n",
       " 60,\n",
       " 29,\n",
       " 20,\n",
       " 33,\n",
       " 38,\n",
       " 27,\n",
       " 62,\n",
       " 45,\n",
       " 41,\n",
       " 24,\n",
       " 10,\n",
       " 26,\n",
       " 10,\n",
       " 32,\n",
       " 32,\n",
       " 28,\n",
       " 22,\n",
       " 16,\n",
       " 21,\n",
       " 15,\n",
       " 23,\n",
       " 31,\n",
       " 18,\n",
       " 22,\n",
       " 35,\n",
       " 24,\n",
       " 31,\n",
       " 39,\n",
       " 26,\n",
       " 37,\n",
       " 38,\n",
       " 44,\n",
       " 27,\n",
       " 34,\n",
       " 25,\n",
       " 28,\n",
       " 44,\n",
       " 30,\n",
       " 25,\n",
       " 35,\n",
       " 51,\n",
       " 15,\n",
       " 28,\n",
       " 30,\n",
       " 17,\n",
       " 15,\n",
       " 56,\n",
       " 27,\n",
       " 46,\n",
       " 26,\n",
       " 39,\n",
       " 50,\n",
       " 15,\n",
       " 58,\n",
       " 49,\n",
       " 19,\n",
       " 42,\n",
       " 8,\n",
       " 47,\n",
       " 18,\n",
       " 69,\n",
       " 25,\n",
       " 24,\n",
       " 42,\n",
       " 14,\n",
       " 38,\n",
       " 34,\n",
       " 11,\n",
       " 32,\n",
       " 47,\n",
       " 26,\n",
       " 37,\n",
       " 41,\n",
       " 42,\n",
       " 15,\n",
       " 17,\n",
       " 47,\n",
       " 27,\n",
       " 30,\n",
       " 28,\n",
       " 22,\n",
       " 17,\n",
       " 12,\n",
       " 36,\n",
       " 23,\n",
       " 41,\n",
       " 9,\n",
       " 23,\n",
       " 36,\n",
       " 13,\n",
       " 15,\n",
       " 25,\n",
       " 23,\n",
       " 5,\n",
       " 35,\n",
       " 7,\n",
       " 20,\n",
       " 6,\n",
       " 29,\n",
       " 13,\n",
       " 1,\n",
       " 4,\n",
       " 1,\n",
       " 1]"
      ]
     },
     "execution_count": 324,
     "metadata": {},
     "output_type": "execute_result"
    }
   ],
   "source": [
    "lst"
   ]
  },
  {
   "cell_type": "code",
   "execution_count": 274,
   "metadata": {},
   "outputs": [
    {
     "data": {
      "text/plain": [
       "array([41, 45, 43, 52, 33, 59, 48, 52, 61, 42, 37, 24, 73, 58, 51, 60, 41,\n",
       "       52, 32, 33, 34, 11, 52, 27, 44, 66, 89, 47, 70, 25, 45, 33, 41, 34,\n",
       "       65, 43, 74, 91, 67, 36, 32, 20, 66, 43, 34, 39, 21, 66, 48, 25, 54,\n",
       "       18, 58, 66, 43, 38, 47, 30, 35, 37, 47, 44, 42, 69, 40, 23, 43, 56,\n",
       "       64, 40, 26, 44, 64, 27, 33, 35, 25, 64, 19, 43, 34, 55, 23, 42, 18,\n",
       "       44, 37, 47, 43, 17, 29, 40, 35, 13, 40, 13, 51, 35, 29, 37, 72, 12,\n",
       "       33, 46, 47, 60, 39, 17, 56, 25, 21, 24, 32, 40, 30, 33, 30, 16, 53,\n",
       "       37, 45, 51, 58, 38, 41, 71, 34, 25, 32, 12, 41, 42, 54, 57, 37, 25,\n",
       "       45, 24, 36, 41, 45, 18,  9, 61, 31, 44, 66, 32, 22, 40, 21, 14, 41,\n",
       "       11, 37, 80, 25, 37, 29, 47, 51, 33, 77, 43, 36, 32, 35, 30, 31, 35,\n",
       "       54, 33, 37, 26, 32, 37, 35, 48, 67, 27, 48, 35, 43, 65, 40, 24, 19,\n",
       "       19, 43, 30, 42, 35, 31, 35, 21, 22, 58, 33, 38, 21, 20, 38, 12, 59,\n",
       "       52, 31, 33, 45, 35, 19, 50, 43, 56, 74, 34, 29, 33, 31, 34, 36, 51,\n",
       "       29, 51, 43, 33, 25, 49, 19, 26, 38, 55, 26, 37, 32, 33, 30, 21, 26,\n",
       "       56, 36, 26, 28, 29, 30, 17, 30, 47, 23, 29, 50, 42, 16, 69, 60, 29,\n",
       "       20, 33, 38, 27, 62, 45, 41, 24, 10, 26, 10, 32, 32, 28, 22, 16, 21,\n",
       "       15, 23, 31, 18, 22, 35, 24, 31, 39, 26, 37, 38, 44, 27, 34, 25, 28,\n",
       "       44, 30, 25, 35, 51, 15, 28, 30, 17, 15, 56, 27, 46, 26, 39, 50, 15,\n",
       "       58, 49, 19, 42,  8, 47, 18, 69, 25, 24, 42, 14, 38, 34, 11, 32, 47,\n",
       "       26, 37, 41, 42, 15, 17, 47, 27, 30, 28, 22, 17, 12, 36, 23, 41,  9,\n",
       "       23, 36, 13, 15, 25, 23,  5, 35,  7, 20,  6, 29, 13,  1,  4,  1,  1])"
      ]
     },
     "execution_count": 274,
     "metadata": {},
     "output_type": "execute_result"
    }
   ],
   "source": [
    "test = np.array(lst) ; test"
   ]
  },
  {
   "cell_type": "code",
   "execution_count": 325,
   "metadata": {},
   "outputs": [
    {
     "data": {
      "text/plain": [
       "array([41, 45, 43, 52, 33, 59, 48, 52, 61, 42, 37, 24, 73, 58, 51, 60, 41,\n",
       "       52, 32, 33, 34, 11, 52, 27, 44, 66, 89, 47, 70, 25, 45, 33, 41, 34,\n",
       "       65, 43, 74, 91, 67, 36, 32, 20, 66, 43, 34, 39, 21, 66, 48, 25, 54,\n",
       "       18, 58, 66, 43, 38, 47, 30, 35, 37, 47, 44, 42, 69, 40, 23, 43, 56,\n",
       "       64, 40, 26, 44, 64, 27, 33, 35, 25, 64, 19, 43, 34, 55, 23, 42, 18,\n",
       "       44, 37, 47, 43, 17, 29, 40, 35, 13, 40, 13, 51, 35, 29, 37, 72, 12,\n",
       "       33, 46, 47, 60, 39, 17, 56, 25, 21, 24, 32, 40, 30, 33, 30, 16, 53,\n",
       "       37, 45, 51, 58, 38, 41, 71, 34, 25, 32, 12, 41, 42, 54, 57, 37, 25,\n",
       "       45, 24, 36, 41, 45, 18,  9, 61, 31, 44, 66, 32, 22, 40, 21, 14, 41,\n",
       "       11, 37, 80, 25, 37, 29, 47, 51, 33, 77, 43, 36, 32, 35, 30, 31, 35,\n",
       "       54, 33, 37, 26, 32, 37, 35, 48, 67, 27, 48, 35, 43, 65, 40, 24, 19,\n",
       "       19, 43, 30, 42, 35, 31, 35, 21, 22, 58, 33, 38, 21, 20, 38, 12, 59,\n",
       "       52, 31, 33, 45, 35, 19, 50, 43, 56, 74, 34, 29, 33, 31, 34, 36, 51,\n",
       "       29, 51, 43, 33, 25, 49, 19, 26, 38, 55, 26, 37, 32, 33, 30, 21, 26,\n",
       "       56, 36, 26, 28, 29, 30, 17, 30, 47, 23, 29, 50, 42, 16, 69, 60, 29,\n",
       "       20, 33, 38, 27, 62, 45, 41, 24, 10, 26, 10, 32, 32, 28, 22, 16, 21,\n",
       "       15, 23, 31, 18, 22, 35, 24, 31, 39, 26, 37, 38, 44, 27, 34, 25, 28,\n",
       "       44, 30, 25, 35, 51, 15, 28, 30, 17, 15, 56, 27, 46, 26, 39, 50, 15,\n",
       "       58, 49, 19, 42,  8, 47, 18, 69, 25, 24, 42, 14, 38, 34, 11, 32, 47,\n",
       "       26, 37, 41, 42, 15, 17, 47, 27, 30, 28, 22, 17, 12, 36, 23, 41,  9,\n",
       "       23, 36, 13, 15, 25, 23,  5, 35,  7, 20,  6, 29, 13,  1,  4,  1,  1])"
      ]
     },
     "execution_count": 325,
     "metadata": {},
     "output_type": "execute_result"
    }
   ],
   "source": [
    "test.astype(int)"
   ]
  },
  {
   "cell_type": "code",
   "execution_count": 287,
   "metadata": {},
   "outputs": [
    {
     "data": {
      "text/plain": [
       "matrix([[0., 1., 0., ..., 0., 0., 0.],\n",
       "        [1., 0., 0., ..., 0., 0., 0.],\n",
       "        [0., 0., 0., ..., 0., 0., 0.],\n",
       "        ...,\n",
       "        [0., 0., 0., ..., 0., 0., 0.],\n",
       "        [0., 0., 0., ..., 0., 0., 0.],\n",
       "        [0., 0., 0., ..., 0., 0., 0.]])"
      ]
     },
     "execution_count": 287,
     "metadata": {},
     "output_type": "execute_result"
    }
   ],
   "source": [
    "matrix"
   ]
  },
  {
   "cell_type": "code",
   "execution_count": 282,
   "metadata": {},
   "outputs": [
    {
     "data": {
      "text/plain": [
       "6433"
      ]
     },
     "execution_count": 282,
     "metadata": {},
     "output_type": "execute_result"
    }
   ],
   "source": [
    "num_edges = len(actors_small.edges)\n",
    "num_edges"
   ]
  },
  {
   "cell_type": "code",
   "execution_count": 328,
   "metadata": {},
   "outputs": [
    {
     "data": {
      "text/plain": [
       "27"
      ]
     },
     "execution_count": 328,
     "metadata": {},
     "output_type": "execute_result"
    }
   ],
   "source": [
    "np.sum([8,9,10])"
   ]
  },
  {
   "cell_type": "code",
   "execution_count": 297,
   "metadata": {},
   "outputs": [
    {
     "ename": "SyntaxError",
     "evalue": "invalid syntax (<ipython-input-297-1149bf7b463e>, line 1)",
     "output_type": "error",
     "traceback": [
      "\u001b[0;36m  File \u001b[0;32m\"<ipython-input-297-1149bf7b463e>\"\u001b[0;36m, line \u001b[0;32m1\u001b[0m\n\u001b[0;31m    test.T.reshape(,357)\u001b[0m\n\u001b[0m                   ^\u001b[0m\n\u001b[0;31mSyntaxError\u001b[0m\u001b[0;31m:\u001b[0m invalid syntax\n"
     ]
    }
   ],
   "source": [
    "test.T.reshape(,357)"
   ]
  },
  {
   "cell_type": "code",
   "execution_count": 405,
   "metadata": {},
   "outputs": [],
   "source": [
    "def girvan_newman_step(G, pprint=False, pop1=True):\n",
    "    \"\"\"Run one step of the Girvan-Newman community detection algorithm.\n",
    "\n",
    "    Afterwards, the graph will have one more connected component.\n",
    "\n",
    "    Parameters\n",
    "    ----------\n",
    "    G: networkx Graph object\n",
    "\n",
    "    Returns\n",
    "    -------\n",
    "    None\n",
    "    \"\"\"\n",
    "    #MUST MODIFY THE ORIGINAL \n",
    "    satisfied = 'no'\n",
    "    #modify G\n",
    "    num_comps = len([com for com in nx.connected_components(G)])\n",
    "    new_num_comps = num_comps\n",
    "    \n",
    "    \n",
    "    #GET THE EDGE-CENTRALITIES\n",
    "    e_centralities = nx.edge_betweenness_centrality(G, normalized=True, weight=None)\n",
    "          \n",
    "        #repeat until a new connected component is created:\n",
    "    while new_num_comps == num_comps:\n",
    "\n",
    "        if pop1:\n",
    "            #REMOVE THE TOP EDGE(S) \n",
    "            e = [key for key in e_centralities if e_centralities[key] == max(e_centralities.values())][0]\n",
    "            if pprint: print('Removing ', e)\n",
    "            e_centralities.pop(e)\n",
    "            #UPDATE G ->>>>>> G.remove_node()\n",
    "            G.remove_edge(e[0],e[1])\n",
    "        else:\n",
    "            #REMOVE THE TOP EDGE(S) \n",
    "            highest_edges = [key for key in e_centralities if e_centralities[key] == max(e_centralities.values())]\n",
    "            for e in highest_edges: \n",
    "                if pprint: print('Removing ', e)\n",
    "                e_centralities.pop(e)\n",
    "                #UPDATE G ->>>>>> G.remove_node()\n",
    "                G.remove_edge(e[0],e[1])\n",
    "\n",
    "                \n",
    "        #GET NUMBER OF NEW COMPONENTS\n",
    "        new_num_comps = len([com for com in nx.connected_components(G)])\n",
    "        if pprint: print('OLD/NEW Components: ', num_comps, new_num_comps)"
   ]
  },
  {
   "cell_type": "code",
   "execution_count": 406,
   "metadata": {},
   "outputs": [],
   "source": [
    "import networkx as nx\n",
    "from collections import Counter\n",
    "\n",
    "def find_communities_n(G, n):\n",
    "    \"\"\"Return communites of G after running Girvan-Newman algorithm n steps.\n",
    "\n",
    "    Parameters\n",
    "    ----------\n",
    "    G: networkx Graph object\n",
    "    n: int\n",
    "\n",
    "    Returns\n",
    "    -------\n",
    "    list of lists\n",
    "    \"\"\"\n",
    "    G1 = G.copy()\n",
    "    for i in range(n):\n",
    "        girvan_newman_step(G1)\n",
    "    return list(nx.connected_components(G1))"
   ]
  },
  {
   "cell_type": "code",
   "execution_count": 410,
   "metadata": {},
   "outputs": [],
   "source": [
    "def get_modularity(subgraphs, degrees, num_edges):\n",
    "    \"\"\"Return the value of the modularity for the graph G.\n",
    "\n",
    "    Parameters\n",
    "    ----------\n",
    "    subgraphs: generator\n",
    "        Graph broken in subgraphs\n",
    "    degrees: dictionary\n",
    "        Node: degree key-value pairs from original graph\n",
    "    num_edges: float\n",
    "        Number of edges in original graph\n",
    "\n",
    "    Returns\n",
    "    -------\n",
    "    float\n",
    "        Modularity value, between -0.5 and 1\n",
    "    \"\"\"\n",
    "    sums = []\n",
    "    \n",
    "    sgs = [sg for sg in subgraphs]\n",
    "    \n",
    "    # loop through all the subgraphs created by subgraphs generator\n",
    "    for s in sgs:\n",
    "        # PULL OUT THE DEGREES FOR EACH COMMUNITY\n",
    "        degrees = dict(s.degree())\n",
    "        # converty degrees to matrix\n",
    "        D = np.matrix(list(degrees.values()))\n",
    "        #create di*dj matrix\n",
    "        DD = (D.T*D)/num_edges/2\n",
    "        # create Adjacency Matrix\n",
    "        A = nx.to_numpy_matrix(s)\n",
    "        # generate sum for subgroup AKA community\n",
    "        sums.append(np.sum(A-DD)/2/num_edges)\n",
    "    return sum(sums)"
   ]
  },
  {
   "cell_type": "markdown",
   "metadata": {},
   "source": [
    "def get_modularity(subgraphs, degrees, num_edges):\n",
    "    \"\"\"Return the value of the modularity for the graph G.\n",
    "\n",
    "    Parameters\n",
    "    ----------\n",
    "    subgraphs: generator\n",
    "        Graph broken in subgraphs\n",
    "    degrees: dictionary\n",
    "        Node: degree key-value pairs from original graph\n",
    "    num_edges: float\n",
    "        Number of edges in original graph\n",
    "\n",
    "    Returns\n",
    "    -------\n",
    "    float\n",
    "        Modularity value, between -0.5 and 1\n",
    "    \"\"\"\n",
    "    subgraph = [thing for thing in subgraphs]\n",
    "    lst_of_modularity_values = []\n",
    "    # loop through all the subgraphs created by subgraphs generator\n",
    "    for i in subgraph:\n",
    "        # get the degree for all nodes within the subgraph\n",
    "        degrees = dict(i.degree())\n",
    "        # convert degrees to a matrix\n",
    "        D = np.matrix(list(degrees.values()))\n",
    "        # turn dictionary into an array\n",
    "        degree_values = np.array(degree_nodes)[:,1]\n",
    "        # fix bug to make sure they're ints\n",
    "        degree_values = degree_values.astype(int)\n",
    "        vert = degree_values.reshape(-1, 1)\n",
    "        hor = degree_values.reshape(1, -1)\n",
    "        modularity_value = np.sum(matrix - ((test * test.T)/(2*num_edges)))\n",
    "        lst_of_modularity_values.append(modularity_value)\n",
    "    return np.sum(lst_of_modularity_values)/ (2*num_edges)"
   ]
  },
  {
   "cell_type": "code",
   "execution_count": 413,
   "metadata": {},
   "outputs": [],
   "source": [
    "def find_communities_modularity(G, max_iter=None):\n",
    "    \"\"\"Return communities with the maximum modularity from G.\n",
    "\n",
    "    Run Girvan-Newman algorithm on G and find communities with max modularity.\n",
    "\n",
    "    Parameters\n",
    "    ----------\n",
    "    G: networkx Graph object\n",
    "    max_iter: int, (optional, default=None)\n",
    "        Maximum number of iterations\n",
    "\n",
    "    Returns\n",
    "    -------\n",
    "    list of lists of strings\n",
    "        Strings are node names\n",
    "    \"\"\"\n",
    "    degrees = G.degree()\n",
    "    num_edges = G.number_of_edges()\n",
    "    G1 = G.copy()\n",
    "    best_modularity = -1.0\n",
    "    best_comps = nx.connected_components(G1)\n",
    "    i = 0\n",
    "    while G1.number_of_edges() > 0:\n",
    "        subgraphs = nx.connected_component_subgraphs(G1)\n",
    "        modularity = get_modularity(subgraphs, degrees, num_edges)\n",
    "        if modularity > best_modularity:\n",
    "            best_modularity = modularity\n",
    "            best_comps = list(nx.connected_components(G1))\n",
    "        girvan_newman_step(G1)\n",
    "        i += 1\n",
    "#         print(i, modularity)\n",
    "        if max_iter and i >= max_iter:\n",
    "            break\n",
    "    return best_comps"
   ]
  },
  {
   "cell_type": "code",
   "execution_count": 414,
   "metadata": {},
   "outputs": [
    {
     "name": "stdout",
     "output_type": "stream",
     "text": [
      "1 -2.419716848542008e-17\n",
      "2 0.10207100591715976\n",
      "3 0.26166995397764625\n",
      "4 0.4993425378040763\n",
      "5 0.47074293228139386\n",
      "6 0.4636752136752137\n",
      "7 0.4842209072978304\n",
      "8 0.4764957264957265\n",
      "9 0.40269559500328733\n",
      "10 0.3829717291255753\n",
      "11 0.3648915187376726\n",
      "12 0.356508875739645\n",
      "13 0.3451676528599606\n",
      "14 0.32741617357001973\n",
      "15 0.3154174884944116\n",
      "16 0.30341880341880345\n",
      "17 0.2820512820512821\n",
      "18 0.26298487836949375\n",
      "19 0.2513149243918475\n",
      "20 0.23093359631821173\n",
      "21 0.2186061801446417\n",
      "22 0.20627876397107167\n",
      "23 0.1845825115055884\n",
      "24 0.1615713346482577\n",
      "25 0.14891518737672582\n",
      "26 0.13625904010519396\n",
      "27 0.12360289283366208\n",
      "28 0.0992767915844839\n",
      "29 0.08662064431295201\n",
      "30 0.07396449704142012\n",
      "31 0.04963839579224195\n",
      "32 0.03698224852071006\n",
      "33 0.012656147271531887\n"
     ]
    },
    {
     "data": {
      "text/plain": [
       "[{0, 1, 2, 3, 7, 9, 12, 13, 17, 19, 21},\n",
       " {4, 5, 6, 10, 16},\n",
       " {8, 14, 15, 18, 20, 22, 23, 24, 25, 26, 27, 28, 29, 30, 31, 32, 33},\n",
       " {11}]"
      ]
     },
     "execution_count": 414,
     "metadata": {},
     "output_type": "execute_result"
    }
   ],
   "source": [
    "find_communities_modularity(karateG)"
   ]
  },
  {
   "cell_type": "code",
   "execution_count": 309,
   "metadata": {},
   "outputs": [
    {
     "data": {
      "text/plain": [
       "array([[41, 45, 43, 52, 33, 59, 48, 52, 61, 42, 37, 24, 73, 58, 51, 60,\n",
       "        41, 52, 32, 33, 34, 11, 52, 27, 44, 66, 89, 47, 70, 25, 45, 33,\n",
       "        41, 34, 65, 43, 74, 91, 67, 36, 32, 20, 66, 43, 34, 39, 21, 66,\n",
       "        48, 25, 54, 18, 58, 66, 43, 38, 47, 30, 35, 37, 47, 44, 42, 69,\n",
       "        40, 23, 43, 56, 64, 40, 26, 44, 64, 27, 33, 35, 25, 64, 19, 43,\n",
       "        34, 55, 23, 42, 18, 44, 37, 47, 43, 17, 29, 40, 35, 13, 40, 13,\n",
       "        51, 35, 29, 37, 72, 12, 33, 46, 47, 60, 39, 17, 56, 25, 21, 24,\n",
       "        32, 40, 30, 33, 30, 16, 53, 37, 45, 51, 58, 38, 41, 71, 34, 25,\n",
       "        32, 12, 41, 42, 54, 57, 37, 25, 45, 24, 36, 41, 45, 18,  9, 61,\n",
       "        31, 44, 66, 32, 22, 40, 21, 14, 41, 11, 37, 80, 25, 37, 29, 47,\n",
       "        51, 33, 77, 43, 36, 32, 35, 30, 31, 35, 54, 33, 37, 26, 32, 37,\n",
       "        35, 48, 67, 27, 48, 35, 43, 65, 40, 24, 19, 19, 43, 30, 42, 35,\n",
       "        31, 35, 21, 22, 58, 33, 38, 21, 20, 38, 12, 59, 52, 31, 33, 45,\n",
       "        35, 19, 50, 43, 56, 74, 34, 29, 33, 31, 34, 36, 51, 29, 51, 43,\n",
       "        33, 25, 49, 19, 26, 38, 55, 26, 37, 32, 33, 30, 21, 26, 56, 36,\n",
       "        26, 28, 29, 30, 17, 30, 47, 23, 29, 50, 42, 16, 69, 60, 29, 20,\n",
       "        33, 38, 27, 62, 45, 41, 24, 10, 26, 10, 32, 32, 28, 22, 16, 21,\n",
       "        15, 23, 31, 18, 22, 35, 24, 31, 39, 26, 37, 38, 44, 27, 34, 25,\n",
       "        28, 44, 30, 25, 35, 51, 15, 28, 30, 17, 15, 56, 27, 46, 26, 39,\n",
       "        50, 15, 58, 49, 19, 42,  8, 47, 18, 69, 25, 24, 42, 14, 38, 34,\n",
       "        11, 32, 47, 26, 37, 41, 42, 15, 17, 47, 27, 30, 28, 22, 17, 12,\n",
       "        36, 23, 41,  9, 23, 36, 13, 15, 25, 23,  5, 35,  7, 20,  6, 29,\n",
       "        13,  1,  4,  1,  1]])"
      ]
     },
     "execution_count": 309,
     "metadata": {},
     "output_type": "execute_result"
    }
   ],
   "source": [
    "hor = test.reshape(1,-1); hor"
   ]
  },
  {
   "cell_type": "code",
   "execution_count": 313,
   "metadata": {},
   "outputs": [],
   "source": [
    "arr_test = (vert * hor)"
   ]
  },
  {
   "cell_type": "code",
   "execution_count": null,
   "metadata": {},
   "outputs": [],
   "source": []
  },
  {
   "cell_type": "code",
   "execution_count": 315,
   "metadata": {},
   "outputs": [
    {
     "data": {
      "text/plain": [
       "matrix([[-5.4069365e+06, -5.9344415e+06, -5.6706895e+06, ...,\n",
       "         -5.2750600e+05, -1.3187650e+05, -1.3187650e+05],\n",
       "        [-5.9344415e+06, -6.5134125e+06, -6.2239275e+06, ...,\n",
       "         -5.7897000e+05, -1.4474250e+05, -1.4474250e+05],\n",
       "        [-5.6706895e+06, -6.2239275e+06, -5.9473085e+06, ...,\n",
       "         -5.5323800e+05, -1.3830950e+05, -1.3830950e+05],\n",
       "        ...,\n",
       "        [-5.2750600e+05, -5.7897000e+05, -5.5323800e+05, ...,\n",
       "         -5.1464000e+04, -1.2866000e+04, -1.2866000e+04],\n",
       "        [-1.3187650e+05, -1.4474250e+05, -1.3830950e+05, ...,\n",
       "         -1.2866000e+04, -3.2165000e+03, -3.2165000e+03],\n",
       "        [-1.3187650e+05, -1.4474250e+05, -1.3830950e+05, ...,\n",
       "         -1.2866000e+04, -3.2165000e+03, -3.2165000e+03]])"
      ]
     },
     "execution_count": 315,
     "metadata": {},
     "output_type": "execute_result"
    }
   ],
   "source": [
    "matrix - (arr_test/ 2*num_edges)"
   ]
  },
  {
   "cell_type": "code",
   "execution_count": 320,
   "metadata": {},
   "outputs": [
    {
     "data": {
      "text/plain": [
       "-0.19172132876471581"
      ]
     },
     "execution_count": 320,
     "metadata": {},
     "output_type": "execute_result"
    }
   ],
   "source": [
    "# for a community \n",
    "(np.sum(matrix - ((test * test.T)/ (2*num_edges))))/(2*num_edges)\n"
   ]
  },
  {
   "cell_type": "code",
   "execution_count": 250,
   "metadata": {},
   "outputs": [
    {
     "ename": "AttributeError",
     "evalue": "'DegreeView' object has no attribute 'values'",
     "output_type": "error",
     "traceback": [
      "\u001b[0;31m---------------------------------------------------------------------------\u001b[0m",
      "\u001b[0;31mAttributeError\u001b[0m                            Traceback (most recent call last)",
      "\u001b[0;32m<ipython-input-250-8a98acc96023>\u001b[0m in \u001b[0;36m<module>\u001b[0;34m\u001b[0m\n\u001b[0;32m----> 1\u001b[0;31m \u001b[0mdegree_nodes\u001b[0m\u001b[0;34m.\u001b[0m\u001b[0mvalues\u001b[0m\u001b[0;34m(\u001b[0m\u001b[0;34m)\u001b[0m\u001b[0;34m\u001b[0m\u001b[0;34m\u001b[0m\u001b[0m\n\u001b[0m",
      "\u001b[0;31mAttributeError\u001b[0m: 'DegreeView' object has no attribute 'values'"
     ]
    }
   ],
   "source": [
    "degree_nodes.values()"
   ]
  },
  {
   "cell_type": "code",
   "execution_count": 265,
   "metadata": {},
   "outputs": [],
   "source": [
    "test = np.array(lst)"
   ]
  },
  {
   "cell_type": "code",
   "execution_count": 267,
   "metadata": {},
   "outputs": [
    {
     "data": {
      "text/plain": [
       "(356,)"
      ]
     },
     "execution_count": 267,
     "metadata": {},
     "output_type": "execute_result"
    }
   ],
   "source": [
    "test.shape"
   ]
  },
  {
   "cell_type": "code",
   "execution_count": 174,
   "metadata": {},
   "outputs": [],
   "source": [
    "def find_communities_modularity(G, max_iter=None):\n",
    "    \"\"\"Return communities with the maximum modularity from G.\n",
    "\n",
    "    Run Girvan-Newman algorithm on G and find communities with max modularity.\n",
    "\n",
    "    Parameters\n",
    "    ----------\n",
    "    G: networkx Graph object\n",
    "    max_iter: int, (optional, default=None)\n",
    "        Maximum number of iterations\n",
    "\n",
    "    Returns\n",
    "    -------\n",
    "    list of lists of strings\n",
    "        Strings are node names\n",
    "    \"\"\"\n",
    "    degrees = G.degree()\n",
    "    num_edges = G.number_of_edges()\n",
    "    G1 = G.copy()\n",
    "    best_modularity = -1.0\n",
    "    best_comps = nx.connected_components(G1)\n",
    "    i = 0\n",
    "    while G1.number_of_edges() > 0:\n",
    "        subgraphs = nx.connected_component_subgraphs(G1)\n",
    "        modularity = get_modularity(subgraphs, degrees, num_edges)\n",
    "        if modularity > best_modularity:\n",
    "            best_modularity = modularity\n",
    "            best_comps = list(nx.connected_components(G1))\n",
    "        girvan_newman_step(G1)\n",
    "        i += 1\n",
    "        if max_iter and i >= max_iter:\n",
    "            break\n",
    "    return best_comps\n"
   ]
  },
  {
   "cell_type": "code",
   "execution_count": 175,
   "metadata": {},
   "outputs": [
    {
     "ename": "NameError",
     "evalue": "name 'get_modularity' is not defined",
     "output_type": "error",
     "traceback": [
      "\u001b[0;31m---------------------------------------------------------------------------\u001b[0m",
      "\u001b[0;31mNameError\u001b[0m                                 Traceback (most recent call last)",
      "\u001b[0;32m<ipython-input-175-2cf03923d6e0>\u001b[0m in \u001b[0;36m<module>\u001b[0;34m\u001b[0m\n\u001b[0;32m----> 1\u001b[0;31m \u001b[0mfind_communities_modularity\u001b[0m\u001b[0;34m(\u001b[0m\u001b[0mactors_small\u001b[0m\u001b[0;34m)\u001b[0m\u001b[0;34m\u001b[0m\u001b[0;34m\u001b[0m\u001b[0m\n\u001b[0m",
      "\u001b[0;32m<ipython-input-174-73319a602cea>\u001b[0m in \u001b[0;36mfind_communities_modularity\u001b[0;34m(G, max_iter)\u001b[0m\n\u001b[1;32m     23\u001b[0m     \u001b[0;32mwhile\u001b[0m \u001b[0mG1\u001b[0m\u001b[0;34m.\u001b[0m\u001b[0mnumber_of_edges\u001b[0m\u001b[0;34m(\u001b[0m\u001b[0;34m)\u001b[0m \u001b[0;34m>\u001b[0m \u001b[0;36m0\u001b[0m\u001b[0;34m:\u001b[0m\u001b[0;34m\u001b[0m\u001b[0;34m\u001b[0m\u001b[0m\n\u001b[1;32m     24\u001b[0m         \u001b[0msubgraphs\u001b[0m \u001b[0;34m=\u001b[0m \u001b[0mnx\u001b[0m\u001b[0;34m.\u001b[0m\u001b[0mconnected_component_subgraphs\u001b[0m\u001b[0;34m(\u001b[0m\u001b[0mG1\u001b[0m\u001b[0;34m)\u001b[0m\u001b[0;34m\u001b[0m\u001b[0;34m\u001b[0m\u001b[0m\n\u001b[0;32m---> 25\u001b[0;31m         \u001b[0mmodularity\u001b[0m \u001b[0;34m=\u001b[0m \u001b[0mget_modularity\u001b[0m\u001b[0;34m(\u001b[0m\u001b[0msubgraphs\u001b[0m\u001b[0;34m,\u001b[0m \u001b[0mdegrees\u001b[0m\u001b[0;34m,\u001b[0m \u001b[0mnum_edges\u001b[0m\u001b[0;34m)\u001b[0m\u001b[0;34m\u001b[0m\u001b[0;34m\u001b[0m\u001b[0m\n\u001b[0m\u001b[1;32m     26\u001b[0m         \u001b[0;32mif\u001b[0m \u001b[0mmodularity\u001b[0m \u001b[0;34m>\u001b[0m \u001b[0mbest_modularity\u001b[0m\u001b[0;34m:\u001b[0m\u001b[0;34m\u001b[0m\u001b[0;34m\u001b[0m\u001b[0m\n\u001b[1;32m     27\u001b[0m             \u001b[0mbest_modularity\u001b[0m \u001b[0;34m=\u001b[0m \u001b[0mmodularity\u001b[0m\u001b[0;34m\u001b[0m\u001b[0;34m\u001b[0m\u001b[0m\n",
      "\u001b[0;31mNameError\u001b[0m: name 'get_modularity' is not defined"
     ]
    }
   ],
   "source": [
    "find_communities_modularity(actors_small)"
   ]
  },
  {
   "cell_type": "code",
   "execution_count": null,
   "metadata": {},
   "outputs": [],
   "source": []
  }
 ],
 "metadata": {
  "kernelspec": {
   "display_name": "Python 3",
   "language": "python",
   "name": "python3"
  },
  "language_info": {
   "codemirror_mode": {
    "name": "ipython",
    "version": 3
   },
   "file_extension": ".py",
   "mimetype": "text/x-python",
   "name": "python",
   "nbconvert_exporter": "python",
   "pygments_lexer": "ipython3",
   "version": "3.6.7"
  }
 },
 "nbformat": 4,
 "nbformat_minor": 2
}
