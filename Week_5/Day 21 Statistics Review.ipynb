{
 "cells": [
  {
   "cell_type": "code",
   "execution_count": 2,
   "metadata": {},
   "outputs": [],
   "source": [
    "import numpy as np\n",
    "import scipy.stats as stats"
   ]
  },
  {
   "cell_type": "markdown",
   "metadata": {},
   "source": [
    "1. What distribution would you use in the following cases:\n",
    "\n",
    "\n",
    "* What is the probability that the mean volume of 50 bottles is less than 500 ml? \n",
    "\n",
    "Normal Distribution - assume mean is normally distributed and see where 500 ml appears in the smapling mean.\n",
    "\n",
    "* Deciding to go for a run or not.\n",
    "\n",
    "Binomial Distribution a single yes/no trial\n",
    "\n",
    "* Determining how many days pass before you finally decide to go for a run.  \n",
    "\n",
    "Geometric Distribution - related to binomial, how many failures before success (discrete)\n",
    "\n",
    "* Determining how likely it is that you go for 10 runs in a month.  \n",
    "\n",
    "Binomial - with same assumption as above, the number of success in a certain number of trials\n",
    "\n",
    "* Calculating which day of the month you buy new shoes.  \n",
    "\n",
    "Uniform Distribution - assume probablity to buy new shoes is equal for all days.\n",
    "\n",
    "* Assuming you run at a 9 minute mile avg pace, determining how likely it is that you pass the 3 mile mark in a race in 25 minutes?  \n",
    "\n",
    "Exponenetial - Given a certain average rate (speed), figure out the probablity something will occur at a specific time. \n"
   ]
  },
  {
   "cell_type": "markdown",
   "metadata": {},
   "source": [
    "2. What is the central limit theorem?  "
   ]
  },
  {
   "cell_type": "markdown",
   "metadata": {},
   "source": [
    "##### The central limit theorem allows us to make probabilistic statements about the sample mean from any population using the normal distribution"
   ]
  },
  {
   "cell_type": "markdown",
   "metadata": {},
   "source": [
    "3. How would you go about implementing a bootstrap, and why would you do it?  "
   ]
  },
  {
   "cell_type": "markdown",
   "metadata": {},
   "source": [
    "##### A bootstrap is when you resample randomly with replacement from your sample population. You perform this resample many times to create a distribution of your statistic. "
   ]
  },
  {
   "cell_type": "markdown",
   "metadata": {},
   "source": [
    "   4. Find a 90% confidence interval for the mean using the Central Limit Theorem."
   ]
  },
  {
   "cell_type": "code",
   "execution_count": 4,
   "metadata": {},
   "outputs": [],
   "source": [
    "data= [3, 4, 5, 7, 8, 10, 12, 13, 14, 15, 16, 18, 19, 21, 22, 23, 24, 25, 26, 31, 42, 60, 69, 86, 108, 256]"
   ]
  },
  {
   "cell_type": "code",
   "execution_count": 53,
   "metadata": {},
   "outputs": [],
   "source": [
    "def compute_confidence_interval(data, confidence_width):\n",
    "    sample_mean = np.mean(data)\n",
    "    sample_varaince = np.var(data)\n",
    "    clt_dist = stats.norm(0, np.sqrt(sample_varaince / len(data)))\n",
    "    alpha = clt_dist.ppf(0.5 - (confidence_width / 2.0))\n",
    "    return sample_mean + alpha, sample_mean - alpha"
   ]
  },
  {
   "cell_type": "code",
   "execution_count": 54,
   "metadata": {},
   "outputs": [
    {
     "data": {
      "text/plain": [
       "(19.64074098423661, 52.436182092686465)"
      ]
     },
     "execution_count": 54,
     "metadata": {},
     "output_type": "execute_result"
    }
   ],
   "source": [
    "compute_confidence_interval(data, 0.90)"
   ]
  },
  {
   "cell_type": "markdown",
   "metadata": {},
   "source": [
    "   b) Find a 90% confidence interval for the mean using bootstrapping.  "
   ]
  },
  {
   "cell_type": "code",
   "execution_count": 55,
   "metadata": {},
   "outputs": [],
   "source": [
    "def bootstrap(data, n_bootstrap_samples=5000):\n",
    "    bootstrap_mean = []\n",
    "    for i in range(n_bootstrap_samples):\n",
    "        bootstrap_sample = np.random.choice(data, size=len(data), replace=True)\n",
    "        bootstrap_mean.append(np.mean(bootstrap_sample))\n",
    "        \n",
    "    bootstrap_full_mean = np.mean(bootstrap_dist)\n",
    "    boostrap_variance = np.var(bootstrap_dist)\n",
    "    \n",
    "    left_endpoint = np.percentile(bootstrap_mean, 5.0)\n",
    "    right_endpoint = np.percentile(bootstrap_mean, 95.0)\n",
    "    print(\"Bootstrap Confidence Interval for Population using boostrap: [{:2.2f}, {:2.2f}]\".format(\n",
    "    left_endpoint, right_endpoint))\n",
    "    return "
   ]
  },
  {
   "cell_type": "code",
   "execution_count": 58,
   "metadata": {},
   "outputs": [
    {
     "name": "stdout",
     "output_type": "stream",
     "text": [
      "Bootstrap Confidence Interval for Population using boostrap: [21.62, 54.00]\n"
     ]
    }
   ],
   "source": [
    "bootstrap(data=data)"
   ]
  },
  {
   "cell_type": "markdown",
   "metadata": {},
   "source": [
    "   c) Find a 68% confidence interval for the standard deviation using the Central Limit Theorem.  "
   ]
  },
  {
   "cell_type": "code",
   "execution_count": 64,
   "metadata": {},
   "outputs": [],
   "source": [
    "def compute_confidence_interval_std(data, confidence_width):\n",
    "    sample_std = np.std(data)\n",
    "    sample_varaince = np.var(data)\n",
    "    clt_dist = stats.norm(0, np.sqrt(sample_varaince / len(data)))\n",
    "    alpha = clt_dist.ppf(0.5 - (confidence_width / 2.0))\n",
    "    return sample_std + alpha, sample_std - alpha"
   ]
  },
  {
   "cell_type": "code",
   "execution_count": 66,
   "metadata": {},
   "outputs": [
    {
     "data": {
      "text/plain": [
       "(40.918810956666654, 60.74652353197008)"
      ]
     },
     "execution_count": 66,
     "metadata": {},
     "output_type": "execute_result"
    }
   ],
   "source": [
    "compute_confidence_interval_std(data, 0.68)"
   ]
  },
  {
   "cell_type": "markdown",
   "metadata": {},
   "source": [
    "    d) Find a 68% confidence interval for the standard deviation using bootstrap  \n"
   ]
  },
  {
   "cell_type": "code",
   "execution_count": 67,
   "metadata": {},
   "outputs": [],
   "source": [
    "def bootstrap_std(data, n_bootstrap_samples=5000):\n",
    "    bootstrap_std = []\n",
    "    for i in range(n_bootstrap_samples):\n",
    "        bootstrap_sample = np.random.choice(data, size=len(data), replace=True)\n",
    "        bootstrap_std.append(np.std(bootstrap_sample))\n",
    "        \n",
    "    bootstrap_full_std = np.mean(bootstrap_dist)\n",
    "    boostrap_variance = np.var(bootstrap_dist)\n",
    "    \n",
    "    left_endpoint = np.percentile(bootstrap_std, 16.0)\n",
    "    right_endpoint = np.percentile(bootstrap_std, 84.0)\n",
    "    print(\"Bootstrap Confidence Interval for Population using boostrap: [{:2.2f}, {:2.2f}]\".format(\n",
    "    left_endpoint, right_endpoint))\n",
    "    return "
   ]
  },
  {
   "cell_type": "code",
   "execution_count": 68,
   "metadata": {},
   "outputs": [
    {
     "name": "stdout",
     "output_type": "stream",
     "text": [
      "Bootstrap Confidence Interval for Population using boostrap: [24.24, 65.75]\n"
     ]
    }
   ],
   "source": [
    "bootstrap_std(data=data)"
   ]
  },
  {
   "cell_type": "markdown",
   "metadata": {},
   "source": [
    "   e) Either a), b), c) or d) is a trick question.  Which one is it, and why?  "
   ]
  },
  {
   "cell_type": "markdown",
   "metadata": {},
   "source": [
    "###### C is the trick question because only mean and sum can be modeled using CLT"
   ]
  },
  {
   "cell_type": "markdown",
   "metadata": {},
   "source": [
    "5. Conceptual - Studies of American health habits often show that urban dwellers\n",
    "   have lower average body mass index (BMI)s and are less likely to be obese than\n",
    "   people who live in other types of locations. A naive scientist would conclude\n",
    "   that living in cities causes people to be thinner.\n",
    "   \n",
    "   Discuss at least two confounding variables and how you might change your sampling\n",
    "   parameters to mitigate these effects.   \n"
   ]
  },
  {
   "cell_type": "markdown",
   "metadata": {},
   "source": [
    "Younger people tend to live in cities, and people tend to walk more in cities than the suburbs. Isn't it possible that lower BMIs could be due to 1) age and 2) activity level rather than living in the city?\n",
    "You could try to mitigate these effects by comparing city/not city results stratified by age and activity level."
   ]
  },
  {
   "cell_type": "markdown",
   "metadata": {},
   "source": [
    "6. I surveyed 200 people and looked at their average expenditure on coffee/tea by season. I found that the mean coffee expenditure in winter was greater than that in the summer, with a p-value of .02. Is this significant? Why or why not? What significance level would convince you? "
   ]
  },
  {
   "cell_type": "markdown",
   "metadata": {},
   "source": [
    "This test involves 4 choose 2 comparisons: Winter-Spring, Winter-Summer, Winter-Fall, Spring-Summer, Spring-Fall, Summer-Fall: 4!/((4-2)!2!) = 24 / 4 = 6. Assuming the desired significance level is 0.05, accounting for these comparisons reduces it conservatively to 0.05/6 ~ 0.008 using the Bonferonni correction. With this correction the p-value of 0.02 > 0.008, and so it's not significant."
   ]
  },
  {
   "cell_type": "markdown",
   "metadata": {},
   "source": [
    "7. What is statistical power, and what are four factors that influence it?"
   ]
  },
  {
   "cell_type": "markdown",
   "metadata": {},
   "source": [
    "* the statistical significance criterion used in the test\n",
    "* the magnitude of the effect of interest in the population\n",
    "* the sample size used to detect the effect\n",
    "* the sample variance"
   ]
  },
  {
   "cell_type": "code",
   "execution_count": null,
   "metadata": {},
   "outputs": [],
   "source": []
  }
 ],
 "metadata": {
  "kernelspec": {
   "display_name": "Python 3",
   "language": "python",
   "name": "python3"
  },
  "language_info": {
   "codemirror_mode": {
    "name": "ipython",
    "version": 3
   },
   "file_extension": ".py",
   "mimetype": "text/x-python",
   "name": "python",
   "nbconvert_exporter": "python",
   "pygments_lexer": "ipython3",
   "version": "3.6.7"
  }
 },
 "nbformat": 4,
 "nbformat_minor": 2
}
