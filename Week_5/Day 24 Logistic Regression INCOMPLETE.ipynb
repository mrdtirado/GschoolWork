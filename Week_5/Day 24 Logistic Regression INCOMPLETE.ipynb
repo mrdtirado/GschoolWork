{
 "cells": [
  {
   "cell_type": "code",
   "execution_count": 291,
   "metadata": {},
   "outputs": [
    {
     "ename": "ModuleNotFoundError",
     "evalue": "No module named 'roc_curve'",
     "output_type": "error",
     "traceback": [
      "\u001b[0;31m---------------------------------------------------------------------------\u001b[0m",
      "\u001b[0;31mModuleNotFoundError\u001b[0m                       Traceback (most recent call last)",
      "\u001b[0;32m<ipython-input-291-43aedd81d604>\u001b[0m in \u001b[0;36m<module>\u001b[0;34m\u001b[0m\n\u001b[1;32m     14\u001b[0m \u001b[0;32mfrom\u001b[0m \u001b[0msklearn\u001b[0m\u001b[0;34m.\u001b[0m\u001b[0mmetrics\u001b[0m \u001b[0;32mimport\u001b[0m \u001b[0maccuracy_score\u001b[0m\u001b[0;34m\u001b[0m\u001b[0;34m\u001b[0m\u001b[0m\n\u001b[1;32m     15\u001b[0m \u001b[0;34m\u001b[0m\u001b[0m\n\u001b[0;32m---> 16\u001b[0;31m \u001b[0;32mfrom\u001b[0m \u001b[0mroc_curve\u001b[0m \u001b[0;32mimport\u001b[0m \u001b[0mroc_curve\u001b[0m\u001b[0;34m\u001b[0m\u001b[0;34m\u001b[0m\u001b[0m\n\u001b[0m\u001b[1;32m     17\u001b[0m \u001b[0;34m\u001b[0m\u001b[0m\n\u001b[1;32m     18\u001b[0m \u001b[0mplt\u001b[0m\u001b[0;34m.\u001b[0m\u001b[0mstyle\u001b[0m\u001b[0;34m.\u001b[0m\u001b[0muse\u001b[0m\u001b[0;34m(\u001b[0m\u001b[0;34m'ggplot'\u001b[0m\u001b[0;34m)\u001b[0m\u001b[0;34m\u001b[0m\u001b[0;34m\u001b[0m\u001b[0m\n",
      "\u001b[0;31mModuleNotFoundError\u001b[0m: No module named 'roc_curve'"
     ]
    }
   ],
   "source": [
    "import pandas as pd\n",
    "import numpy as np\n",
    "\n",
    "import statsmodels.api as stats\n",
    "import matplotlib as plt\n",
    "%matplotlib inline\n",
    "\n",
    "from sklearn.linear_model import LogisticRegression\n",
    "from sklearn.model_selection import KFold\n",
    "from sklearn.model_selection import train_test_split\n",
    "from sklearn.preprocessing import MinMaxScaler\n",
    "from sklearn.metrics import recall_score, precision_score, accuracy_score\n",
    "\n",
    "\n",
    "\n",
    "\n",
    "plt.style.use('ggplot')\n",
    "import warnings"
   ]
  },
  {
   "cell_type": "markdown",
   "metadata": {},
   "source": [
    "https://github.com/GalvanizeDataScience/solns_jerboa/blob/master/week/Logistic_Regression/solution.md\n",
    "\n",
    "https://github.com/mrdtirado/logistic-regression/blob/master/assignment.md"
   ]
  },
  {
   "cell_type": "markdown",
   "metadata": {},
   "source": [
    "## Part 2: Data Exploration: Graduate School Admissions"
   ]
  },
  {
   "cell_type": "code",
   "execution_count": 157,
   "metadata": {},
   "outputs": [],
   "source": [
    "df = pd.read_csv('/home/asus/G_school_lectures/Week_5_Lectures/logistic-regression/data/grad.csv')"
   ]
  },
  {
   "cell_type": "code",
   "execution_count": 158,
   "metadata": {},
   "outputs": [
    {
     "data": {
      "text/html": [
       "<div>\n",
       "<style scoped>\n",
       "    .dataframe tbody tr th:only-of-type {\n",
       "        vertical-align: middle;\n",
       "    }\n",
       "\n",
       "    .dataframe tbody tr th {\n",
       "        vertical-align: top;\n",
       "    }\n",
       "\n",
       "    .dataframe thead th {\n",
       "        text-align: right;\n",
       "    }\n",
       "</style>\n",
       "<table border=\"1\" class=\"dataframe\">\n",
       "  <thead>\n",
       "    <tr style=\"text-align: right;\">\n",
       "      <th></th>\n",
       "      <th>admit</th>\n",
       "      <th>gre</th>\n",
       "      <th>gpa</th>\n",
       "      <th>rank</th>\n",
       "    </tr>\n",
       "  </thead>\n",
       "  <tbody>\n",
       "    <tr>\n",
       "      <th>0</th>\n",
       "      <td>0</td>\n",
       "      <td>380</td>\n",
       "      <td>3.61</td>\n",
       "      <td>3</td>\n",
       "    </tr>\n",
       "    <tr>\n",
       "      <th>1</th>\n",
       "      <td>1</td>\n",
       "      <td>660</td>\n",
       "      <td>3.67</td>\n",
       "      <td>3</td>\n",
       "    </tr>\n",
       "    <tr>\n",
       "      <th>2</th>\n",
       "      <td>1</td>\n",
       "      <td>800</td>\n",
       "      <td>4.00</td>\n",
       "      <td>1</td>\n",
       "    </tr>\n",
       "    <tr>\n",
       "      <th>3</th>\n",
       "      <td>1</td>\n",
       "      <td>640</td>\n",
       "      <td>3.19</td>\n",
       "      <td>4</td>\n",
       "    </tr>\n",
       "    <tr>\n",
       "      <th>4</th>\n",
       "      <td>0</td>\n",
       "      <td>520</td>\n",
       "      <td>2.93</td>\n",
       "      <td>4</td>\n",
       "    </tr>\n",
       "  </tbody>\n",
       "</table>\n",
       "</div>"
      ],
      "text/plain": [
       "   admit  gre   gpa  rank\n",
       "0      0  380  3.61     3\n",
       "1      1  660  3.67     3\n",
       "2      1  800  4.00     1\n",
       "3      1  640  3.19     4\n",
       "4      0  520  2.93     4"
      ]
     },
     "execution_count": 158,
     "metadata": {},
     "output_type": "execute_result"
    }
   ],
   "source": [
    "df.head()"
   ]
  },
  {
   "cell_type": "code",
   "execution_count": 159,
   "metadata": {},
   "outputs": [
    {
     "data": {
      "text/html": [
       "<div>\n",
       "<style scoped>\n",
       "    .dataframe tbody tr th:only-of-type {\n",
       "        vertical-align: middle;\n",
       "    }\n",
       "\n",
       "    .dataframe tbody tr th {\n",
       "        vertical-align: top;\n",
       "    }\n",
       "\n",
       "    .dataframe thead th {\n",
       "        text-align: right;\n",
       "    }\n",
       "</style>\n",
       "<table border=\"1\" class=\"dataframe\">\n",
       "  <thead>\n",
       "    <tr style=\"text-align: right;\">\n",
       "      <th></th>\n",
       "      <th>admit</th>\n",
       "      <th>gre</th>\n",
       "      <th>gpa</th>\n",
       "      <th>rank</th>\n",
       "    </tr>\n",
       "  </thead>\n",
       "  <tbody>\n",
       "    <tr>\n",
       "      <th>count</th>\n",
       "      <td>400.000000</td>\n",
       "      <td>400.000000</td>\n",
       "      <td>400.000000</td>\n",
       "      <td>400.00000</td>\n",
       "    </tr>\n",
       "    <tr>\n",
       "      <th>mean</th>\n",
       "      <td>0.317500</td>\n",
       "      <td>587.700000</td>\n",
       "      <td>3.389900</td>\n",
       "      <td>2.48500</td>\n",
       "    </tr>\n",
       "    <tr>\n",
       "      <th>std</th>\n",
       "      <td>0.466087</td>\n",
       "      <td>115.516536</td>\n",
       "      <td>0.380567</td>\n",
       "      <td>0.94446</td>\n",
       "    </tr>\n",
       "    <tr>\n",
       "      <th>min</th>\n",
       "      <td>0.000000</td>\n",
       "      <td>220.000000</td>\n",
       "      <td>2.260000</td>\n",
       "      <td>1.00000</td>\n",
       "    </tr>\n",
       "    <tr>\n",
       "      <th>25%</th>\n",
       "      <td>0.000000</td>\n",
       "      <td>520.000000</td>\n",
       "      <td>3.130000</td>\n",
       "      <td>2.00000</td>\n",
       "    </tr>\n",
       "    <tr>\n",
       "      <th>50%</th>\n",
       "      <td>0.000000</td>\n",
       "      <td>580.000000</td>\n",
       "      <td>3.395000</td>\n",
       "      <td>2.00000</td>\n",
       "    </tr>\n",
       "    <tr>\n",
       "      <th>75%</th>\n",
       "      <td>1.000000</td>\n",
       "      <td>660.000000</td>\n",
       "      <td>3.670000</td>\n",
       "      <td>3.00000</td>\n",
       "    </tr>\n",
       "    <tr>\n",
       "      <th>max</th>\n",
       "      <td>1.000000</td>\n",
       "      <td>800.000000</td>\n",
       "      <td>4.000000</td>\n",
       "      <td>4.00000</td>\n",
       "    </tr>\n",
       "  </tbody>\n",
       "</table>\n",
       "</div>"
      ],
      "text/plain": [
       "            admit         gre         gpa       rank\n",
       "count  400.000000  400.000000  400.000000  400.00000\n",
       "mean     0.317500  587.700000    3.389900    2.48500\n",
       "std      0.466087  115.516536    0.380567    0.94446\n",
       "min      0.000000  220.000000    2.260000    1.00000\n",
       "25%      0.000000  520.000000    3.130000    2.00000\n",
       "50%      0.000000  580.000000    3.395000    2.00000\n",
       "75%      1.000000  660.000000    3.670000    3.00000\n",
       "max      1.000000  800.000000    4.000000    4.00000"
      ]
     },
     "execution_count": 159,
     "metadata": {},
     "output_type": "execute_result"
    }
   ],
   "source": [
    "df.describe()"
   ]
  },
  {
   "cell_type": "code",
   "execution_count": 160,
   "metadata": {
    "scrolled": true
   },
   "outputs": [
    {
     "data": {
      "text/html": [
       "<div>\n",
       "<style scoped>\n",
       "    .dataframe tbody tr th:only-of-type {\n",
       "        vertical-align: middle;\n",
       "    }\n",
       "\n",
       "    .dataframe tbody tr th {\n",
       "        vertical-align: top;\n",
       "    }\n",
       "\n",
       "    .dataframe thead th {\n",
       "        text-align: right;\n",
       "    }\n",
       "</style>\n",
       "<table border=\"1\" class=\"dataframe\">\n",
       "  <thead>\n",
       "    <tr style=\"text-align: right;\">\n",
       "      <th>rank</th>\n",
       "      <th>1</th>\n",
       "      <th>2</th>\n",
       "      <th>3</th>\n",
       "      <th>4</th>\n",
       "    </tr>\n",
       "    <tr>\n",
       "      <th>admit</th>\n",
       "      <th></th>\n",
       "      <th></th>\n",
       "      <th></th>\n",
       "      <th></th>\n",
       "    </tr>\n",
       "  </thead>\n",
       "  <tbody>\n",
       "    <tr>\n",
       "      <th>0</th>\n",
       "      <td>28</td>\n",
       "      <td>97</td>\n",
       "      <td>93</td>\n",
       "      <td>55</td>\n",
       "    </tr>\n",
       "    <tr>\n",
       "      <th>1</th>\n",
       "      <td>33</td>\n",
       "      <td>54</td>\n",
       "      <td>28</td>\n",
       "      <td>12</td>\n",
       "    </tr>\n",
       "  </tbody>\n",
       "</table>\n",
       "</div>"
      ],
      "text/plain": [
       "rank    1   2   3   4\n",
       "admit                \n",
       "0      28  97  93  55\n",
       "1      33  54  28  12"
      ]
     },
     "execution_count": 160,
     "metadata": {},
     "output_type": "execute_result"
    }
   ],
   "source": [
    "pd.crosstab(df['admit'],df['rank'])"
   ]
  },
  {
   "cell_type": "code",
   "execution_count": 161,
   "metadata": {},
   "outputs": [
    {
     "data": {
      "image/png": "[encoded data removed]",
      "text/plain": [
       "<Figure size 432x288 with 1 Axes>"
      ]
     },
     "metadata": {},
     "output_type": "display_data"
    }
   ],
   "source": [
    "_ = (pd.crosstab(df['admit'],df['rank'])).plot(kind='bar')"
   ]
  },
  {
   "cell_type": "code",
   "execution_count": 162,
   "metadata": {},
   "outputs": [
    {
     "data": {
      "image/png": "[encoded data removed]",
      "text/plain": [
       "<Figure size 432x288 with 1 Axes>"
      ]
     },
     "metadata": {},
     "output_type": "display_data"
    }
   ],
   "source": [
    "_= df['gpa'].plot(kind='hist')"
   ]
  },
  {
   "cell_type": "code",
   "execution_count": 163,
   "metadata": {},
   "outputs": [
    {
     "data": {
      "image/png": "[encoded data removed]",
      "text/plain": [
       "<Figure size 432x288 with 1 Axes>"
      ]
     },
     "metadata": {},
     "output_type": "display_data"
    }
   ],
   "source": [
    "_ = df['gre'].plot(kind='hist')"
   ]
  },
  {
   "cell_type": "code",
   "execution_count": 164,
   "metadata": {},
   "outputs": [
    {
     "name": "stdout",
     "output_type": "stream",
     "text": [
      "Percentage of students not admitted is 68.25\n"
     ]
    }
   ],
   "source": [
    "print('Percentage of students not admitted is {}'.format(len(df[df['admit'] == 0]) / len(df) * 100))"
   ]
  },
  {
   "cell_type": "code",
   "execution_count": 165,
   "metadata": {},
   "outputs": [
    {
     "name": "stdout",
     "output_type": "stream",
     "text": [
      "Percentage of students admitted is 31.75\n"
     ]
    }
   ],
   "source": [
    "print('Percentage of students admitted is {}'.format(len(df[df['admit'] == 1]) / len(df) * 100))"
   ]
  },
  {
   "cell_type": "markdown",
   "metadata": {},
   "source": [
    "## Part 3: Predicting Graduate School Admissions"
   ]
  },
  {
   "cell_type": "code",
   "execution_count": 167,
   "metadata": {},
   "outputs": [],
   "source": [
    "logit_model = Logit(df['admit'], df[['gre','gpa','rank']])"
   ]
  },
  {
   "cell_type": "code",
   "execution_count": 168,
   "metadata": {},
   "outputs": [],
   "source": [
    "logit_model = stats.Logit(df['admit'], df[['gre','gpa','rank']])"
   ]
  },
  {
   "cell_type": "code",
   "execution_count": 169,
   "metadata": {},
   "outputs": [
    {
     "name": "stdout",
     "output_type": "stream",
     "text": [
      "Optimization terminated successfully.\n",
      "         Current function value: 0.586372\n",
      "         Iterations 5\n"
     ]
    }
   ],
   "source": [
    "result = logit_model.fit()"
   ]
  },
  {
   "cell_type": "code",
   "execution_count": 171,
   "metadata": {},
   "outputs": [
    {
     "name": "stdout",
     "output_type": "stream",
     "text": [
      "                           Logit Regression Results                           \n",
      "==============================================================================\n",
      "Dep. Variable:                  admit   No. Observations:                  400\n",
      "Model:                          Logit   Df Residuals:                      397\n",
      "Method:                           MLE   Df Model:                            2\n",
      "Date:                Thu, 06 Jun 2019   Pseudo R-squ.:                 0.06176\n",
      "Time:                        16:54:40   Log-Likelihood:                -234.55\n",
      "converged:                       True   LL-Null:                       -249.99\n",
      "                                        LLR p-value:                 1.971e-07\n",
      "==============================================================================\n",
      "                 coef    std err          z      P>|z|      [0.025      0.975]\n",
      "------------------------------------------------------------------------------\n",
      "gre            0.0015      0.001      1.420      0.155      -0.001       0.004\n",
      "gpa           -0.0042      0.201     -0.021      0.983      -0.398       0.390\n",
      "rank          -0.6695      0.121     -5.527      0.000      -0.907      -0.432\n",
      "==============================================================================\n"
     ]
    }
   ],
   "source": [
    "print(result.summary())"
   ]
  },
  {
   "cell_type": "code",
   "execution_count": 222,
   "metadata": {},
   "outputs": [],
   "source": [
    "X = df[['gre','gpa','rank']].values\n",
    "y = df['admit'].values"
   ]
  },
  {
   "cell_type": "code",
   "execution_count": 173,
   "metadata": {},
   "outputs": [
    {
     "name": "stderr",
     "output_type": "stream",
     "text": [
      "/home/asus/.virtualenvs/gurus/lib/python3.6/site-packages/sklearn/preprocessing/data.py:334: DataConversionWarning: Data with input dtype int64, float64 were all converted to float64 by MinMaxScaler.\n",
      "  return self.partial_fit(X, y)\n"
     ]
    }
   ],
   "source": [
    "# Lets scale our model \n",
    "scaler = MinMaxScaler(feature_range=(0,1))\n",
    "X =scaler.fit_transform(X)"
   ]
  },
  {
   "cell_type": "code",
   "execution_count": 174,
   "metadata": {
    "scrolled": true
   },
   "outputs": [
    {
     "name": "stdout",
     "output_type": "stream",
     "text": [
      "Optimization terminated successfully.\n",
      "         Current function value: 0.590053\n",
      "         Iterations 5\n"
     ]
    }
   ],
   "source": [
    "model_scaled = stats.Logit(y,X)\n",
    "result_scaled = model_scaled.fit()"
   ]
  },
  {
   "cell_type": "code",
   "execution_count": 175,
   "metadata": {},
   "outputs": [
    {
     "name": "stdout",
     "output_type": "stream",
     "text": [
      "                           Logit Regression Results                           \n",
      "==============================================================================\n",
      "Dep. Variable:                  admit   No. Observations:                  400\n",
      "Model:                          Logit   Df Residuals:                      397\n",
      "Method:                           MLE   Df Model:                            2\n",
      "Date:                Thu, 06 Jun 2019   Pseudo R-squ.:                 0.05587\n",
      "Time:                        16:54:50   Log-Likelihood:                -236.02\n",
      "converged:                       True   LL-Null:                       -249.99\n",
      "                                        LLR p-value:                 8.594e-07\n",
      "==============================================================================\n",
      "                 coef    std err          z      P>|z|      [0.025      0.975]\n",
      "------------------------------------------------------------------------------\n",
      "x1             0.0491      0.502      0.098      0.922      -0.936       1.034\n",
      "x2             0.4525      0.496      0.913      0.361      -0.519       1.424\n",
      "x3            -2.1934      0.351     -6.252      0.000      -2.881      -1.506\n",
      "==============================================================================\n"
     ]
    }
   ],
   "source": [
    "print(result_scaled.summary())"
   ]
  },
  {
   "cell_type": "markdown",
   "metadata": {},
   "source": [
    "At 0.05 level of signifance we can't say that gre or gpa contribute signifcantly to if someone will get admitted to a program. The rank of the school is a signifcant contributer. "
   ]
  },
  {
   "cell_type": "code",
   "execution_count": 138,
   "metadata": {},
   "outputs": [],
   "source": [
    "# Switching to Sklearn\n",
    "clf = LogisticRegression()"
   ]
  },
  {
   "cell_type": "code",
   "execution_count": 143,
   "metadata": {},
   "outputs": [
    {
     "name": "stderr",
     "output_type": "stream",
     "text": [
      "/home/asus/.virtualenvs/gurus/lib/python3.6/site-packages/sklearn/linear_model/logistic.py:433: FutureWarning: Default solver will be changed to 'lbfgs' in 0.22. Specify a solver to silence this warning.\n",
      "  FutureWarning)\n"
     ]
    }
   ],
   "source": [
    "result_scaled = clf.fit(X,y)"
   ]
  },
  {
   "cell_type": "code",
   "execution_count": 140,
   "metadata": {},
   "outputs": [
    {
     "data": {
      "text/plain": [
       "0.7075"
      ]
     },
     "execution_count": 140,
     "metadata": {},
     "output_type": "execute_result"
    }
   ],
   "source": [
    "# Error metric computed r2 score\n",
    "clf.score(X,y)"
   ]
  },
  {
   "cell_type": "code",
   "execution_count": 141,
   "metadata": {
    "scrolled": true
   },
   "outputs": [
    {
     "data": {
      "text/plain": [
       "array([0.21755537, 0.30740433, 0.65105788, 0.16382234, 0.12321335,\n",
       "       0.37338519, 0.42012236, 0.26296829, 0.23942659, 0.47677908,\n",
       "       0.28368506, 0.40777504, 0.63684668, 0.36223369, 0.61508094,\n",
       "       0.22781857, 0.26300454, 0.12989597, 0.4915881 , 0.52842896,\n",
       "       0.20724293, 0.42112807, 0.13007743, 0.17249172, 0.42049301,\n",
       "       0.60643436, 0.53127431, 0.18145841, 0.41025377, 0.44774173,\n",
       "       0.18954147, 0.30208285, 0.25784203, 0.3990066 , 0.36768285,\n",
       "       0.25970916, 0.46522442, 0.18807298, 0.29996029, 0.16989225,\n",
       "       0.23974557, 0.35055918, 0.33598019, 0.22048599, 0.34423656,\n",
       "       0.22338698, 0.36870101, 0.12229981, 0.08789815, 0.19856344,\n",
       "       0.32380296, 0.12198469, 0.20200867, 0.37995263, 0.26933511,\n",
       "       0.37693243, 0.22489121, 0.16016113, 0.32963969, 0.13007743,\n",
       "       0.34674404, 0.15697964, 0.3008451 , 0.33626388, 0.32070284,\n",
       "       0.39325787, 0.22564051, 0.48770253, 0.52704712, 0.61579621,\n",
       "       0.34128778, 0.09038757, 0.14610808, 0.4417915 , 0.20427941,\n",
       "       0.36968152, 0.24200568, 0.3990066 , 0.43180837, 0.5853423 ,\n",
       "       0.15442863, 0.33285788, 0.25277758, 0.10060121, 0.24980895,\n",
       "       0.28886372, 0.35764785, 0.37858849, 0.51587517, 0.47254835,\n",
       "       0.46416147, 0.57373729, 0.51268868, 0.30236422, 0.39530378,\n",
       "       0.38060595, 0.1908738 , 0.34731559, 0.33665477, 0.19500541,\n",
       "       0.16786489, 0.27041118, 0.12409652, 0.30020981, 0.46554073,\n",
       "       0.36225293, 0.55505075, 0.29349259, 0.16360266, 0.33216862,\n",
       "       0.16383376, 0.13620369, 0.16053437, 0.46873679, 0.34895688,\n",
       "       0.33310323, 0.31856341, 0.44880362, 0.61179404, 0.15055255,\n",
       "       0.3838593 , 0.24280571, 0.18381381, 0.19022442, 0.3540883 ,\n",
       "       0.15734686, 0.51371459, 0.23765847, 0.32044408, 0.12658259,\n",
       "       0.34547039, 0.30536676, 0.36087692, 0.19904481, 0.29821683,\n",
       "       0.24665833, 0.15772584, 0.36248893, 0.375294  , 0.51933614,\n",
       "       0.45504528, 0.20564821, 0.22461518, 0.25195562, 0.16730366,\n",
       "       0.2008052 , 0.32595626, 0.18130675, 0.38092055, 0.53553847,\n",
       "       0.61712682, 0.29697079, 0.45644119, 0.25837288, 0.29670968,\n",
       "       0.12912049, 0.25015284, 0.47288092, 0.40204947, 0.33942058,\n",
       "       0.33347377, 0.39596664, 0.42664571, 0.2608408 , 0.34800099,\n",
       "       0.61508094, 0.12877169, 0.34006113, 0.29431443, 0.28223457,\n",
       "       0.21328227, 0.18508994, 0.29147821, 0.44676773, 0.16034343,\n",
       "       0.37134415, 0.2490831 , 0.2456604 , 0.25623789, 0.1491082 ,\n",
       "       0.30738659, 0.18866571, 0.48802018, 0.4046981 , 0.11183536,\n",
       "       0.47051745, 0.26874079, 0.29646184, 0.31254014, 0.32658396,\n",
       "       0.32356112, 0.33883661, 0.31160489, 0.14089521, 0.37726542,\n",
       "       0.37856889, 0.24049857, 0.12137433, 0.28337603, 0.19835119,\n",
       "       0.31047032, 0.33534343, 0.61508094, 0.17362229, 0.56263025,\n",
       "       0.36513261, 0.56754272, 0.54178001, 0.21665546, 0.373956  ,\n",
       "       0.19930075, 0.31315401, 0.25811339, 0.26766892, 0.38923676,\n",
       "       0.22443734, 0.32998986, 0.47357199, 0.3829034 , 0.37856889,\n",
       "       0.22833598, 0.35406925, 0.39562276, 0.33006805, 0.37472236,\n",
       "       0.30683214, 0.3993266 , 0.13230825, 0.32967651, 0.41499736,\n",
       "       0.15885611, 0.24513162, 0.29054079, 0.14842718, 0.5888438 ,\n",
       "       0.33036315, 0.40204947, 0.40399028, 0.11580857, 0.29440096,\n",
       "       0.24072714, 0.52069924, 0.23489776, 0.35186051, 0.42079787,\n",
       "       0.38692513, 0.38927637, 0.28537395, 0.31041681, 0.30799487,\n",
       "       0.17776978, 0.16113634, 0.41900057, 0.17045149, 0.21595934,\n",
       "       0.26437243, 0.32721228, 0.32812144, 0.35374045, 0.43835549,\n",
       "       0.35898012, 0.28308411, 0.21427017, 0.32812144, 0.28909071,\n",
       "       0.19279981, 0.15111314, 0.28452027, 0.40544648, 0.17592199,\n",
       "       0.45783779, 0.23333185, 0.43422371, 0.50601081, 0.30531374,\n",
       "       0.31498155, 0.25617438, 0.51159513, 0.15775905, 0.35573948,\n",
       "       0.46414075, 0.18208155, 0.18957986, 0.13392699, 0.31127866,\n",
       "       0.16458326, 0.54605092, 0.21214427, 0.19708483, 0.07625325,\n",
       "       0.38191389, 0.35903764, 0.438376  , 0.64721259, 0.33442423,\n",
       "       0.22000989, 0.44498083, 0.2802459 , 0.35956074, 0.29499449,\n",
       "       0.36938532, 0.29908123, 0.2706745 , 0.47747069, 0.12272335,\n",
       "       0.17206077, 0.43872504, 0.37527447, 0.31313609, 0.17631215,\n",
       "       0.31398849, 0.42662533, 0.31951428, 0.17405633, 0.16340877,\n",
       "       0.2107126 , 0.23710767, 0.23767356, 0.17003635, 0.45402209,\n",
       "       0.19458366, 0.3415878 , 0.12473682, 0.22809738, 0.17148551,\n",
       "       0.5942225 , 0.38527012, 0.36411862, 0.35312599, 0.11990389,\n",
       "       0.37693243, 0.29790281, 0.36575142, 0.24930538, 0.24248396,\n",
       "       0.54526036, 0.21050462, 0.15221534, 0.44288668, 0.28397321,\n",
       "       0.13889385, 0.17634845, 0.19476992, 0.31801612, 0.22981942,\n",
       "       0.19459672, 0.36153579, 0.41424363, 0.29462625, 0.30595511,\n",
       "       0.51900307, 0.26710955, 0.22343035, 0.42114838, 0.39659   ,\n",
       "       0.4730263 , 0.38728123, 0.52782115, 0.27768005, 0.36184854,\n",
       "       0.54730106, 0.48344363, 0.36287437, 0.32409517, 0.47292246,\n",
       "       0.16908834, 0.17672723, 0.28971221, 0.57022146, 0.51128255,\n",
       "       0.39524403, 0.32505468, 0.38901377, 0.49754865, 0.4040304 ,\n",
       "       0.17005986, 0.40609484, 0.52673529, 0.23997737, 0.26357062,\n",
       "       0.43907916, 0.35826582, 0.3608577 , 0.60030404, 0.23766987,\n",
       "       0.37361942, 0.48382354, 0.35570129, 0.35251201, 0.39731345,\n",
       "       0.39470101, 0.45575348, 0.25569406, 0.42248028, 0.28046878,\n",
       "       0.45712907, 0.21051847, 0.23310451, 0.43907916, 0.31400644])"
      ]
     },
     "execution_count": 141,
     "metadata": {},
     "output_type": "execute_result"
    }
   ],
   "source": [
    "# Predicted Probablity that someone is admitted \n",
    "clf.predict_proba(X)[:,1]"
   ]
  },
  {
   "cell_type": "code",
   "execution_count": 230,
   "metadata": {},
   "outputs": [],
   "source": [
    "import numpy as np\n",
    "from sklearn.linear_model import LogisticRegression\n",
    "from sklearn.metrics import accuracy_score, precision_score, recall_score\n"
   ]
  },
  {
   "cell_type": "code",
   "execution_count": 252,
   "metadata": {},
   "outputs": [],
   "source": [
    "#Kfold cross validation of a dataset\n",
    "\n",
    "warnings.filterwarnings('ignore')\n",
    "accuracies = []\n",
    "precisions = []\n",
    "recalls = []\n",
    "\n",
    "kfold = KFold(len(y))\n",
    "\n",
    "for train_index, test_index in kfold.split(X):\n",
    "    # fit my model on training index of X, y\n",
    "    model = LogisticRegression()\n",
    "    model.fit(X[train_index], y[train_index])\n",
    "    \n",
    "    # predict model on test index using X\n",
    "    y_predict = model.predict(X[test_index])\n",
    "    \n",
    "    # grab true values of y of the test_index\n",
    "    y_true = y[test_index]    \n",
    "    \n",
    "    #Scores created by using true and predicted values\n",
    "    accuracies.append(accuracy_score(y_true, y_predict))\n",
    "    precisions.append(precision_score(y_true, y_predict))\n",
    "    recalls.append(recall_score(y_true, y_predict))"
   ]
  },
  {
   "cell_type": "code",
   "execution_count": 254,
   "metadata": {},
   "outputs": [
    {
     "name": "stdout",
     "output_type": "stream",
     "text": [
      "accuracy: 0.695\n",
      "precision: 0.0575\n",
      "recall: 0.0575\n"
     ]
    }
   ],
   "source": [
    "print (\"accuracy:\", np.mean(accuracies))\n",
    "print (\"precision:\", np.mean(precisions))\n",
    "print (\"recall:\", np.mean(recalls))\n",
    "    "
   ]
  },
  {
   "cell_type": "code",
   "execution_count": 286,
   "metadata": {},
   "outputs": [],
   "source": [
    "# Rank is categorical, we should do a one hot encoding for our rank variable\n",
    "dummies = pd.get_dummies(df['rank'], prefix='rank')\n",
    "X2 = df[['gre','gpa']].join(dummies).values"
   ]
  },
  {
   "cell_type": "code",
   "execution_count": 290,
   "metadata": {},
   "outputs": [
    {
     "name": "stdout",
     "output_type": "stream",
     "text": [
      "accuracy: 0.6975\n",
      "precision: 0.06\n",
      "recall: 0.06\n"
     ]
    }
   ],
   "source": [
    "# compute kfold again using dummy rank\n",
    "\n",
    "warnings.filterwarnings('ignore')\n",
    "accuracies = []\n",
    "precisions = []\n",
    "recalls = []\n",
    "\n",
    "kfold = KFold(len(y))\n",
    "\n",
    "for train_index, test_index in kfold.split(X2):\n",
    "    # fit my model on training index of X, y\n",
    "    model = LogisticRegression()\n",
    "    model.fit(X2[train_index], y[train_index])\n",
    "    # predict model on test index using X\n",
    "    y_predict = model.predict(X2[test_index])\n",
    "    \n",
    "    # grab true values of y of the test_index\n",
    "    y_true = y[test_index]    \n",
    "    \n",
    "    #Scores created by using true and predicted values\n",
    "    accuracies.append(accuracy_score(y_true, y_predict))\n",
    "    precisions.append(precision_score(y_true, y_predict))\n",
    "    recalls.append(recall_score(y_true, y_predict))\n",
    "    \n",
    "print (\"accuracy:\", np.mean(accuracies))\n",
    "print (\"precision:\", np.mean(precisions))\n",
    "print (\"recall:\", np.mean(recalls))"
   ]
  },
  {
   "cell_type": "code",
   "execution_count": null,
   "metadata": {},
   "outputs": [],
   "source": []
  }
 ],
 "metadata": {
  "kernelspec": {
   "display_name": "Python 3",
   "language": "python",
   "name": "python3"
  },
  "language_info": {
   "codemirror_mode": {
    "name": "ipython",
    "version": 3
   },
   "file_extension": ".py",
   "mimetype": "text/x-python",
   "name": "python",
   "nbconvert_exporter": "python",
   "pygments_lexer": "ipython3",
   "version": "3.6.7"
  }
 },
 "nbformat": 4,
 "nbformat_minor": 2
}
