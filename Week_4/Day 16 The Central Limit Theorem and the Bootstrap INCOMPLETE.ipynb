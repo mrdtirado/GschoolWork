{
 "cells": [
  {
   "cell_type": "markdown",
   "metadata": {},
   "source": [
    "# The Central Limit Theorem and the Bootstrap\n",
    "\n",
    "## Part 0: Central Limit Theorem\n",
    "\n",
    "The Central Limit Theorem states that the mean of a sufficiently large number of samples of independent random variables, each drawn from a distribution with a well-defined expected value and well-defined variance, will be approximately normally distributed. Most distributions meet these criteria, so the CLT applies to them. Therefore the application of CLT is ubiquitous in statistics. Here we will explore the CLT via simulation.\n",
    " \n",
    "<br>\n",
    "\n",
    "1. As we explore the CLT we will be plotting means of samples drawn from several different distributions.  In order to do this efficiently we need to pass the Scipy distribution objects ([docs here](http://docs.scipy.org/doc/scipy-0.17.1/reference/stats.html)) and their parameters to this plotting function so that we can generate the data to be plotted. Here is a function that generates draws from a distribution by calling the `.rvs()` method.  Use this code to generate data from at least the **Poisson, Binomial, Exponential, Geometric, and Uniform** distributions. \n"
   ]
  },
  {
   "cell_type": "code",
   "execution_count": 46,
   "metadata": {},
   "outputs": [],
   "source": [
    "import scipy.stats as stats\n",
    "import numpy as np\n",
    "from scipy import stats\n",
    "\n",
    "%matplotlib inline\n",
    "import matplotlib.pyplot as plt\n",
    "\n",
    "def make_draws(dist, params, size=200):\n",
    "  \"\"\"\n",
    "  Draw samples of random variables from a specified distribution\n",
    "  with given parameters and return these in an array.\n",
    "\n",
    "  INPUT:\n",
    "  dist: (Scipy.stats distribution object) Distribution with a .rvs method\n",
    "  params: (dict) Parameters to define the distribution dist.\n",
    "                e.g. if dist = scipy.stats.binom then params could be:\n",
    "                {'n': 100, 'p': 0.25}\n",
    "  size: (int) Number of samples to draw\n",
    "\n",
    "  OUTPUT:\n",
    "  (Numpy array) Sample of random variables \n",
    "  \"\"\"\n",
    "  return dist(**params).rvs(size) "
   ]
  },
  {
   "cell_type": "code",
   "execution_count": 47,
   "metadata": {},
   "outputs": [],
   "source": [
    "# Generate draws from the Binomial Distribution, using Scipy's binom object.  \n",
    "binomial_samp = make_draws(stats.binom, {'n': 100, 'p':0.25}, size=200)"
   ]
  },
  {
   "cell_type": "code",
   "execution_count": 4,
   "metadata": {},
   "outputs": [],
   "source": [
    "# Generate draws from the Binomial Distribution, using Scipy's binom object.  \n",
    "poisson_samp = make_draws(stats.poisson, {'mu': 100}, size=200)"
   ]
  },
  {
   "cell_type": "code",
   "execution_count": 7,
   "metadata": {},
   "outputs": [],
   "source": [
    "uniform_samp = make_draws(stats.uniform, {'loc': 5, 'scale': 1})"
   ]
  },
  {
   "cell_type": "code",
   "execution_count": 13,
   "metadata": {
    "scrolled": true
   },
   "outputs": [],
   "source": [
    "geom_samp = make_draws(stats.geom, {'p': .25})"
   ]
  },
  {
   "cell_type": "code",
   "execution_count": 17,
   "metadata": {},
   "outputs": [],
   "source": [
    "expon_samp = make_draws(stats.expon, {'loc': 25})"
   ]
  },
  {
   "cell_type": "markdown",
   "metadata": {},
   "source": [
    "  NOTES:\n",
    "    The `**params` notation unpacks the `params` dictionary and passes the items in the dict as keyword arguments to define the Scipy distribution instance.  If this is unfamiliar, check out the [docs](https://docs.python.org/2/tutorial/controlflow.html#unpacking-argument-lists) and/or [stackoverflow](http://stackoverflow.com/questions/1179223/in-python-when-passing-arguments-what-does-before-an-argument-do).\n",
    "\n",
    "Beware that Scipy aims for consistency in what it calls the parameters that define a distribution and this results in some discrepancies between how we have presented these distributions in class and the definitions that Scipy uses.  We already saw this with Scipy's implementation of the Gamma distribution in the individual sprint.  Another example is with the [Uniform distribution](http://docs.scipy.org/doc/scipy-0.17.1/reference/generated/scipy.stats.uniform.html#scipy.stats.uniform): typically the distribution is parameterized by its minimum and maximum bounds, while Scipy uses `loc` and `scale` where min=`loc` and max=`loc+scale`. Take some time to scan through the documentation for each distribution you consider.\n",
    "\n",
    "2. Now that you are comfortable drawing samples from various distributions, let's explore some behaviour of samples.  Implement a `plot_means` function that takes the same arguments as `make_draws()` but adds an extra argument `repeat` which determines the number of times to redraw a random sample of `size` from the distribution (and then plots the means). (Since `make_draws` instantiates a distribution object each time it is called and this involves quite a bit of overhead, for the sake of efficiency DO NOT just call `make_draws` from the `plot_means` function, but rather directly create the necessary functionality from scratch.) \n",
    "\n",
    "3. Call `plot_means()` with at least each of the following distributions: \n",
    "   - Binomial\n",
    "   - Poisson \n",
    "   - Exponential\n",
    "   - Geometric\n",
    "   - Uniform\n",
    "\n",
    "   Try out different parameter settings for each of the distributions, as well \n",
    "   as varying the `size` and `repeat` choices. Initial choices for the `size` \n",
    "   and `repeat` might be 200 and 5000. If the distribution of means resembles \n",
    "   a normal distribution regardless of the distribution you have specified, \n",
    "   you have demonstrated the CLT! (Failure to observe this phenomenon means \n",
    "   because of the assymetry and skew of the distribution of the data being \n",
    "   sampled more samples are needed before the CLT effect will begin to emerge!)"
   ]
  },
  {
   "cell_type": "code",
   "execution_count": 62,
   "metadata": {},
   "outputs": [],
   "source": [
    "def plot_means(dist, params, size=200, repeat=5000):\n",
    "    \"\"\"\n",
    "    Draw samples of random variables from a specified distribution\n",
    "    with given parameters and return these in an array.\n",
    "\n",
    "    INPUT:\n",
    "    dist: (Scipy.stats distribution object) Distribution with a .rvs method\n",
    "    params: (dict) Parameters to define the distribution dist.\n",
    "                e.g. if dist = scipy.stats.binom then params could be:\n",
    "                {'n': 100, 'p': 0.25}\n",
    "    size: (int) Number of samples to draw\n",
    "\n",
    "    OUTPUT:\n",
    "    (Numpy array) Sample of random variables \n",
    "    \"\"\"\n",
    "    lst = []\n",
    "    for i in range(repeat):\n",
    "        sample = dist(**params).rvs(size)\n",
    "        lst.append(np.mean(sample))\n",
    "    fig, ax = plt.subplots(1, figsize=(10, 4))\n",
    "    full = ax.hist(lst, bins=50, density=True)\n",
    "    \n",
    "    return full"
   ]
  },
  {
   "cell_type": "code",
   "execution_count": 63,
   "metadata": {},
   "outputs": [
    {
     "data": {
      "image/png": "[encoded data removed]",
      "text/plain": [
       "<Figure size 720x288 with 1 Axes>"
      ]
     },
     "metadata": {
      "needs_background": "light"
     },
     "output_type": "display_data"
    }
   ],
   "source": [
    "binomial_plot = plot_means(stats.binom, {'n': 100, 'p':0.25}, size=200)"
   ]
  },
  {
   "cell_type": "code",
   "execution_count": 64,
   "metadata": {},
   "outputs": [
    {
     "data": {
      "image/png": "[encoded data removed]",
      "text/plain": [
       "<Figure size 720x288 with 1 Axes>"
      ]
     },
     "metadata": {
      "needs_background": "light"
     },
     "output_type": "display_data"
    }
   ],
   "source": [
    "# Generate draws from the Binomial Distribution, using Scipy's binom object.  \n",
    "poisson_plot = plot_means(stats.poisson, {'mu': 100}, size=200)"
   ]
  },
  {
   "cell_type": "code",
   "execution_count": 65,
   "metadata": {},
   "outputs": [
    {
     "data": {
      "image/png": "[encoded data removed]",
      "text/plain": [
       "<Figure size 720x288 with 1 Axes>"
      ]
     },
     "metadata": {
      "needs_background": "light"
     },
     "output_type": "display_data"
    }
   ],
   "source": [
    "uniform_plot = plot_means(stats.uniform, {'loc': 5, 'scale': 1}, size=200)"
   ]
  },
  {
   "cell_type": "code",
   "execution_count": 66,
   "metadata": {},
   "outputs": [
    {
     "data": {
      "image/png": "[encoded data removed]",
      "text/plain": [
       "<Figure size 720x288 with 1 Axes>"
      ]
     },
     "metadata": {
      "needs_background": "light"
     },
     "output_type": "display_data"
    }
   ],
   "source": [
    "geom_plot = plot_means(stats.geom, {'p': .25}, size=200)"
   ]
  },
  {
   "cell_type": "code",
   "execution_count": 67,
   "metadata": {},
   "outputs": [
    {
     "data": {
      "image/png": "[encoded data removed]",
      "text/plain": [
       "<Figure size 720x288 with 1 Axes>"
      ]
     },
     "metadata": {
      "needs_background": "light"
     },
     "output_type": "display_data"
    }
   ],
   "source": [
    "expon_plot = plot_means(stats.expon, {'loc': 25}, size=200)"
   ]
  },
  {
   "cell_type": "markdown",
   "metadata": {},
   "source": [
    "4. What do you observe if you change the sample `size` to 10 instead of 200,\n",
    "   keeping `repeat` constant at 5000? Explain your observation on a high \n",
    "   level. Should the CLT apply when your sample `size` is small with a large \n",
    "   value for `repeat`?  Hint: this is best answered by distinguishing\n",
    "   between the role of the of the `size` and the `repeat` variable."
   ]
  },
  {
   "cell_type": "code",
   "execution_count": 68,
   "metadata": {
    "collapsed": true
   },
   "outputs": [
    {
     "data": {
      "image/png": "[encoded data removed]",
      "text/plain": [
       "<Figure size 720x288 with 1 Axes>"
      ]
     },
     "metadata": {
      "needs_background": "light"
     },
     "output_type": "display_data"
    }
   ],
   "source": [
    "binomial_plot = plot_means(stats.binom, {'n': 100, 'p':0.25}, size=10)"
   ]
  },
  {
   "cell_type": "code",
   "execution_count": 69,
   "metadata": {
    "collapsed": true
   },
   "outputs": [
    {
     "data": {
      "image/png": "[encoded data removed]",
      "text/plain": [
       "<Figure size 720x288 with 1 Axes>"
      ]
     },
     "metadata": {
      "needs_background": "light"
     },
     "output_type": "display_data"
    }
   ],
   "source": [
    "# Generate draws from the Binomial Distribution, using Scipy's binom object.  \n",
    "poisson_plot = plot_means(stats.poisson, {'mu': 100}, size=10)"
   ]
  },
  {
   "cell_type": "code",
   "execution_count": 70,
   "metadata": {
    "collapsed": true
   },
   "outputs": [
    {
     "data": {
      "image/png": "[encoded data removed]",
      "text/plain": [
       "<Figure size 720x288 with 1 Axes>"
      ]
     },
     "metadata": {
      "needs_background": "light"
     },
     "output_type": "display_data"
    }
   ],
   "source": [
    "uniform_plot = plot_means(stats.uniform, {'loc': 5, 'scale': 1}, size=10)"
   ]
  },
  {
   "cell_type": "code",
   "execution_count": 71,
   "metadata": {
    "collapsed": true
   },
   "outputs": [
    {
     "data": {
      "image/png": "[encoded data removed]",
      "text/plain": [
       "<Figure size 720x288 with 1 Axes>"
      ]
     },
     "metadata": {
      "needs_background": "light"
     },
     "output_type": "display_data"
    }
   ],
   "source": [
    "geom_plot = plot_means(stats.geom, {'p': .25}, size=10)"
   ]
  },
  {
   "cell_type": "code",
   "execution_count": 72,
   "metadata": {
    "collapsed": true
   },
   "outputs": [
    {
     "data": {
      "image/png": "[encoded data removed]",
      "text/plain": [
       "<Figure size 720x288 with 1 Axes>"
      ]
     },
     "metadata": {
      "needs_background": "light"
     },
     "output_type": "display_data"
    }
   ],
   "source": [
    "expon_plot = plot_means(stats.expon, {'loc': 25}, size=10)"
   ]
  },
  {
   "cell_type": "code",
   "execution_count": 73,
   "metadata": {},
   "outputs": [],
   "source": [
    "# changing the size to 10 instead of 200, we see an increase in the\n",
    "# standard deviation, leading to the a graph more repsentative of the \n",
    "# sample skew as opposed to a normal distribution"
   ]
  },
  {
   "cell_type": "markdown",
   "metadata": {},
   "source": [
    "5. Instead of taking the mean of the samples, take the maximum of each of the \n",
    "   samples and plot the histograms again. Do they resemble the normal \n",
    "   distribution? Do all sample statistics follow a normal distribution?  In\n",
    "   your answer clarify the sample statistics to which the CLT applies. "
   ]
  },
  {
   "cell_type": "code",
   "execution_count": 75,
   "metadata": {},
   "outputs": [],
   "source": [
    "def plot_means(dist, params, size=200, repeat=5000):\n",
    "    \"\"\"\n",
    "    Draw samples of random variables from a specified distribution\n",
    "    with given parameters and return these in an array.\n",
    "\n",
    "    INPUT:\n",
    "    dist: (Scipy.stats distribution object) Distribution with a .rvs method\n",
    "    params: (dict) Parameters to define the distribution dist.\n",
    "                e.g. if dist = scipy.stats.binom then params could be:\n",
    "                {'n': 100, 'p': 0.25}\n",
    "    size: (int) Number of samples to draw\n",
    "\n",
    "    OUTPUT:\n",
    "    (Numpy array) Sample of random variables \n",
    "    \"\"\"\n",
    "    lst = []\n",
    "    for i in range(repeat):\n",
    "        sample = dist(**params).rvs(size)\n",
    "        lst.append(np.max(sample))\n",
    "    fig, ax = plt.subplots(1, figsize=(10, 4))\n",
    "    full = ax.hist(lst, bins=50, density=True)\n",
    "    \n",
    "    return full"
   ]
  },
  {
   "cell_type": "code",
   "execution_count": 76,
   "metadata": {},
   "outputs": [
    {
     "data": {
      "image/png": "[encoded data removed]",
      "text/plain": [
       "<Figure size 720x288 with 1 Axes>"
      ]
     },
     "metadata": {
      "needs_background": "light"
     },
     "output_type": "display_data"
    }
   ],
   "source": [
    "binomial_plot = plot_means(stats.binom, {'n': 100, 'p':0.25}, size=200)"
   ]
  },
  {
   "cell_type": "code",
   "execution_count": 77,
   "metadata": {},
   "outputs": [
    {
     "data": {
      "image/png": "[encoded data removed]",
      "text/plain": [
       "<Figure size 720x288 with 1 Axes>"
      ]
     },
     "metadata": {
      "needs_background": "light"
     },
     "output_type": "display_data"
    }
   ],
   "source": [
    "# Generate draws from the Binomial Distribution, using Scipy's binom object.  \n",
    "poisson_plot = plot_means(stats.poisson, {'mu': 100}, size=200)"
   ]
  },
  {
   "cell_type": "code",
   "execution_count": 78,
   "metadata": {},
   "outputs": [
    {
     "data": {
      "image/png": "[encoded data removed]",
      "text/plain": [
       "<Figure size 720x288 with 1 Axes>"
      ]
     },
     "metadata": {
      "needs_background": "light"
     },
     "output_type": "display_data"
    }
   ],
   "source": [
    "uniform_plot = plot_means(stats.uniform, {'loc': 5, 'scale': 1}, size=200)"
   ]
  },
  {
   "cell_type": "code",
   "execution_count": 79,
   "metadata": {},
   "outputs": [
    {
     "data": {
      "image/png": "[encoded data removed]",
      "text/plain": [
       "<Figure size 720x288 with 1 Axes>"
      ]
     },
     "metadata": {
      "needs_background": "light"
     },
     "output_type": "display_data"
    }
   ],
   "source": [
    "geom_plot = plot_means(stats.geom, {'p': .25}, size=200)"
   ]
  },
  {
   "cell_type": "code",
   "execution_count": 80,
   "metadata": {},
   "outputs": [
    {
     "data": {
      "image/png": "[encoded data removed]",
      "text/plain": [
       "<Figure size 720x288 with 1 Axes>"
      ]
     },
     "metadata": {
      "needs_background": "light"
     },
     "output_type": "display_data"
    }
   ],
   "source": [
    "expon_plot = plot_means(stats.expon, {'loc': 25}, size=200)"
   ]
  },
  {
   "cell_type": "code",
   "execution_count": 82,
   "metadata": {},
   "outputs": [],
   "source": [
    "# they are mostly normal, with a more stoachastic componenet, except for\n",
    "# a uniform distribution"
   ]
  },
  {
   "cell_type": "markdown",
   "metadata": {},
   "source": [
    "## Part 1: Population Inference and Confidence Interval\n",
    "\n",
    "\n",
    "1. Suppose Google sampled 200 of its employees and measured how long they are gone for lunch. Load the data `data/lunch_hour.txt` into a Numpy ndarray and compute the mean lunch hour of the sample.\n"
   ]
  },
  {
   "cell_type": "code",
   "execution_count": 85,
   "metadata": {},
   "outputs": [],
   "source": [
    "lunch_data = np.loadtxt('/home/asus/central-limit/data/lunch_hour.txt')"
   ]
  },
  {
   "cell_type": "markdown",
   "metadata": {},
   "source": [
    "2. What is the sampling distribution of the sample mean? Justify your answer.\n"
   ]
  },
  {
   "cell_type": "code",
   "execution_count": 104,
   "metadata": {},
   "outputs": [
    {
     "data": {
      "text/plain": [
       "2.1845"
      ]
     },
     "execution_count": 104,
     "metadata": {},
     "output_type": "execute_result"
    }
   ],
   "source": [
    "lunch_data.mean()"
   ]
  },
  {
   "cell_type": "code",
   "execution_count": 98,
   "metadata": {},
   "outputs": [
    {
     "data": {
      "text/plain": [
       "0.33330974999999996"
      ]
     },
     "execution_count": 98,
     "metadata": {},
     "output_type": "execute_result"
    }
   ],
   "source": [
    "np.var(lunch_data)"
   ]
  },
  {
   "cell_type": "markdown",
   "metadata": {},
   "source": [
    "3. Compute the [standard error](http://en.wikipedia.org/wiki/Standard_error) of the sample mean. Based on the standard error and the sample mean, compute the [95% confidence interval](http://dsearls.org/courses/M120Concepts/ClassNotes/Statistics/530G_Derivation.htm) for the population mean lunch break length."
   ]
  },
  {
   "cell_type": "code",
   "execution_count": 103,
   "metadata": {},
   "outputs": [],
   "source": [
    "# Standard error of the mean \n",
    "std_error = np.sqrt(np.var(lunch_data))/np.sqrt(len(lunch_data))"
   ]
  },
  {
   "cell_type": "code",
   "execution_count": 111,
   "metadata": {},
   "outputs": [
    {
     "name": "stdout",
     "output_type": "stream",
     "text": [
      "95% confidence interval is [2.102853230314972, 2.2661467696850277]\n"
     ]
    }
   ],
   "source": [
    "# 95% confidence interval \n",
    "print('95% confidence interval is [{}, {}]'.format(\n",
    "    lunch_data.mean() - 2*std_error,                \n",
    "    lunch_data.mean() + 2*std_error))\n"
   ]
  },
  {
   "cell_type": "markdown",
   "metadata": {},
   "source": [
    "4. Interpret what the 95% confidence interval implies about the lunch hours of Google employees in general.\n"
   ]
  },
  {
   "cell_type": "markdown",
   "metadata": {},
   "source": [
    "https://github.com/GalvanizeDataScience/central-limit/blob/master/assignment.md"
   ]
  },
  {
   "cell_type": "code",
   "execution_count": null,
   "metadata": {},
   "outputs": [],
   "source": []
  }
 ],
 "metadata": {
  "kernelspec": {
   "display_name": "Python 3",
   "language": "python",
   "name": "python3"
  },
  "language_info": {
   "codemirror_mode": {
    "name": "ipython",
    "version": 3
   },
   "file_extension": ".py",
   "mimetype": "text/x-python",
   "name": "python",
   "nbconvert_exporter": "python",
   "pygments_lexer": "ipython3",
   "version": "3.6.7"
  }
 },
 "nbformat": 4,
 "nbformat_minor": 2
}
