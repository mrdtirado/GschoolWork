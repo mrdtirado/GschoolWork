{
 "cells": [
  {
   "cell_type": "markdown",
   "metadata": {},
   "source": [
    "## Part 0: Introduction to Bayesian Analysis\n",
    "\n",
    "This following formula is the underpinning of all Bayesian Analysis.\n",
    "It is **very important** to understand what each of the terms are. Do not\n",
    "move on until you have read and understood this section.\n",
    "\n",
    "**Prior Probability**:\n",
    "- A PMF / PDF representing your initial beliefs about the parameter(s).  \n",
    "- The initial belief is less represented in the posterior as more data is incorporated\n",
    "\n",
    "**Likelihood**:\n",
    "- The probability of observing the data given the parameter(s)\n",
    "- i.e. What is the likelihood of 3 Heads in a row given the probability of heads is 0.7?\n",
    "\n",
    "**Posterior Probability**:\n",
    "- The product of prior and likelihood (Bayesian-update)\n",
    "- The posterior probability becomes the prior of the next Bayesian-update\n",
    "\n",
    "**Normalizing Constant**:\n",
    "- The probability of observing the data. \n",
    "- In Bayesian analysis, this term ensures the sum of all probabilities is 1\n",
    "\n",
    "https://github.com/mrdtirado/power-bayesian/blob/master/pair.md"
   ]
  },
  {
   "cell_type": "markdown",
   "metadata": {},
   "source": [
    "## Part 1: Bayesian Analysis (Discrete example)"
   ]
  },
  {
   "cell_type": "markdown",
   "metadata": {},
   "source": [
    "We're going to start with a discrete example.\n",
    "\n",
    "A box contains a 4-sided die, a 6-sided die, an 8-sided die,\n",
    "a 12-sided die, and a 20-sided die. A die is selected at random, and the\n",
    "rest are destroyed.\n",
    "\n",
    "We would like to determine which die I have selected, given only information of what I roll.\n",
    "\n",
    "You should write the solutions to these in a text or markdown file."
   ]
  },
  {
   "cell_type": "markdown",
   "metadata": {},
   "source": [
    "1. What is the prior associated with choosing any one die?\n"
   ]
  },
  {
   "cell_type": "code",
   "execution_count": 1,
   "metadata": {},
   "outputs": [],
   "source": [
    "# The prior to choosing any one die is 1/5 as it is randomly distributed"
   ]
  },
  {
   "cell_type": "markdown",
   "metadata": {},
   "source": [
    "2. What is the likelihood function? You should assume that the die are all fair."
   ]
  },
  {
   "cell_type": "code",
   "execution_count": 2,
   "metadata": {},
   "outputs": [],
   "source": [
    "# The likelilhood function would be our data of throwing the dice\n",
    "# given that we had a 1/5 prior probablity to pick any given die"
   ]
  },
  {
   "cell_type": "markdown",
   "metadata": {},
   "source": [
    "3. Say I roll an 8. After one bayesian update, what is the probability that I chose each of the dice?\n"
   ]
  },
  {
   "cell_type": "code",
   "execution_count": 3,
   "metadata": {},
   "outputs": [],
   "source": [
    "# 0: The probablity we chose a 4 sided die given we rolled an 8\n",
    "# 0: The probablity we chose a 6 sided die given we rolled an 8\n",
    "# 1/3: The probablity we chose a 8 sided die given we rolled an 8\n",
    "# 1/3: The probablity we chose a 12 sided die given we rolled an 8\n",
    "# 1/3: The probablity we chose a 20 sided die given we rolled an 8"
   ]
  },
  {
   "cell_type": "markdown",
   "metadata": {},
   "source": [
    "4. Comment on the difference in the posteriors if I had rolled the die 50 times instead of 1.\n"
   ]
  },
  {
   "cell_type": "code",
   "execution_count": 5,
   "metadata": {},
   "outputs": [],
   "source": [
    "# We would be more confident in our prior given more trials, \n",
    "# as our trials gets larger, even if our prior was wrong our likelilhood\n",
    "# would drown out an incorrect prior"
   ]
  },
  {
   "cell_type": "markdown",
   "metadata": {},
   "source": [
    "5. Which one of these two sets of data gives you a more certain posterior and why?\n",
    "`[1, 1, 1, 3, 1, 2]` or `[10, 10, 10, 10, 8, 8]`\n"
   ]
  },
  {
   "cell_type": "code",
   "execution_count": 6,
   "metadata": {},
   "outputs": [],
   "source": [
    "# the second distribtuion would give us a more certain poserior because\n",
    "# having a roll of value 10 would mean that it wouldnt be a die of 4,6,8\n",
    "# meaning our prior would need to be a 12 sided die or a 20 sided die"
   ]
  },
  {
   "cell_type": "markdown",
   "metadata": {},
   "source": [
    "6. Say that I modify my prior by my belief that bigger dice are more likely to be drawn from the box. This is my prior distribution:\n",
    "\n",
    "    ```\n",
    "    4-sided die: 8%\n",
    "    6-sided die: 12%\n",
    "    8-sided die: 16%\n",
    "    12-sided die: 24%\n",
    "    20-sided die: 40%\n",
    "    ```\n",
    "\n",
    "    What are my posteriors for each die after rolling the 8?\n",
    "\n",
    "    Which die do we think is most likely? Is this different than what you got with the previous prior?"
   ]
  },
  {
   "cell_type": "code",
   "execution_count": null,
   "metadata": {},
   "outputs": [],
   "source": [
    "# P(Die=4 | Roll8) = 0\n",
    "# P(Die=6 | Roll8) = 0 \n",
    "# P(Die=8 | Roll8) = (P(Die8 | Roll8)P(Die8) / P(Die8))\n",
    "# P(Die=12| Roll8) = (P(Die12 | Roll8)P(Die12) / P(Die8))\n",
    "# P(Die=20| Roll8) = (P(Die20 | Roll8)P(Die20) / P(Die8))"
   ]
  },
  {
   "cell_type": "code",
   "execution_count": 17,
   "metadata": {},
   "outputs": [],
   "source": [
    "die8 = .16 \n",
    "die12 = .24\n",
    "die20 = .40\n",
    "i8roll8 = 1/8\n",
    "i12roll12 = 1/12\n",
    "i20roll20 = 1/20\n",
    "marginal = .16*1/8 + .24*1/12 + .40*1/20"
   ]
  },
  {
   "cell_type": "code",
   "execution_count": 18,
   "metadata": {},
   "outputs": [
    {
     "name": "stdout",
     "output_type": "stream",
     "text": [
      "Likelilhood of die8 rolled 8 is 0.33333333333333337\n",
      "Likelilhood of die12 rolled 8 is 0.3333333333333333\n",
      "Likelilhood of die20 rolled 8 is 0.3333333333333334\n"
     ]
    }
   ],
   "source": [
    "print('Likelilhood of die8 rolled 8 is {}'.format(((i8roll8)*die8)/marginal))\n",
    "print('Likelilhood of die12 rolled 8 is {}'.format(((i12roll12)*die12)/marginal))\n",
    "print('Likelilhood of die20 rolled 8 is {}'.format(((i20roll20)*die20)/marginal))\n",
    "# All die are equally likely to be chosen "
   ]
  },
  {
   "cell_type": "markdown",
   "metadata": {},
   "source": [
    "7. Say you keep the same prior and you roll the die 50 times and get values 1-8 every time. What would you expect of the posterior? How different do you think it would be if you'd used the uniform prior?"
   ]
  },
  {
   "cell_type": "code",
   "execution_count": 19,
   "metadata": {},
   "outputs": [],
   "source": [
    "# i would have a 1/3 chance of it being either a 4, 6, or 8 sided die"
   ]
  },
  {
   "cell_type": "code",
   "execution_count": null,
   "metadata": {},
   "outputs": [],
   "source": []
  }
 ],
 "metadata": {
  "kernelspec": {
   "display_name": "Python 3",
   "language": "python",
   "name": "python3"
  },
  "language_info": {
   "codemirror_mode": {
    "name": "ipython",
    "version": 3
   },
   "file_extension": ".py",
   "mimetype": "text/x-python",
   "name": "python",
   "nbconvert_exporter": "python",
   "pygments_lexer": "ipython3",
   "version": "3.6.7"
  }
 },
 "nbformat": 4,
 "nbformat_minor": 2
}
