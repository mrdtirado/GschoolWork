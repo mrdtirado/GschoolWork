{
 "cells": [
  {
   "cell_type": "markdown",
   "metadata": {},
   "source": [
    "## Warmup"
   ]
  },
  {
   "cell_type": "markdown",
   "metadata": {},
   "source": [
    "You have a stream of items of large and unknown length that we can only iterate over once. Assume that the stream is large enough that it doesn't fit into main memory. For example, a list of search queries in Google or interactions on Facebook.\n",
    "\n",
    "1. Given a data stream of unknown size `n`, write a function that picks an entry uniformly at random. This is, each entry has a `1/n` chance of being chosen."
   ]
  },
  {
   "cell_type": "code",
   "execution_count": null,
   "metadata": {},
   "outputs": [],
   "source": [
    "def random_element(stream):\n",
    "        '''\n",
    "        Return a random element from the iterable stream without using the len function.\n",
    "        Only have one for loop over the stream.\n",
    "        '''\n",
    "        for i in "
   ]
  },
  {
   "cell_type": "markdown",
   "metadata": {},
   "source": [
    "2. Extend the algorithm to pick `k` samples from this stream such that each item is equally likely to be selected.\n",
    "\n",
    "\n",
    "(try solving this on your own for a while before reading about [reservoir sampling](https://en.wikipedia.org/wiki/Reservoir_sampling)\n"
   ]
  },
  {
   "cell_type": "code",
   "execution_count": null,
   "metadata": {},
   "outputs": [],
   "source": []
  }
 ],
 "metadata": {
  "kernelspec": {
   "display_name": "Python 3",
   "language": "python",
   "name": "python3"
  },
  "language_info": {
   "codemirror_mode": {
    "name": "ipython",
    "version": 3
   },
   "file_extension": ".py",
   "mimetype": "text/x-python",
   "name": "python",
   "nbconvert_exporter": "python",
   "pygments_lexer": "ipython3",
   "version": "3.6.7"
  }
 },
 "nbformat": 4,
 "nbformat_minor": 2
}
