{
 "cells": [
  {
   "cell_type": "markdown",
   "metadata": {},
   "source": [
    "Given the following data, use numpy, write a function to compute a 95% confidence interval for the population median "
   ]
  },
  {
   "cell_type": "code",
   "execution_count": 1,
   "metadata": {},
   "outputs": [],
   "source": [
    "import numpy as np"
   ]
  },
  {
   "cell_type": "code",
   "execution_count": 2,
   "metadata": {},
   "outputs": [],
   "source": [
    "data = [196,233,204,1192,408,403,930,322,875,315,806,313,722,258,586,256,559,538,510,483]"
   ]
  },
  {
   "cell_type": "code",
   "execution_count": 24,
   "metadata": {},
   "outputs": [],
   "source": [
    "def bootstrap_ci(sample,stat_function=np.median,resamples=1000, ci=0.95):\n",
    "    '''\n",
    "    input type: dat:np.array, samples:int\n",
    "    rtype: float, float\n",
    "    \n",
    "    left and right endpoints are the 95% confidence interval of the median\n",
    "    '''\n",
    "    bootstrap_median_total = []\n",
    "    for i in range(resamples):\n",
    "        bootstrap_sample = np.random.choice(sample, size=len(sample), replace=True)\n",
    "        bootstrap_median = stat_function(bootstrap_sample)\n",
    "        bootstrap_median_total.append(bootstrap_median)\n",
    "    left_endpoint = np.percentile(bootstrap_median_total, 2.5)\n",
    "    right_endpoint = np.percentile(bootstrap_median_total, 97.5)\n",
    "    return \"Bootstrap 95% Confidence Interval for Sample Population: [{:2.2f}, {:2.2f}]\".format(\n",
    "    left_endpoint, right_endpoint)"
   ]
  },
  {
   "cell_type": "code",
   "execution_count": 25,
   "metadata": {},
   "outputs": [],
   "source": [
    "bootstrap_median_total = bootstrap_ci(sample = data, stat_function=np.median)"
   ]
  },
  {
   "cell_type": "code",
   "execution_count": 26,
   "metadata": {},
   "outputs": [
    {
     "data": {
      "text/plain": [
       "'Bootstrap 95% Confidence Interval for Sample Population: [314.00, 572.50]'"
      ]
     },
     "execution_count": 26,
     "metadata": {},
     "output_type": "execute_result"
    }
   ],
   "source": [
    "bootstrap_median_total"
   ]
  },
  {
   "cell_type": "code",
   "execution_count": null,
   "metadata": {},
   "outputs": [],
   "source": []
  }
 ],
 "metadata": {
  "kernelspec": {
   "display_name": "Python 3",
   "language": "python",
   "name": "python3"
  },
  "language_info": {
   "codemirror_mode": {
    "name": "ipython",
    "version": 3
   },
   "file_extension": ".py",
   "mimetype": "text/x-python",
   "name": "python",
   "nbconvert_exporter": "python",
   "pygments_lexer": "ipython3",
   "version": "3.6.7"
  }
 },
 "nbformat": 4,
 "nbformat_minor": 2
}
