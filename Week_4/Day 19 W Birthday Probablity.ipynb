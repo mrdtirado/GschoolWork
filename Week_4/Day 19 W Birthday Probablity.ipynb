{
 "cells": [
  {
   "cell_type": "markdown",
   "metadata": {},
   "source": [
    "1. Consider *n* people who are attending a party. We assume that every person has\n",
    "   an equal probability of being born on any day during the year, independent of\n",
    "   everyone else, and ignore leap years (i.e. year has 365 days). What is the\n",
    "   probability that each person has a distinct birthday? How many people are\n",
    "   necessary to obtain a 99% probability of at least one birthday collision (i.e. 2 people\n",
    "   with the same birthday)."
   ]
  },
  {
   "cell_type": "code",
   "execution_count": 73,
   "metadata": {},
   "outputs": [],
   "source": [
    "def birthday(n):\n",
    "    '''\n",
    "    Find the probablity of matching birthdays in a group of n people\n",
    "    '''\n",
    "    # Probablity of 2 people matching\n",
    "    prob_match = (364/365)\n",
    "    \n",
    "    #total combinations of people allowing for more chance to match\n",
    "    total_combos = (n*(n-1))/2\n",
    "    \n",
    "    # Probablity of getting two birthdays being the same\n",
    "    prob_total = prob_match ** total_combos\n",
    "    \n",
    "    return 1- prob_total\n",
    "\n",
    "    \n",
    "    "
   ]
  },
  {
   "cell_type": "code",
   "execution_count": 86,
   "metadata": {},
   "outputs": [],
   "source": [
    "def nine_nine_search():\n",
    "    '''\n",
    "    Search through a set of n till you find at what threshhold is 99% chance\n",
    "    '''\n",
    "    \n",
    "    prob_match = (364/365)\n",
    "    \n",
    "    for i in range(1000):\n",
    "        total_combos = (i*(i-1))/2\n",
    "        prob_total = prob_match**total_combos\n",
    "        \n",
    "        if (1-prob_total) >=0.9855:\n",
    "            return i\n",
    "            \n",
    "        "
   ]
  },
  {
   "cell_type": "code",
   "execution_count": 87,
   "metadata": {},
   "outputs": [
    {
     "data": {
      "text/plain": [
       "57"
      ]
     },
     "execution_count": 87,
     "metadata": {},
     "output_type": "execute_result"
    }
   ],
   "source": [
    "nine_nine_search()"
   ]
  },
  {
   "cell_type": "code",
   "execution_count": 67,
   "metadata": {},
   "outputs": [
    {
     "name": "stdout",
     "output_type": "stream",
     "text": [
      "1596.0\n"
     ]
    },
    {
     "data": {
      "text/plain": [
       "0.9874571383670745"
      ]
     },
     "execution_count": 67,
     "metadata": {},
     "output_type": "execute_result"
    }
   ],
   "source": [
    "birthday(57)"
   ]
  },
  {
   "cell_type": "markdown",
   "metadata": {},
   "source": [
    "2. A hunter has two hunting dogs. One day, on the trail of some animal, the\n",
    "   hunter comes to a place where the road diverges into two paths. He knows that\n",
    "   each dog, independent of the other, will choose the correct path with\n",
    "   probability *p*. The hunter decides to let each dog choose a path, and if they\n",
    "   agree, he takes that one, and if they disagree, he randomly picks a path. Is his\n",
    "   strategy better than just letting one of the two dogs decide on a path?\n",
    "   Explain why or why not."
   ]
  },
  {
   "cell_type": "code",
   "execution_count": 65,
   "metadata": {},
   "outputs": [],
   "source": [
    "# Assume dogs are better than random choice\n",
    "\n",
    "def path_choice(dog1 = 0.8, dog2 = 0.7):\n",
    "    agree = dog1*dog2\n",
    "    disagree  = 1 - agree\n",
    "    \n",
    "    #P(R | Disagree) = P(Disagree|R)*P(R)\n",
    "    #P(R) = 0.5\n",
    "    # P(Disaggree|R) *0.42\n",
    "    \n",
    "    bayes_choice = (0.42*0.5)/(0.6*0.5 + 0.7*0.5)\n",
    "    return agree, bayes_choice\n"
   ]
  },
  {
   "cell_type": "code",
   "execution_count": 66,
   "metadata": {},
   "outputs": [
    {
     "data": {
      "text/plain": [
       "(0.5599999999999999, 0.3230769230769231)"
      ]
     },
     "execution_count": 66,
     "metadata": {},
     "output_type": "execute_result"
    }
   ],
   "source": [
    "path_choice()"
   ]
  },
  {
   "cell_type": "markdown",
   "metadata": {},
   "source": [
    "The probablity that both dogs choose the same path and are correct is 0.56 but the probablity of choosing the correct path given that they didn't agree would be 0.5. As long as the probablity of each individual dog is greater than 0.5 random you should choose a random dog. For the dogs agreeing to work they would need to have an average of 0.75 probablity of deciding correctly to be better than random. "
   ]
  }
 ],
 "metadata": {
  "kernelspec": {
   "display_name": "Python 3",
   "language": "python",
   "name": "python3"
  },
  "language_info": {
   "codemirror_mode": {
    "name": "ipython",
    "version": 3
   },
   "file_extension": ".py",
   "mimetype": "text/x-python",
   "name": "python",
   "nbconvert_exporter": "python",
   "pygments_lexer": "ipython3",
   "version": "3.6.7"
  }
 },
 "nbformat": 4,
 "nbformat_minor": 2
}
