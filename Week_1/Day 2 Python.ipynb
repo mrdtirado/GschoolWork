{
 "cells": [
  {
   "cell_type": "code",
   "execution_count": 23,
   "metadata": {},
   "outputs": [],
   "source": [
    "def check_parens(string):\n",
    "    open_par = ['(', '[', '{']\n",
    "    closed_par = [')',']','}']\n",
    "    positionopen = []\n",
    "    positionclosed = []\n",
    "    characters = {'(':1, '[':2, '{':3, ')': 1,']' :2,'}':3}\n",
    "    charnum=[]\n",
    "    for value in string:\n",
    "        if value in open_par:\n",
    "            positionopen.append(value)\n",
    "        elif value in closed_par:\n",
    "            positionclosed.append(value)\n",
    "       # replace list values with numbers to equate \n",
    "    for key, value in characters.iteritems():\n",
    "        for i in positionopen:\n",
    "            i = i.replace(key, value)\n",
    "    return positionopen, positionclosed"
   ]
  },
  {
   "cell_type": "code",
   "execution_count": null,
   "metadata": {},
   "outputs": [],
   "source": []
  },
  {
   "cell_type": "code",
   "execution_count": null,
   "metadata": {},
   "outputs": [],
   "source": []
  }
 ],
 "metadata": {
  "kernelspec": {
   "display_name": "Python 3",
   "language": "python",
   "name": "python3"
  },
  "language_info": {
   "codemirror_mode": {
    "name": "ipython",
    "version": 3
   },
   "file_extension": ".py",
   "mimetype": "text/x-python",
   "name": "python",
   "nbconvert_exporter": "python",
   "pygments_lexer": "ipython3",
   "version": "3.6.7"
  }
 },
 "nbformat": 4,
 "nbformat_minor": 2
}
