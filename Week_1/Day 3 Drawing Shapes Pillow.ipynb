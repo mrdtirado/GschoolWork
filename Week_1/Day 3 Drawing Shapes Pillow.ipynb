{
 "cells": [
  {
   "cell_type": "code",
   "execution_count": 7,
   "metadata": {},
   "outputs": [
    {
     "name": "stdout",
     "output_type": "stream",
     "text": [
      "The autoreload extension is already loaded. To reload it, use:\n",
      "  %reload_ext autoreload\n"
     ]
    },
    {
     "ename": "ImportError",
     "evalue": "cannot import name 'circle'",
     "output_type": "error",
     "traceback": [
      "\u001b[0;31m---------------------------------------------------------------------------\u001b[0m",
      "\u001b[0;31mImportError\u001b[0m                               Traceback (most recent call last)",
      "\u001b[0;32m<ipython-input-7-59133388e189>\u001b[0m in \u001b[0;36m<module>\u001b[0;34m\u001b[0m\n\u001b[1;32m      5\u001b[0m \u001b[0;32mfrom\u001b[0m \u001b[0mPIL\u001b[0m \u001b[0;32mimport\u001b[0m \u001b[0;34m*\u001b[0m\u001b[0;34m\u001b[0m\u001b[0;34m\u001b[0m\u001b[0m\n\u001b[1;32m      6\u001b[0m \u001b[0;32mimport\u001b[0m \u001b[0mos\u001b[0m\u001b[0;34m\u001b[0m\u001b[0;34m\u001b[0m\u001b[0m\n\u001b[0;32m----> 7\u001b[0;31m \u001b[0;32mfrom\u001b[0m \u001b[0moop\u001b[0m\u001b[0;34m.\u001b[0m\u001b[0msrc\u001b[0m\u001b[0;34m.\u001b[0m\u001b[0mshapes\u001b[0m \u001b[0;32mimport\u001b[0m \u001b[0mcircle\u001b[0m\u001b[0;34m\u001b[0m\u001b[0;34m\u001b[0m\u001b[0m\n\u001b[0m",
      "\u001b[0;31mImportError\u001b[0m: cannot import name 'circle'"
     ]
    }
   ],
   "source": [
    "import matplotlib.pyplot as plt\n",
    "plt.ion()\n",
    "%load_ext autoreload\n",
    "%autoreload 2\n",
    "from PIL import *\n",
    "import os\n",
    "from oop.src.shapes import circle"
   ]
  },
  {
   "cell_type": "code",
   "execution_count": 6,
   "metadata": {},
   "outputs": [
    {
     "name": "stdout",
     "output_type": "stream",
     "text": [
      "'Assessment 1.ipynb'\r\n",
      "'BootCamp Master Notes.ipynb'\r\n",
      "'Bootcamp Warmups.ipynb'\r\n",
      " Desktop\r\n",
      " Documents\r\n",
      " Downloads\r\n",
      " dsi-assessment-day1\r\n",
      " DSI_Lectures\r\n",
      " dsi-warmups\r\n",
      " examples.desktop\r\n",
      " matplotlib\r\n",
      "'Morning Assignment Day 3 Drawing Shapes Pillow.ipynb'\r\n",
      " Music\r\n",
      " oop\r\n",
      " opencv\r\n",
      " opencv_contrib\r\n",
      " pandas\r\n",
      " Pandas.ipynb\r\n",
      " Pictures\r\n",
      " Public\r\n",
      " rootkey.csv\r\n",
      " snap\r\n",
      " Templates\r\n",
      " transformers\r\n",
      " Untitled.ipynb\r\n",
      " Videos\r\n",
      "'Warm up Day 3 Pandas Salary.ipynb'\r\n"
     ]
    }
   ],
   "source": [
    "!ls"
   ]
  },
  {
   "cell_type": "code",
   "execution_count": 11,
   "metadata": {},
   "outputs": [
    {
     "ename": "ModuleNotFoundError",
     "evalue": "No module named 'shapes'",
     "output_type": "error",
     "traceback": [
      "\u001b[0;31m---------------------------------------------------------------------------\u001b[0m",
      "\u001b[0;31mModuleNotFoundError\u001b[0m                       Traceback (most recent call last)",
      "\u001b[0;32m<ipython-input-11-3145356e1e7e>\u001b[0m in \u001b[0;36m<module>\u001b[0;34m\u001b[0m\n\u001b[0;32m----> 1\u001b[0;31m \u001b[0;32mfrom\u001b[0m \u001b[0mshapes\u001b[0m\u001b[0;34m.\u001b[0m\u001b[0mpy\u001b[0m \u001b[0;32mimport\u001b[0m \u001b[0mcircle\u001b[0m\u001b[0;34m\u001b[0m\u001b[0;34m\u001b[0m\u001b[0m\n\u001b[0m",
      "\u001b[0;31mModuleNotFoundError\u001b[0m: No module named 'shapes'"
     ]
    }
   ],
   "source": [
    "from shapes.py import circle"
   ]
  },
  {
   "cell_type": "code",
   "execution_count": 18,
   "metadata": {},
   "outputs": [],
   "source": [
    "a,b, c = (100,100, 50, (255,0,0))[0:3]"
   ]
  },
  {
   "cell_type": "code",
   "execution_count": 20,
   "metadata": {},
   "outputs": [],
   "source": [
    "import math\n",
    "\n",
    "class Circle():\n",
    "    \"\"\"A circular shape as defined by a center point and radius.\n",
    "    This shape is designed to be drawn using SimpleGUI (see simplegui.py).\n",
    "\n",
    "    Parameters\n",
    "    ----------\n",
    "    cx      : {int} x coordinate of the center point\n",
    "    cy      : {int} y coordinate of the center point\n",
    "    radius  : {int} radius of the circle\n",
    "    color   : {tuple} of (r,g,b) coordinates\n",
    "    \"\"\"\n",
    "    def __init__(self, cx, cy, radius, color):\n",
    "        \"\"\"Constructs a Circle instance\n",
    "        centered around (cx,cy) with given radius and color.\n",
    "        \"\"\"\n",
    "        self.cx = cx\n",
    "        self.cy = cy\n",
    "        self.radius = radius\n",
    "        self.color = color\n",
    "\n",
    "    def mu(self, x, y):\n",
    "        \"\"\"Characteristic function of the shape.\n",
    "        Returns True if (x,y) is inside the shape, else False.\n",
    "\n",
    "        Parameters\n",
    "        ----------\n",
    "        x : {int} x coordinate of a pixel\n",
    "        y : {int} y coordinate of a pixel\n",
    "\n",
    "        Returns\n",
    "        -------\n",
    "        bool : True or False whether (x,y) is within the shape.\n",
    "        \"\"\"\n",
    "        t_dist = math.sqrt((x - self.cx)**2 + (y - self.cy)**2)\n",
    "        return (t_dist < self.radius)\n",
    "\n",
    "\n",
    "class Rectangle():\n",
    "    \"\"\"A rectangular shape as defined by two extreme pixels points\n",
    "    (one upper-left, one lower-right).\n",
    "    This shape is designed to be drawn using SimpleGUI (see simplegui.py).\n",
    "\n",
    "    Parameters\n",
    "    ----------\n",
    "    x0      : {int} x coordinate of the top-left point\n",
    "    y0      : {int} y coordinate of the top-left point\n",
    "    x1      : {int} x coordinate of the bottom-right point\n",
    "    y1      : {int} y coordinate of the bottom-right point\n",
    "    color   : {tuple} of (r,g,b) coordinates\n",
    "    \"\"\"\n",
    "    def __init__(self, x0, y0, x1, y1, color):\n",
    "        \"\"\"Constructs a Rectangle instance\n",
    "        with top-left point (x0,y0), bottom-right (x1,y1) and color.\n",
    "        \"\"\"\n",
    "        self.cx0 = x0\n",
    "        self.cy0 = y0\n",
    "        self.cx1 = x1\n",
    "        self.cy1 = y1\n",
    "        self.color = color\n",
    "\n",
    "    def mu(self, x, y):\n",
    "        \"\"\"Characteristic function of the shape.\n",
    "        Returns True if (x,y) is inside the shape, else False.\n",
    "\n",
    "        Parameters\n",
    "        ----------\n",
    "        x : {int} x coordinate of a pixel\n",
    "        y : {int} y coordinate of a pixel\n",
    "\n",
    "        Returns\n",
    "        -------\n",
    "        bool : True or False whether (x,y) is within the shape.\n",
    "        \"\"\"\n",
    "        if (x > self.cx0 and x < self.cx1 and y > self.cy0 and y < self.cy1):\n",
    "            return True\n",
    "        else:\n",
    "            return False\n"
   ]
  },
  {
   "cell_type": "code",
   "execution_count": 23,
   "metadata": {},
   "outputs": [],
   "source": [
    "#!/usr/bin/env python\n",
    "# -*- coding: utf-8 -*-\n",
    "\n",
    "from PIL import Image\n",
    "import matplotlib.pyplot as plt\n",
    "import numpy as np\n",
    "\n",
    "class SimpleGUI():\n",
    "    \"\"\"A Graphical User Interface using matploblib to display\n",
    "    shapes using their characteristic function.\n",
    "\n",
    "    Each shape is represented by a class with a color and a characteristic\n",
    "    function (method) mu(). For displaying shapes, this class\n",
    "\n",
    "    Parameters\n",
    "    ----------\n",
    "    None\n",
    "\n",
    "    Attributes\n",
    "    ----------\n",
    "    width  : {int} the width of the image generated\n",
    "        and the maximum value for x coordinates of pixels.\n",
    "    height : {int} the height of the image generated\n",
    "        and the maximum value for y coordinates of pixels.\n",
    "    pixels : the matrix of colors for each pixel (to generate img)\n",
    "    img    : {PIL.Image} the image generated for display.\n",
    "    \"\"\"\n",
    "    def __init__(self):\n",
    "        self.width = 640\n",
    "        self.height = 480\n",
    "        self.img = None\n",
    "        self.pixels = None\n",
    "        self.clear()\n",
    "\n",
    "    def show(self):\n",
    "        \"\"\"Shows the current image on display (uses matplotlib).\n",
    "        Uses attribute img, transforms it into an array\n",
    "        and use plt.imshow() to display it.\n",
    "\n",
    "        Parameters\n",
    "        ----------\n",
    "        None\n",
    "\n",
    "        Returns\n",
    "        -------\n",
    "        None\n",
    "        \"\"\"\n",
    "        plt.imshow(np.asarray(self.img), aspect='equal')\n",
    "        plt.axis('off')\n",
    "        plt.show()\n",
    "\n",
    "    def clear(self):\n",
    "        \"\"\" Resets the image to white, draw a black border around.\n",
    "\n",
    "        Parameters\n",
    "        ----------\n",
    "        None\n",
    "\n",
    "        Returns\n",
    "        -------\n",
    "        None\n",
    "        \"\"\"\n",
    "        self.img = Image.new( 'RGB', (self.width, self.height), \"white\" )\n",
    "        self.pixels = self.img.load()\n",
    "        # horizontal borders\n",
    "        for i in range(self.width):\n",
    "            self.pixels[i,0] = (0, 0, 0)\n",
    "            self.pixels[i,self.height-1] = (0, 0, 0)\n",
    "        # vertical borders\n",
    "        for j in range(self.height):\n",
    "            self.pixels[0,j] = (0, 0, 0)\n",
    "            self.pixels[self.width-1,j] = (0, 0, 0)\n",
    "\n",
    "    def test(self):\n",
    "        \"\"\"Displays a test image.\n",
    "\n",
    "        Parameters\n",
    "        ----------\n",
    "        None\n",
    "\n",
    "        Returns\n",
    "        -------\n",
    "        None\n",
    "        \"\"\"\n",
    "        self.clear()\n",
    "        for i in range(self.width):\n",
    "            for j in range(self.height):\n",
    "                self.pixels[i,j] = (i % 255, j % 255, 128)\n",
    "        self.show()\n",
    "\n",
    "    def draw(self, shape_list):\n",
    "        \"\"\"Draw a list of shapes as defined in module shapes.py\n",
    "        and show() the result.\n",
    "\n",
    "        Parameters\n",
    "        ----------\n",
    "        shape_list : a {list} of shapes\n",
    "\n",
    "        Returns\n",
    "        -------\n",
    "        None\n",
    "        \"\"\"\n",
    "        # clears the image\n",
    "        self.clear()\n",
    "\n",
    "        # checks for every pixel in the image\n",
    "        for i in range(self.width):\n",
    "            for j in range(self.height):\n",
    "                # if we are in one of the areas in the list\n",
    "                for o in shape_list:\n",
    "                    if o.mu(i,j):\n",
    "                        # drop a pixel in there, using color of the area\n",
    "                        self.pixels[i,j] = o.color\n",
    "\n",
    "        # systematically show the resulting image\n",
    "        self.show()"
   ]
  },
  {
   "cell_type": "code",
   "execution_count": 24,
   "metadata": {},
   "outputs": [],
   "source": [
    "circle1 = Circle(100,100, 50, (255,0,0))\n",
    "circle2 = Circle(200,100, 70, (0,255,0))\n",
    "circle3 = Circle(100,200, 10, (0,0,255))"
   ]
  },
  {
   "cell_type": "code",
   "execution_count": 25,
   "metadata": {},
   "outputs": [
    {
     "name": "stdout",
     "output_type": "stream",
     "text": [
      "inside 0, 0\n",
      "False\n",
      "inside 100, 70\n",
      "True\n",
      "inside 300, 20\n",
      "False\n"
     ]
    }
   ],
   "source": [
    "print(\"inside 0, 0\")\n",
    "print(Circle.mu(circle1, 0,0))\n",
    "print(\"inside 100, 70\")\n",
    "print(Circle.mu(circle1, 100,70))\n",
    "print(\"inside 300, 20\")\n",
    "print(Circle.mu(circle1, 300,20))"
   ]
  },
  {
   "cell_type": "code",
   "execution_count": 26,
   "metadata": {},
   "outputs": [],
   "source": [
    "gui = SimpleGUI()"
   ]
  },
  {
   "cell_type": "code",
   "execution_count": 27,
   "metadata": {},
   "outputs": [
    {
     "data": {
      "image/png": "[encoded data removed]",
      "text/plain": [
       "<Figure size 432x288 with 1 Axes>"
      ]
     },
     "metadata": {
      "needs_background": "light"
     },
     "output_type": "display_data"
    }
   ],
   "source": [
    "gui.test()"
   ]
  },
  {
   "cell_type": "code",
   "execution_count": 28,
   "metadata": {},
   "outputs": [],
   "source": [
    "shapelist = [circle1, circle2, circle3]"
   ]
  },
  {
   "cell_type": "code",
   "execution_count": 79,
   "metadata": {},
   "outputs": [],
   "source": [
    "import math\n",
    "\n",
    "class UnionShape():\n",
    "    '''\n",
    "    The union of two shapes will return true on points that belong to shape_a or shape_b\n",
    "    '''\n",
    "\n",
    "    def __init__(self, shape_a, shape_b):\n",
    "        self.shape_a = shape_a\n",
    "        self.shape_b = shape_b\n",
    "\n",
    "    def color_avg(self):\n",
    "        color_avg = (self.shape_a.color + self.shape_b.color)/2\n",
    "        return color_avg\n",
    "\n",
    "    def mu(self,x,y):\n",
    "        \"\"\"Characteristic function of the shape.\n",
    "        Returns True if shape_a is inside shape_b, else False.\n",
    "\n",
    "        Returns\n",
    "        -------\n",
    "        bool : True or False whether shape_a is within shape_b.\n",
    "        \"\"\"\n",
    "        utest = (self.shape_a.mu(x,y) or self.shape_b.mu(x,y), self.shape_a.color)\n",
    "        return utest"
   ]
  },
  {
   "cell_type": "code",
   "execution_count": 64,
   "metadata": {},
   "outputs": [
    {
     "data": {
      "image/png": "[encoded data removed]",
      "text/plain": [
       "<Figure size 432x288 with 1 Axes>"
      ]
     },
     "metadata": {
      "needs_background": "light"
     },
     "output_type": "display_data"
    }
   ],
   "source": [
    "gui = SimpleGUI()\n",
    "\n",
    "circle1 = Circle(100, 100, 50, (255, 0, 0))\n",
    "circle2 = Circle(150, 100, 50, (0, 0, 255))\n",
    "\n",
    "circle3 = Circle(300, 100, 50, (255, 0, 0))\n",
    "circle4 = Circle(350, 100, 50, (0, 0, 255))\n",
    "\n",
    "circle5 = Circle(100, 300, 50, (255, 0, 0))\n",
    "circle6 = Circle(150, 300, 50, (0, 0, 255))\n",
    "\n",
    "circle7 = Circle(300, 300, 50, (255, 0, 0))\n",
    "circle8 = Circle(350, 300, 50, (0, 0, 255))\n",
    "\n",
    "shapelist = [circle1, circle2,\n",
    "            circle3, circle4,\n",
    "            circle5, circle6,\n",
    "            circle7, circle8]\n",
    "\n",
    "gui.draw(shapelist)\n",
    "\n"
   ]
  },
  {
   "cell_type": "code",
   "execution_count": 80,
   "metadata": {},
   "outputs": [
    {
     "ename": "TypeError",
     "evalue": "mu() missing 1 required positional argument: 'y'",
     "output_type": "error",
     "traceback": [
      "\u001b[0;31m---------------------------------------------------------------------------\u001b[0m",
      "\u001b[0;31mTypeError\u001b[0m                                 Traceback (most recent call last)",
      "\u001b[0;32m<ipython-input-80-0093def5fb24>\u001b[0m in \u001b[0;36m<module>\u001b[0;34m\u001b[0m\n\u001b[0;32m----> 1\u001b[0;31m \u001b[0mUnionShape\u001b[0m\u001b[0;34m.\u001b[0m\u001b[0mmu\u001b[0m\u001b[0;34m(\u001b[0m\u001b[0mcircle1\u001b[0m\u001b[0;34m,\u001b[0m \u001b[0mcircle2\u001b[0m\u001b[0;34m)\u001b[0m\u001b[0;34m\u001b[0m\u001b[0;34m\u001b[0m\u001b[0m\n\u001b[0m",
      "\u001b[0;31mTypeError\u001b[0m: mu() missing 1 required positional argument: 'y'"
     ]
    }
   ],
   "source": [
    "UnionShape.mu(circle1, circle2)\n"
   ]
  },
  {
   "cell_type": "code",
   "execution_count": null,
   "metadata": {},
   "outputs": [],
   "source": []
  }
 ],
 "metadata": {
  "kernelspec": {
   "display_name": "Python 3",
   "language": "python",
   "name": "python3"
  },
  "language_info": {
   "codemirror_mode": {
    "name": "ipython",
    "version": 3
   },
   "file_extension": ".py",
   "mimetype": "text/x-python",
   "name": "python",
   "nbconvert_exporter": "python",
   "pygments_lexer": "ipython3",
   "version": "3.6.7"
  }
 },
 "nbformat": 4,
 "nbformat_minor": 2
}
